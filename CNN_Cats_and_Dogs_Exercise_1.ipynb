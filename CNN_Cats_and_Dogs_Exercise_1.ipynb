{
  "nbformat": 4,
  "nbformat_minor": 0,
  "metadata": {
    "colab": {
      "provenance": []
    },
    "kernelspec": {
      "display_name": "Python 3",
      "language": "python",
      "name": "python3"
    },
    "accelerator": "GPU"
  },
  "cells": [
    {
      "cell_type": "markdown",
      "metadata": {
        "id": "KBIpjEBDHaMS"
      },
      "source": [
        "## <b>01 : Frame the Problem</b>"
      ]
    },
    {
      "cell_type": "code",
      "metadata": {
        "id": "w6v-8GwxyS7m"
      },
      "source": [
        "from keras.models import Sequential\n",
        "from keras.layers import Conv2D\n",
        "from keras.layers import MaxPooling2D\n",
        "from keras.layers import Flatten\n",
        "from keras.layers import Dense"
      ],
      "execution_count": null,
      "outputs": []
    },
    {
      "cell_type": "code",
      "metadata": {
        "id": "CJ7xfKi8brHf",
        "colab": {
          "base_uri": "https://localhost:8080/"
        },
        "outputId": "517d68d2-4927-4cdb-c573-f8489ebc9665"
      },
      "source": [
        "from tensorflow.python.client import device_lib\n",
        "print(device_lib.list_local_devices())"
      ],
      "execution_count": null,
      "outputs": [
        {
          "output_type": "stream",
          "name": "stdout",
          "text": [
            "[name: \"/device:CPU:0\"\n",
            "device_type: \"CPU\"\n",
            "memory_limit: 268435456\n",
            "locality {\n",
            "}\n",
            "incarnation: 11945106216465475018\n",
            "xla_global_id: -1\n",
            ", name: \"/device:GPU:0\"\n",
            "device_type: \"GPU\"\n",
            "memory_limit: 14328594432\n",
            "locality {\n",
            "  bus_id: 1\n",
            "  links {\n",
            "  }\n",
            "}\n",
            "incarnation: 5742555735815888812\n",
            "physical_device_desc: \"device: 0, name: Tesla T4, pci bus id: 0000:00:04.0, compute capability: 7.5\"\n",
            "xla_global_id: 416903419\n",
            "]\n"
          ]
        }
      ]
    },
    {
      "cell_type": "markdown",
      "metadata": {
        "id": "c7oRxXGbHaMT"
      },
      "source": [
        "## <b>02 : Obtaining the Data</b>"
      ]
    },
    {
      "cell_type": "code",
      "metadata": {
        "id": "S5Mzrytp64X_",
        "colab": {
          "base_uri": "https://localhost:8080/"
        },
        "outputId": "4cc768e1-b8ac-4b78-8209-1a32c2a0fdc5"
      },
      "source": [
        "ls -l"
      ],
      "execution_count": null,
      "outputs": [
        {
          "output_type": "stream",
          "name": "stdout",
          "text": [
            "total 4\n",
            "drwxr-xr-x 1 root root 4096 Aug 14 13:34 \u001b[0m\u001b[01;34msample_data\u001b[0m/\n"
          ]
        }
      ]
    },
    {
      "cell_type": "code",
      "metadata": {
        "id": "N2eN-waRyXKZ",
        "colab": {
          "base_uri": "https://localhost:8080/"
        },
        "outputId": "bd4f1139-c5f3-40c2-a575-b5c4f615b998"
      },
      "source": [
        "!wget https://www.dropbox.com/s/avul1qk8eeaqebo/dataset.zip"
      ],
      "execution_count": null,
      "outputs": [
        {
          "output_type": "stream",
          "name": "stdout",
          "text": [
            "--2023-08-16 00:41:45--  https://www.dropbox.com/s/avul1qk8eeaqebo/dataset.zip\n",
            "Resolving www.dropbox.com (www.dropbox.com)... 162.125.1.18, 2620:100:6016:18::a27d:112\n",
            "Connecting to www.dropbox.com (www.dropbox.com)|162.125.1.18|:443... connected.\n",
            "HTTP request sent, awaiting response... 302 Found\n",
            "Location: /s/raw/avul1qk8eeaqebo/dataset.zip [following]\n",
            "--2023-08-16 00:41:46--  https://www.dropbox.com/s/raw/avul1qk8eeaqebo/dataset.zip\n",
            "Reusing existing connection to www.dropbox.com:443.\n",
            "HTTP request sent, awaiting response... 302 Found\n",
            "Location: https://ucfc578de19787faa9a2f0f96c6b.dl.dropboxusercontent.com/cd/0/inline/CB3NSIfZun29RXGRYFARxxkYacrFt3eoX5PtaVaT-8QLjt0KpzkEVojbjy5eWkhGSr9RTbWvwcF0jJ9mxYjjtnU_Pkt6xDoZ6Fj2cCDAc9jGtkEnUJwJoXsMH2-4v3648fw/file# [following]\n",
            "--2023-08-16 00:41:46--  https://ucfc578de19787faa9a2f0f96c6b.dl.dropboxusercontent.com/cd/0/inline/CB3NSIfZun29RXGRYFARxxkYacrFt3eoX5PtaVaT-8QLjt0KpzkEVojbjy5eWkhGSr9RTbWvwcF0jJ9mxYjjtnU_Pkt6xDoZ6Fj2cCDAc9jGtkEnUJwJoXsMH2-4v3648fw/file\n",
            "Resolving ucfc578de19787faa9a2f0f96c6b.dl.dropboxusercontent.com (ucfc578de19787faa9a2f0f96c6b.dl.dropboxusercontent.com)... 162.125.1.15, 2620:100:6016:15::a27d:10f\n",
            "Connecting to ucfc578de19787faa9a2f0f96c6b.dl.dropboxusercontent.com (ucfc578de19787faa9a2f0f96c6b.dl.dropboxusercontent.com)|162.125.1.15|:443... connected.\n",
            "HTTP request sent, awaiting response... 302 Found\n",
            "Location: /cd/0/inline2/CB2pd_89O-O3nI2FhBAtWpPEXkX_QQF4LPL1t3EJC0sPK556RKY6dsY-3WsoIyOvIy6dDK-lPNix_kmhJoqZ0-Znd4Gx2YFSFFBf9FZr_Z3HFn1fZv9pSrGX7sF9Fc66Va6HmrdIj_zE9hTGIwpiAz46tBtVMkMIrPclEhz_59VrW-NtsaSAFmTF_9VBTNJpb89w9y2vOGBFoKcb7wO787CN1NJ-AJkwUqtWg_ZdYRFSL8t0HPsZx79QxuT4n-woqcdx7YWHPWHxplMso0dS15QLXXRg7kGH0nI4aEvR_2WJ9MHoZdiQBzlNpb5Rxg2hJ57uwXgR_E7mnUuM0uMX4zG0-ExBD6Sa4DYcyiixdTUXVw/file [following]\n",
            "--2023-08-16 00:41:47--  https://ucfc578de19787faa9a2f0f96c6b.dl.dropboxusercontent.com/cd/0/inline2/CB2pd_89O-O3nI2FhBAtWpPEXkX_QQF4LPL1t3EJC0sPK556RKY6dsY-3WsoIyOvIy6dDK-lPNix_kmhJoqZ0-Znd4Gx2YFSFFBf9FZr_Z3HFn1fZv9pSrGX7sF9Fc66Va6HmrdIj_zE9hTGIwpiAz46tBtVMkMIrPclEhz_59VrW-NtsaSAFmTF_9VBTNJpb89w9y2vOGBFoKcb7wO787CN1NJ-AJkwUqtWg_ZdYRFSL8t0HPsZx79QxuT4n-woqcdx7YWHPWHxplMso0dS15QLXXRg7kGH0nI4aEvR_2WJ9MHoZdiQBzlNpb5Rxg2hJ57uwXgR_E7mnUuM0uMX4zG0-ExBD6Sa4DYcyiixdTUXVw/file\n",
            "Reusing existing connection to ucfc578de19787faa9a2f0f96c6b.dl.dropboxusercontent.com:443.\n",
            "HTTP request sent, awaiting response... 200 OK\n",
            "Length: 227353580 (217M) [application/zip]\n",
            "Saving to: ‘dataset.zip’\n",
            "\n",
            "dataset.zip         100%[===================>] 216.82M  81.5MB/s    in 2.7s    \n",
            "\n",
            "2023-08-16 00:41:50 (81.5 MB/s) - ‘dataset.zip’ saved [227353580/227353580]\n",
            "\n"
          ]
        }
      ]
    },
    {
      "cell_type": "code",
      "metadata": {
        "id": "1gbdlYboyi4W",
        "colab": {
          "base_uri": "https://localhost:8080/"
        },
        "outputId": "35e0e234-04ec-4c0e-9f47-2fc6053f2b25"
      },
      "source": [
        "ls -l"
      ],
      "execution_count": null,
      "outputs": [
        {
          "output_type": "stream",
          "name": "stdout",
          "text": [
            "total 222036\n",
            "-rw-r--r-- 1 root root 227353580 Aug 16 00:41 dataset.zip\n",
            "drwxr-xr-x 1 root root      4096 Aug 14 13:34 \u001b[0m\u001b[01;34msample_data\u001b[0m/\n"
          ]
        }
      ]
    },
    {
      "cell_type": "code",
      "metadata": {
        "id": "TicydoyRqDqj"
      },
      "source": [
        "!unzip dataset.zip >> 0"
      ],
      "execution_count": null,
      "outputs": []
    },
    {
      "cell_type": "code",
      "metadata": {
        "id": "XxXen4aryic8",
        "outputId": "46b3bf59-f122-45a7-e519-d09728b0ab81",
        "colab": {
          "base_uri": "https://localhost:8080/"
        }
      },
      "source": [
        "!ls -l"
      ],
      "execution_count": null,
      "outputs": [
        {
          "output_type": "stream",
          "name": "stdout",
          "text": [
            "total 222556\n",
            "-rw-r--r-- 1 root root    522131 Aug 16 00:41 0\n",
            "drwxr-xr-x 5 root root      4096 Jun  6  2018 dataset\n",
            "-rw-r--r-- 1 root root 227353580 Aug 16 00:41 dataset.zip\n",
            "drwxrwxr-x 3 root root      4096 Aug  9  2018 __MACOSX\n",
            "drwxr-xr-x 1 root root      4096 Aug 14 13:34 sample_data\n"
          ]
        }
      ]
    },
    {
      "cell_type": "code",
      "source": [
        "!ls -alh dataset"
      ],
      "metadata": {
        "colab": {
          "base_uri": "https://localhost:8080/"
        },
        "id": "LVl0MQ3g0qoo",
        "outputId": "1e0d2e3f-e8ab-4ce7-f12d-7584eb353587"
      },
      "execution_count": null,
      "outputs": [
        {
          "output_type": "stream",
          "name": "stdout",
          "text": [
            "total 20K\n",
            "drwxr-xr-x 5 root root 4.0K Jun  6  2018 .\n",
            "drwxr-xr-x 1 root root 4.0K Aug 16 00:41 ..\n",
            "-rw-r--r-- 1 root root    0 Jun  6  2018 Icon\n",
            "drwxr-xr-x 2 root root 4.0K Jun  7  2018 single_prediction\n",
            "drwxr-xr-x 4 root root 4.0K Jun  6  2018 test_set\n",
            "drwxr-xr-x 4 root root 4.0K Jun  6  2018 training_set\n"
          ]
        }
      ]
    },
    {
      "cell_type": "code",
      "source": [
        "!ls -alh dataset/training_set/"
      ],
      "metadata": {
        "colab": {
          "base_uri": "https://localhost:8080/"
        },
        "id": "i9Jrnm0T0vsB",
        "outputId": "a5fa8264-0b99-4934-b3a9-cb7ca7ff255e"
      },
      "execution_count": null,
      "outputs": [
        {
          "output_type": "stream",
          "name": "stdout",
          "text": [
            "total 264K\n",
            "drwxr-xr-x 4 root root 4.0K Jun  6  2018 .\n",
            "drwxr-xr-x 5 root root 4.0K Jun  6  2018 ..\n",
            "drwxr-xr-x 2 root root 128K Aug  9  2018 cats\n",
            "drwxr-xr-x 2 root root 128K Aug  9  2018 dogs\n",
            "-rw-r--r-- 1 root root    0 Jun  6  2018 Icon\n"
          ]
        }
      ]
    },
    {
      "cell_type": "code",
      "source": [
        "!ls -alh dataset/test_set/"
      ],
      "metadata": {
        "colab": {
          "base_uri": "https://localhost:8080/"
        },
        "id": "xUPSiTLD08xU",
        "outputId": "3a742888-293c-48a3-c697-c2045967c06b"
      },
      "execution_count": null,
      "outputs": [
        {
          "output_type": "stream",
          "name": "stdout",
          "text": [
            "total 76K\n",
            "drwxr-xr-x 4 root root 4.0K Jun  6  2018 .\n",
            "drwxr-xr-x 5 root root 4.0K Jun  6  2018 ..\n",
            "drwxr-xr-x 2 root root  32K Aug  9  2018 cats\n",
            "drwxr-xr-x 2 root root  36K Aug  9  2018 dogs\n",
            "-rw-r--r-- 1 root root    0 Jun  6  2018 Icon\n"
          ]
        }
      ]
    },
    {
      "cell_type": "markdown",
      "metadata": {
        "id": "00wtzURRsGhm"
      },
      "source": [
        "## <b>03 : Feature Engineering</b>"
      ]
    },
    {
      "cell_type": "code",
      "metadata": {
        "id": "ibyyAFN_yS8X"
      },
      "source": [
        "from keras.preprocessing.image import ImageDataGenerator"
      ],
      "execution_count": null,
      "outputs": []
    },
    {
      "cell_type": "code",
      "metadata": {
        "id": "18_0bOw-yS8b"
      },
      "source": [
        "train_datagen = ImageDataGenerator(rescale = 1./255,\n",
        "                                   shear_range = 0.2,\n",
        "                                   zoom_range = 0.2,\n",
        "                                   horizontal_flip = True)"
      ],
      "execution_count": null,
      "outputs": []
    },
    {
      "cell_type": "code",
      "metadata": {
        "id": "breVxyxnaKkC"
      },
      "source": [
        "test_datagen = ImageDataGenerator(rescale = 1./255)"
      ],
      "execution_count": null,
      "outputs": []
    },
    {
      "cell_type": "code",
      "metadata": {
        "id": "r27CJS5H_l8J",
        "colab": {
          "base_uri": "https://localhost:8080/"
        },
        "outputId": "d6cb2b5e-d4c8-44e2-fca8-8798cd9ef8bc"
      },
      "source": [
        "ls -l"
      ],
      "execution_count": null,
      "outputs": [
        {
          "output_type": "stream",
          "name": "stdout",
          "text": [
            "total 222556\n",
            "-rw-r--r-- 1 root root    522131 Aug 16 00:41 0\n",
            "drwxr-xr-x 5 root root      4096 Jun  6  2018 \u001b[0m\u001b[01;34mdataset\u001b[0m/\n",
            "-rw-r--r-- 1 root root 227353580 Aug 16 00:41 dataset.zip\n",
            "drwxrwxr-x 3 root root      4096 Aug  9  2018 \u001b[01;34m__MACOSX\u001b[0m/\n",
            "drwxr-xr-x 1 root root      4096 Aug 14 13:34 \u001b[01;34msample_data\u001b[0m/\n"
          ]
        }
      ]
    },
    {
      "cell_type": "code",
      "metadata": {
        "id": "jnzTkrO9_tI5",
        "colab": {
          "base_uri": "https://localhost:8080/"
        },
        "outputId": "c1a2692e-be88-407a-aef7-3cb068cc9d72"
      },
      "source": [
        "cd dataset/\n"
      ],
      "execution_count": null,
      "outputs": [
        {
          "output_type": "stream",
          "name": "stdout",
          "text": [
            "/content/dataset\n"
          ]
        }
      ]
    },
    {
      "cell_type": "code",
      "metadata": {
        "id": "AhCXNE1z_xmg",
        "colab": {
          "base_uri": "https://localhost:8080/"
        },
        "outputId": "3c483ea2-5169-4a1a-ca8f-eaef7a6e6a16"
      },
      "source": [
        "ls -l"
      ],
      "execution_count": null,
      "outputs": [
        {
          "output_type": "stream",
          "name": "stdout",
          "text": [
            "total 12\n",
            "-rw-r--r-- 1 root root    0 Jun  6  2018 Icon\n",
            "drwxr-xr-x 2 root root 4096 Jun  7  2018 \u001b[0m\u001b[01;34msingle_prediction\u001b[0m/\n",
            "drwxr-xr-x 4 root root 4096 Jun  6  2018 \u001b[01;34mtest_set\u001b[0m/\n",
            "drwxr-xr-x 4 root root 4096 Jun  6  2018 \u001b[01;34mtraining_set\u001b[0m/\n"
          ]
        }
      ]
    },
    {
      "cell_type": "code",
      "metadata": {
        "id": "ArInNuEK_3vF",
        "colab": {
          "base_uri": "https://localhost:8080/"
        },
        "outputId": "2cf4eace-5db3-4dc2-9b47-049f780fdf72"
      },
      "source": [
        "cd training_set"
      ],
      "execution_count": null,
      "outputs": [
        {
          "output_type": "stream",
          "name": "stdout",
          "text": [
            "/content/dataset/training_set\n"
          ]
        }
      ]
    },
    {
      "cell_type": "code",
      "metadata": {
        "id": "NrLY7MTV_7Ve",
        "colab": {
          "base_uri": "https://localhost:8080/"
        },
        "outputId": "4281f144-d196-4551-cffc-aad77e025fed"
      },
      "source": [
        "ls -l"
      ],
      "execution_count": null,
      "outputs": [
        {
          "output_type": "stream",
          "name": "stdout",
          "text": [
            "total 256\n",
            "drwxr-xr-x 2 root root 131072 Aug  9  2018 \u001b[0m\u001b[01;34mcats\u001b[0m/\n",
            "drwxr-xr-x 2 root root 131072 Aug  9  2018 \u001b[01;34mdogs\u001b[0m/\n",
            "-rw-r--r-- 1 root root      0 Jun  6  2018 Icon\n"
          ]
        }
      ]
    },
    {
      "cell_type": "code",
      "metadata": {
        "id": "yz3OiOMxY6K_",
        "colab": {
          "base_uri": "https://localhost:8080/"
        },
        "outputId": "8ea05971-559d-41fe-d535-254487f8a6cc"
      },
      "source": [
        "cd cats/"
      ],
      "execution_count": null,
      "outputs": [
        {
          "output_type": "stream",
          "name": "stdout",
          "text": [
            "/content/dataset/training_set/cats\n"
          ]
        }
      ]
    },
    {
      "cell_type": "code",
      "metadata": {
        "id": "AAMsvO7uY-RM",
        "colab": {
          "base_uri": "https://localhost:8080/"
        },
        "outputId": "ac60c8e8-4436-492c-dbc6-93df78a2ce20"
      },
      "source": [
        "ls"
      ],
      "execution_count": null,
      "outputs": [
        {
          "output_type": "stream",
          "name": "stdout",
          "text": [
            "cat.1000.jpg  cat.171.jpg   cat.2447.jpg  cat.3170.jpg  cat.3888.jpg\n",
            "cat.1001.jpg  cat.1720.jpg  cat.2448.jpg  cat.3171.jpg  cat.3889.jpg\n",
            "cat.1002.jpg  cat.1722.jpg  cat.2449.jpg  cat.3172.jpg  cat.388.jpg\n",
            "cat.1003.jpg  cat.1723.jpg  cat.244.jpg   cat.3173.jpg  cat.3890.jpg\n",
            "cat.1004.jpg  cat.1724.jpg  cat.2450.jpg  cat.3174.jpg  cat.3891.jpg\n",
            "cat.1005.jpg  cat.1725.jpg  cat.2451.jpg  cat.3175.jpg  cat.3892.jpg\n",
            "cat.1006.jpg  cat.1726.jpg  cat.2452.jpg  cat.3176.jpg  cat.3893.jpg\n",
            "cat.1007.jpg  cat.1727.jpg  cat.2453.jpg  cat.3177.jpg  cat.3894.jpg\n",
            "cat.1008.jpg  cat.1728.jpg  cat.2454.jpg  cat.3178.jpg  cat.3895.jpg\n",
            "cat.1009.jpg  cat.1729.jpg  cat.2455.jpg  cat.3179.jpg  cat.3896.jpg\n",
            "cat.100.jpg   cat.172.jpg   cat.2456.jpg  cat.317.jpg   cat.3897.jpg\n",
            "cat.1010.jpg  cat.1730.jpg  cat.2457.jpg  cat.3180.jpg  cat.3898.jpg\n",
            "cat.1011.jpg  cat.1731.jpg  cat.2458.jpg  cat.3181.jpg  cat.3899.jpg\n",
            "cat.1012.jpg  cat.1732.jpg  cat.2459.jpg  cat.3182.jpg  cat.389.jpg\n",
            "cat.1013.jpg  cat.1733.jpg  cat.245.jpg   cat.3183.jpg  cat.38.jpg\n",
            "cat.1014.jpg  cat.1734.jpg  cat.2460.jpg  cat.3184.jpg  cat.3900.jpg\n",
            "cat.1015.jpg  cat.1735.jpg  cat.2461.jpg  cat.3185.jpg  cat.3901.jpg\n",
            "cat.1016.jpg  cat.1736.jpg  cat.2462.jpg  cat.3186.jpg  cat.3902.jpg\n",
            "cat.1017.jpg  cat.1737.jpg  cat.2463.jpg  cat.3187.jpg  cat.3903.jpg\n",
            "cat.1018.jpg  cat.1738.jpg  cat.2464.jpg  cat.3188.jpg  cat.3904.jpg\n",
            "cat.1019.jpg  cat.1739.jpg  cat.2465.jpg  cat.3189.jpg  cat.3905.jpg\n",
            "cat.101.jpg   cat.173.jpg   cat.2466.jpg  cat.3190.jpg  cat.3906.jpg\n",
            "cat.1020.jpg  cat.1740.jpg  cat.2467.jpg  cat.3191.jpg  cat.3907.jpg\n",
            "cat.1021.jpg  cat.1741.jpg  cat.2468.jpg  cat.3192.jpg  cat.3908.jpg\n",
            "cat.1022.jpg  cat.1742.jpg  cat.2469.jpg  cat.3193.jpg  cat.3909.jpg\n",
            "cat.1023.jpg  cat.1743.jpg  cat.2470.jpg  cat.3194.jpg  cat.390.jpg\n",
            "cat.1024.jpg  cat.1744.jpg  cat.2471.jpg  cat.3195.jpg  cat.3910.jpg\n",
            "cat.1025.jpg  cat.1745.jpg  cat.2472.jpg  cat.3196.jpg  cat.3911.jpg\n",
            "cat.1026.jpg  cat.1746.jpg  cat.2473.jpg  cat.3197.jpg  cat.3912.jpg\n",
            "cat.1027.jpg  cat.1747.jpg  cat.2474.jpg  cat.3198.jpg  cat.3913.jpg\n",
            "cat.1028.jpg  cat.1748.jpg  cat.2475.jpg  cat.3199.jpg  cat.3914.jpg\n",
            "cat.1029.jpg  cat.1749.jpg  cat.2476.jpg  cat.319.jpg   cat.3915.jpg\n",
            "cat.102.jpg   cat.174.jpg   cat.2477.jpg  cat.31.jpg    cat.3916.jpg\n",
            "cat.1030.jpg  cat.1750.jpg  cat.2478.jpg  cat.3200.jpg  cat.3917.jpg\n",
            "cat.1031.jpg  cat.1751.jpg  cat.2479.jpg  cat.3201.jpg  cat.3918.jpg\n",
            "cat.1032.jpg  cat.1752.jpg  cat.247.jpg   cat.3202.jpg  cat.3919.jpg\n",
            "cat.1033.jpg  cat.1753.jpg  cat.2480.jpg  cat.3203.jpg  cat.391.jpg\n",
            "cat.1034.jpg  cat.1754.jpg  cat.2481.jpg  cat.3204.jpg  cat.3920.jpg\n",
            "cat.1035.jpg  cat.1755.jpg  cat.2482.jpg  cat.3205.jpg  cat.3921.jpg\n",
            "cat.1036.jpg  cat.1756.jpg  cat.2483.jpg  cat.3206.jpg  cat.3922.jpg\n",
            "cat.1037.jpg  cat.1757.jpg  cat.2484.jpg  cat.3207.jpg  cat.3923.jpg\n",
            "cat.1038.jpg  cat.1759.jpg  cat.2485.jpg  cat.3208.jpg  cat.3924.jpg\n",
            "cat.1039.jpg  cat.175.jpg   cat.2486.jpg  cat.3209.jpg  cat.3925.jpg\n",
            "cat.103.jpg   cat.1760.jpg  cat.2487.jpg  cat.320.jpg   cat.3926.jpg\n",
            "cat.1040.jpg  cat.1762.jpg  cat.2488.jpg  cat.3210.jpg  cat.3927.jpg\n",
            "cat.1041.jpg  cat.1763.jpg  cat.2489.jpg  cat.3211.jpg  cat.3928.jpg\n",
            "cat.1042.jpg  cat.1764.jpg  cat.248.jpg   cat.3212.jpg  cat.3929.jpg\n",
            "cat.1043.jpg  cat.1765.jpg  cat.2490.jpg  cat.3214.jpg  cat.392.jpg\n",
            "cat.1044.jpg  cat.1766.jpg  cat.2491.jpg  cat.3215.jpg  cat.3930.jpg\n",
            "cat.1045.jpg  cat.1767.jpg  cat.2492.jpg  cat.3216.jpg  cat.3931.jpg\n",
            "cat.1046.jpg  cat.1768.jpg  cat.2493.jpg  cat.3217.jpg  cat.3932.jpg\n",
            "cat.1047.jpg  cat.1769.jpg  cat.2494.jpg  cat.3218.jpg  cat.3933.jpg\n",
            "cat.1048.jpg  cat.176.jpg   cat.2495.jpg  cat.3219.jpg  cat.3934.jpg\n",
            "cat.1049.jpg  cat.1770.jpg  cat.2496.jpg  cat.321.jpg   cat.3935.jpg\n",
            "cat.104.jpg   cat.1771.jpg  cat.2497.jpg  cat.3220.jpg  cat.3936.jpg\n",
            "cat.1050.jpg  cat.1772.jpg  cat.2498.jpg  cat.3221.jpg  cat.3937.jpg\n",
            "cat.1051.jpg  cat.1774.jpg  cat.2499.jpg  cat.3222.jpg  cat.3938.jpg\n",
            "cat.1052.jpg  cat.1775.jpg  cat.249.jpg   cat.3223.jpg  cat.3939.jpg\n",
            "cat.1053.jpg  cat.1776.jpg  cat.24.jpg    cat.3224.jpg  cat.393.jpg\n",
            "cat.1054.jpg  cat.1777.jpg  cat.2500.jpg  cat.3225.jpg  cat.3940.jpg\n",
            "cat.1055.jpg  cat.1778.jpg  cat.2501.jpg  cat.3226.jpg  cat.3941.jpg\n",
            "cat.1056.jpg  cat.1779.jpg  cat.2502.jpg  cat.3227.jpg  cat.3942.jpg\n",
            "cat.1057.jpg  cat.177.jpg   cat.2503.jpg  cat.3228.jpg  cat.3943.jpg\n",
            "cat.1058.jpg  cat.1780.jpg  cat.2504.jpg  cat.3229.jpg  cat.3944.jpg\n",
            "cat.1059.jpg  cat.1781.jpg  cat.2505.jpg  cat.322.jpg   cat.3945.jpg\n",
            "cat.105.jpg   cat.1782.jpg  cat.2506.jpg  cat.3230.jpg  cat.3946.jpg\n",
            "cat.1060.jpg  cat.1783.jpg  cat.2507.jpg  cat.3231.jpg  cat.3947.jpg\n",
            "cat.1061.jpg  cat.1784.jpg  cat.2508.jpg  cat.3232.jpg  cat.3948.jpg\n",
            "cat.1062.jpg  cat.1785.jpg  cat.2509.jpg  cat.3233.jpg  cat.3949.jpg\n",
            "cat.1063.jpg  cat.1786.jpg  cat.250.jpg   cat.3234.jpg  cat.394.jpg\n",
            "cat.1064.jpg  cat.1787.jpg  cat.2510.jpg  cat.3235.jpg  cat.3950.jpg\n",
            "cat.1065.jpg  cat.1788.jpg  cat.2511.jpg  cat.3236.jpg  cat.3951.jpg\n",
            "cat.1066.jpg  cat.1789.jpg  cat.2512.jpg  cat.3237.jpg  cat.3952.jpg\n",
            "cat.1067.jpg  cat.178.jpg   cat.2513.jpg  cat.3238.jpg  cat.3953.jpg\n",
            "cat.1068.jpg  cat.1790.jpg  cat.2514.jpg  cat.3239.jpg  cat.3954.jpg\n",
            "cat.1069.jpg  cat.1791.jpg  cat.2515.jpg  cat.323.jpg   cat.3955.jpg\n",
            "cat.106.jpg   cat.1792.jpg  cat.2516.jpg  cat.3240.jpg  cat.3956.jpg\n",
            "cat.1070.jpg  cat.1793.jpg  cat.2517.jpg  cat.3241.jpg  cat.3957.jpg\n",
            "cat.1071.jpg  cat.1794.jpg  cat.2518.jpg  cat.3242.jpg  cat.3958.jpg\n",
            "cat.1072.jpg  cat.1795.jpg  cat.2519.jpg  cat.3243.jpg  cat.3959.jpg\n",
            "cat.1073.jpg  cat.1796.jpg  cat.251.jpg   cat.3244.jpg  cat.395.jpg\n",
            "cat.1074.jpg  cat.1797.jpg  cat.2520.jpg  cat.3245.jpg  cat.3960.jpg\n",
            "cat.1075.jpg  cat.1798.jpg  cat.2521.jpg  cat.3246.jpg  cat.3961.jpg\n",
            "cat.1076.jpg  cat.1799.jpg  cat.2522.jpg  cat.3247.jpg  cat.3962.jpg\n",
            "cat.1077.jpg  cat.179.jpg   cat.2523.jpg  cat.3248.jpg  cat.3963.jpg\n",
            "cat.1078.jpg  cat.17.jpg    cat.2524.jpg  cat.3249.jpg  cat.3964.jpg\n",
            "cat.1079.jpg  cat.1800.jpg  cat.2525.jpg  cat.324.jpg   cat.3965.jpg\n",
            "cat.107.jpg   cat.1801.jpg  cat.2526.jpg  cat.3250.jpg  cat.3966.jpg\n",
            "cat.1080.jpg  cat.1802.jpg  cat.2527.jpg  cat.3251.jpg  cat.3967.jpg\n",
            "cat.1081.jpg  cat.1803.jpg  cat.2528.jpg  cat.3252.jpg  cat.3968.jpg\n",
            "cat.1082.jpg  cat.1804.jpg  cat.2529.jpg  cat.3253.jpg  cat.3969.jpg\n",
            "cat.1083.jpg  cat.1805.jpg  cat.252.jpg   cat.3254.jpg  cat.396.jpg\n",
            "cat.1084.jpg  cat.1806.jpg  cat.2530.jpg  cat.3255.jpg  cat.3970.jpg\n",
            "cat.1085.jpg  cat.1807.jpg  cat.2531.jpg  cat.3256.jpg  cat.3971.jpg\n",
            "cat.1086.jpg  cat.1808.jpg  cat.2532.jpg  cat.3257.jpg  cat.3972.jpg\n",
            "cat.1087.jpg  cat.1809.jpg  cat.2533.jpg  cat.3258.jpg  cat.3973.jpg\n",
            "cat.1088.jpg  cat.180.jpg   cat.2534.jpg  cat.3259.jpg  cat.3974.jpg\n",
            "cat.1089.jpg  cat.1810.jpg  cat.2535.jpg  cat.325.jpg   cat.3975.jpg\n",
            "cat.108.jpg   cat.1811.jpg  cat.2536.jpg  cat.3260.jpg  cat.3976.jpg\n",
            "cat.1090.jpg  cat.1812.jpg  cat.2537.jpg  cat.3261.jpg  cat.3977.jpg\n",
            "cat.1091.jpg  cat.1813.jpg  cat.2538.jpg  cat.3262.jpg  cat.3978.jpg\n",
            "cat.1092.jpg  cat.1814.jpg  cat.2539.jpg  cat.3263.jpg  cat.3979.jpg\n",
            "cat.1093.jpg  cat.1815.jpg  cat.253.jpg   cat.3264.jpg  cat.397.jpg\n",
            "cat.1094.jpg  cat.1816.jpg  cat.2540.jpg  cat.3265.jpg  cat.3980.jpg\n",
            "cat.1095.jpg  cat.1817.jpg  cat.2541.jpg  cat.3266.jpg  cat.3982.jpg\n",
            "cat.1096.jpg  cat.1818.jpg  cat.2542.jpg  cat.3267.jpg  cat.3983.jpg\n",
            "cat.1097.jpg  cat.1819.jpg  cat.2544.jpg  cat.3268.jpg  cat.3984.jpg\n",
            "cat.1098.jpg  cat.181.jpg   cat.2545.jpg  cat.3269.jpg  cat.3985.jpg\n",
            "cat.1099.jpg  cat.1820.jpg  cat.2546.jpg  cat.326.jpg   cat.3986.jpg\n",
            "cat.109.jpg   cat.1821.jpg  cat.2547.jpg  cat.3270.jpg  cat.3987.jpg\n",
            "cat.10.jpg    cat.1822.jpg  cat.2548.jpg  cat.3271.jpg  cat.3988.jpg\n",
            "cat.1100.jpg  cat.1823.jpg  cat.2549.jpg  cat.3272.jpg  cat.3989.jpg\n",
            "cat.1101.jpg  cat.1824.jpg  cat.254.jpg   cat.3273.jpg  cat.398.jpg\n",
            "cat.1103.jpg  cat.1825.jpg  cat.2550.jpg  cat.3274.jpg  cat.3990.jpg\n",
            "cat.1104.jpg  cat.1826.jpg  cat.2551.jpg  cat.3275.jpg  cat.3991.jpg\n",
            "cat.1105.jpg  cat.1827.jpg  cat.2552.jpg  cat.3276.jpg  cat.3992.jpg\n",
            "cat.1106.jpg  cat.1828.jpg  cat.2553.jpg  cat.3277.jpg  cat.3993.jpg\n",
            "cat.1107.jpg  cat.1829.jpg  cat.2554.jpg  cat.3278.jpg  cat.3994.jpg\n",
            "cat.1108.jpg  cat.182.jpg   cat.2555.jpg  cat.3279.jpg  cat.3995.jpg\n",
            "cat.1109.jpg  cat.1830.jpg  cat.2556.jpg  cat.327.jpg   cat.3996.jpg\n",
            "cat.110.jpg   cat.1831.jpg  cat.2557.jpg  cat.3280.jpg  cat.3997.jpg\n",
            "cat.1110.jpg  cat.1832.jpg  cat.2558.jpg  cat.3281.jpg  cat.3998.jpg\n",
            "cat.1111.jpg  cat.1833.jpg  cat.2559.jpg  cat.3282.jpg  cat.3999.jpg\n",
            "cat.1113.jpg  cat.1834.jpg  cat.255.jpg   cat.3283.jpg  cat.399.jpg\n",
            "cat.1114.jpg  cat.1835.jpg  cat.2560.jpg  cat.3284.jpg  cat.39.jpg\n",
            "cat.1115.jpg  cat.1836.jpg  cat.2561.jpg  cat.3285.jpg  cat.3.jpg\n",
            "cat.1116.jpg  cat.1837.jpg  cat.2562.jpg  cat.3286.jpg  cat.4000.jpg\n",
            "cat.1117.jpg  cat.1838.jpg  cat.2563.jpg  cat.3287.jpg  cat.400.jpg\n",
            "cat.1118.jpg  cat.1839.jpg  cat.2564.jpg  cat.3288.jpg  cat.401.jpg\n",
            "cat.1119.jpg  cat.183.jpg   cat.2565.jpg  cat.3289.jpg  cat.402.jpg\n",
            "cat.111.jpg   cat.1840.jpg  cat.2566.jpg  cat.328.jpg   cat.403.jpg\n",
            "cat.1120.jpg  cat.1841.jpg  cat.2567.jpg  cat.3290.jpg  cat.404.jpg\n",
            "cat.1121.jpg  cat.1842.jpg  cat.2568.jpg  cat.3291.jpg  cat.405.jpg\n",
            "cat.1122.jpg  cat.1843.jpg  cat.256.jpg   cat.3292.jpg  cat.406.jpg\n",
            "cat.1123.jpg  cat.1844.jpg  cat.2570.jpg  cat.3293.jpg  cat.407.jpg\n",
            "cat.1124.jpg  cat.1845.jpg  cat.2571.jpg  cat.3294.jpg  cat.408.jpg\n",
            "cat.1125.jpg  cat.1846.jpg  cat.2572.jpg  cat.3295.jpg  cat.409.jpg\n",
            "cat.1126.jpg  cat.1847.jpg  cat.2573.jpg  cat.3296.jpg  cat.40.jpg\n",
            "cat.1127.jpg  cat.1849.jpg  cat.2574.jpg  cat.3297.jpg  cat.410.jpg\n",
            "cat.1128.jpg  cat.184.jpg   cat.2575.jpg  cat.3298.jpg  cat.412.jpg\n",
            "cat.1129.jpg  cat.1850.jpg  cat.2576.jpg  cat.3299.jpg  cat.413.jpg\n",
            "cat.112.jpg   cat.1851.jpg  cat.2577.jpg  cat.329.jpg   cat.414.jpg\n",
            "cat.1130.jpg  cat.1852.jpg  cat.2578.jpg  cat.32.jpg    cat.415.jpg\n",
            "cat.1131.jpg  cat.1853.jpg  cat.2579.jpg  cat.3300.jpg  cat.416.jpg\n",
            "cat.1132.jpg  cat.1854.jpg  cat.257.jpg   cat.3301.jpg  cat.417.jpg\n",
            "cat.1133.jpg  cat.1855.jpg  cat.2580.jpg  cat.3302.jpg  cat.418.jpg\n",
            "cat.1134.jpg  cat.1856.jpg  cat.2581.jpg  cat.3303.jpg  cat.419.jpg\n",
            "cat.1135.jpg  cat.1857.jpg  cat.2582.jpg  cat.3304.jpg  cat.41.jpg\n",
            "cat.1136.jpg  cat.1858.jpg  cat.2583.jpg  cat.3305.jpg  cat.420.jpg\n",
            "cat.1137.jpg  cat.1859.jpg  cat.2584.jpg  cat.3306.jpg  cat.421.jpg\n",
            "cat.1138.jpg  cat.185.jpg   cat.2585.jpg  cat.3307.jpg  cat.422.jpg\n",
            "cat.1139.jpg  cat.1860.jpg  cat.2586.jpg  cat.3308.jpg  cat.423.jpg\n",
            "cat.113.jpg   cat.1861.jpg  cat.2587.jpg  cat.3309.jpg  cat.424.jpg\n",
            "cat.1140.jpg  cat.1862.jpg  cat.2588.jpg  cat.330.jpg   cat.425.jpg\n",
            "cat.1141.jpg  cat.1863.jpg  cat.2589.jpg  cat.3310.jpg  cat.426.jpg\n",
            "cat.1142.jpg  cat.1864.jpg  cat.258.jpg   cat.3311.jpg  cat.427.jpg\n",
            "cat.1143.jpg  cat.1865.jpg  cat.2590.jpg  cat.3312.jpg  cat.428.jpg\n",
            "cat.1144.jpg  cat.1866.jpg  cat.2592.jpg  cat.3313.jpg  cat.429.jpg\n",
            "cat.1145.jpg  cat.1867.jpg  cat.2593.jpg  cat.3314.jpg  cat.42.jpg\n",
            "cat.1146.jpg  cat.1869.jpg  cat.2594.jpg  cat.3315.jpg  cat.430.jpg\n",
            "cat.1147.jpg  cat.186.jpg   cat.2595.jpg  cat.3316.jpg  cat.431.jpg\n",
            "cat.1148.jpg  cat.1870.jpg  cat.2596.jpg  cat.3317.jpg  cat.432.jpg\n",
            "cat.1149.jpg  cat.1871.jpg  cat.2597.jpg  cat.3318.jpg  cat.433.jpg\n",
            "cat.114.jpg   cat.1872.jpg  cat.2598.jpg  cat.3319.jpg  cat.434.jpg\n",
            "cat.1150.jpg  cat.1873.jpg  cat.2599.jpg  cat.331.jpg   cat.435.jpg\n",
            "cat.1151.jpg  cat.1874.jpg  cat.259.jpg   cat.3320.jpg  cat.436.jpg\n",
            "cat.1152.jpg  cat.1875.jpg  cat.25.jpg    cat.3321.jpg  cat.437.jpg\n",
            "cat.1153.jpg  cat.1876.jpg  cat.2600.jpg  cat.3322.jpg  cat.438.jpg\n",
            "cat.1154.jpg  cat.1878.jpg  cat.2601.jpg  cat.3323.jpg  cat.439.jpg\n",
            "cat.1155.jpg  cat.1879.jpg  cat.2602.jpg  cat.3324.jpg  cat.43.jpg\n",
            "cat.1156.jpg  cat.187.jpg   cat.2603.jpg  cat.3325.jpg  cat.440.jpg\n",
            "cat.1157.jpg  cat.1880.jpg  cat.2604.jpg  cat.3326.jpg  cat.441.jpg\n",
            "cat.1158.jpg  cat.1881.jpg  cat.2605.jpg  cat.3327.jpg  cat.442.jpg\n",
            "cat.1159.jpg  cat.1882.jpg  cat.2606.jpg  cat.3328.jpg  cat.443.jpg\n",
            "cat.115.jpg   cat.1883.jpg  cat.2607.jpg  cat.3329.jpg  cat.444.jpg\n",
            "cat.1160.jpg  cat.1884.jpg  cat.2608.jpg  cat.332.jpg   cat.445.jpg\n",
            "cat.1161.jpg  cat.1885.jpg  cat.2609.jpg  cat.3330.jpg  cat.446.jpg\n",
            "cat.1162.jpg  cat.1886.jpg  cat.260.jpg   cat.3331.jpg  cat.447.jpg\n",
            "cat.1163.jpg  cat.1887.jpg  cat.2610.jpg  cat.3332.jpg  cat.448.jpg\n",
            "cat.1164.jpg  cat.1888.jpg  cat.2611.jpg  cat.3333.jpg  cat.449.jpg\n",
            "cat.1165.jpg  cat.1889.jpg  cat.2612.jpg  cat.3334.jpg  cat.44.jpg\n",
            "cat.1166.jpg  cat.188.jpg   cat.2613.jpg  cat.3335.jpg  cat.450.jpg\n",
            "cat.1167.jpg  cat.1890.jpg  cat.2614.jpg  cat.3336.jpg  cat.451.jpg\n",
            "cat.1168.jpg  cat.1891.jpg  cat.2615.jpg  cat.3337.jpg  cat.452.jpg\n",
            "cat.1169.jpg  cat.1892.jpg  cat.2616.jpg  cat.3338.jpg  cat.453.jpg\n",
            "cat.116.jpg   cat.1893.jpg  cat.2617.jpg  cat.3339.jpg  cat.454.jpg\n",
            "cat.1170.jpg  cat.1894.jpg  cat.2618.jpg  cat.333.jpg   cat.455.jpg\n",
            "cat.1171.jpg  cat.1895.jpg  cat.261.jpg   cat.3340.jpg  cat.456.jpg\n",
            "cat.1172.jpg  cat.1896.jpg  cat.2620.jpg  cat.3341.jpg  cat.457.jpg\n",
            "cat.1173.jpg  cat.1897.jpg  cat.2621.jpg  cat.3342.jpg  cat.458.jpg\n",
            "cat.1174.jpg  cat.1898.jpg  cat.2622.jpg  cat.3343.jpg  cat.459.jpg\n",
            "cat.1175.jpg  cat.1899.jpg  cat.2623.jpg  cat.3344.jpg  cat.45.jpg\n",
            "cat.1176.jpg  cat.18.jpg    cat.2624.jpg  cat.3345.jpg  cat.460.jpg\n",
            "cat.1177.jpg  cat.1900.jpg  cat.2625.jpg  cat.3346.jpg  cat.461.jpg\n",
            "cat.1178.jpg  cat.1901.jpg  cat.2626.jpg  cat.3347.jpg  cat.462.jpg\n",
            "cat.1179.jpg  cat.1902.jpg  cat.2627.jpg  cat.3348.jpg  cat.463.jpg\n",
            "cat.117.jpg   cat.1903.jpg  cat.2628.jpg  cat.3349.jpg  cat.464.jpg\n",
            "cat.1180.jpg  cat.1904.jpg  cat.2629.jpg  cat.334.jpg   cat.465.jpg\n",
            "cat.1181.jpg  cat.1905.jpg  cat.262.jpg   cat.3350.jpg  cat.466.jpg\n",
            "cat.1182.jpg  cat.1906.jpg  cat.2630.jpg  cat.3351.jpg  cat.467.jpg\n",
            "cat.1183.jpg  cat.1907.jpg  cat.2631.jpg  cat.3352.jpg  cat.468.jpg\n",
            "cat.1184.jpg  cat.1908.jpg  cat.2632.jpg  cat.3353.jpg  cat.469.jpg\n",
            "cat.1185.jpg  cat.1909.jpg  cat.2633.jpg  cat.3354.jpg  cat.46.jpg\n",
            "cat.1186.jpg  cat.190.jpg   cat.2634.jpg  cat.3355.jpg  cat.470.jpg\n",
            "cat.1187.jpg  cat.1910.jpg  cat.2635.jpg  cat.3356.jpg  cat.471.jpg\n",
            "cat.1188.jpg  cat.1911.jpg  cat.2636.jpg  cat.3357.jpg  cat.472.jpg\n",
            "cat.1189.jpg  cat.1912.jpg  cat.2637.jpg  cat.3358.jpg  cat.473.jpg\n",
            "cat.118.jpg   cat.1913.jpg  cat.2638.jpg  cat.3359.jpg  cat.474.jpg\n",
            "cat.1190.jpg  cat.1914.jpg  cat.2639.jpg  cat.335.jpg   cat.475.jpg\n",
            "cat.1191.jpg  cat.1915.jpg  cat.263.jpg   cat.3360.jpg  cat.476.jpg\n",
            "cat.1192.jpg  cat.1916.jpg  cat.2640.jpg  cat.3361.jpg  cat.477.jpg\n",
            "cat.1193.jpg  cat.1917.jpg  cat.2641.jpg  cat.3362.jpg  cat.478.jpg\n",
            "cat.1194.jpg  cat.1918.jpg  cat.2642.jpg  cat.3363.jpg  cat.479.jpg\n",
            "cat.1195.jpg  cat.1919.jpg  cat.2643.jpg  cat.3364.jpg  cat.47.jpg\n",
            "cat.1196.jpg  cat.191.jpg   cat.2644.jpg  cat.3365.jpg  cat.480.jpg\n",
            "cat.1197.jpg  cat.1920.jpg  cat.2645.jpg  cat.3366.jpg  cat.481.jpg\n",
            "cat.1198.jpg  cat.1921.jpg  cat.2646.jpg  cat.3367.jpg  cat.482.jpg\n",
            "cat.1199.jpg  cat.1922.jpg  cat.2647.jpg  cat.3368.jpg  cat.483.jpg\n",
            "cat.119.jpg   cat.1923.jpg  cat.2648.jpg  cat.3369.jpg  cat.484.jpg\n",
            "cat.11.jpg    cat.1924.jpg  cat.2649.jpg  cat.336.jpg   cat.485.jpg\n",
            "cat.1200.jpg  cat.1925.jpg  cat.264.jpg   cat.3370.jpg  cat.486.jpg\n",
            "cat.1201.jpg  cat.1926.jpg  cat.2650.jpg  cat.3371.jpg  cat.487.jpg\n",
            "cat.1202.jpg  cat.1927.jpg  cat.2651.jpg  cat.3372.jpg  cat.488.jpg\n",
            "cat.1203.jpg  cat.1928.jpg  cat.2652.jpg  cat.3373.jpg  cat.489.jpg\n",
            "cat.1204.jpg  cat.1929.jpg  cat.2653.jpg  cat.3374.jpg  cat.48.jpg\n",
            "cat.1205.jpg  cat.192.jpg   cat.2654.jpg  cat.3375.jpg  cat.490.jpg\n",
            "cat.1206.jpg  cat.1930.jpg  cat.2655.jpg  cat.3376.jpg  cat.491.jpg\n",
            "cat.1207.jpg  cat.1931.jpg  cat.2656.jpg  cat.3377.jpg  cat.492.jpg\n",
            "cat.1208.jpg  cat.1932.jpg  cat.2657.jpg  cat.3378.jpg  cat.493.jpg\n",
            "cat.1209.jpg  cat.1933.jpg  cat.2658.jpg  cat.3379.jpg  cat.494.jpg\n",
            "cat.120.jpg   cat.1934.jpg  cat.2659.jpg  cat.337.jpg   cat.495.jpg\n",
            "cat.1210.jpg  cat.1935.jpg  cat.265.jpg   cat.3380.jpg  cat.496.jpg\n",
            "cat.1211.jpg  cat.1936.jpg  cat.2660.jpg  cat.3381.jpg  cat.497.jpg\n",
            "cat.1212.jpg  cat.1937.jpg  cat.2661.jpg  cat.3382.jpg  cat.498.jpg\n",
            "cat.1213.jpg  cat.1938.jpg  cat.2662.jpg  cat.3383.jpg  cat.499.jpg\n",
            "cat.1214.jpg  cat.1939.jpg  cat.2663.jpg  cat.3384.jpg  cat.49.jpg\n",
            "cat.1215.jpg  cat.193.jpg   cat.2664.jpg  cat.3385.jpg  cat.4.jpg\n",
            "cat.1216.jpg  cat.1940.jpg  cat.2665.jpg  cat.3387.jpg  cat.500.jpg\n",
            "cat.1217.jpg  cat.1941.jpg  cat.2666.jpg  cat.3388.jpg  cat.501.jpg\n",
            "cat.1218.jpg  cat.1942.jpg  cat.2667.jpg  cat.3389.jpg  cat.502.jpg\n",
            "cat.121.jpg   cat.1943.jpg  cat.2668.jpg  cat.338.jpg   cat.503.jpg\n",
            "cat.1220.jpg  cat.1944.jpg  cat.2669.jpg  cat.3390.jpg  cat.504.jpg\n",
            "cat.1221.jpg  cat.1945.jpg  cat.266.jpg   cat.3391.jpg  cat.505.jpg\n",
            "cat.1222.jpg  cat.1946.jpg  cat.2670.jpg  cat.3392.jpg  cat.506.jpg\n",
            "cat.1223.jpg  cat.1947.jpg  cat.2671.jpg  cat.3393.jpg  cat.507.jpg\n",
            "cat.1224.jpg  cat.1948.jpg  cat.2672.jpg  cat.3394.jpg  cat.508.jpg\n",
            "cat.1225.jpg  cat.1949.jpg  cat.2673.jpg  cat.3395.jpg  cat.509.jpg\n",
            "cat.1226.jpg  cat.194.jpg   cat.2674.jpg  cat.3396.jpg  cat.50.jpg\n",
            "cat.1227.jpg  cat.1950.jpg  cat.2675.jpg  cat.3397.jpg  cat.510.jpg\n",
            "cat.1228.jpg  cat.1951.jpg  cat.2676.jpg  cat.3398.jpg  cat.511.jpg\n",
            "cat.1229.jpg  cat.1952.jpg  cat.2677.jpg  cat.3399.jpg  cat.512.jpg\n",
            "cat.122.jpg   cat.1953.jpg  cat.2678.jpg  cat.339.jpg   cat.513.jpg\n",
            "cat.1230.jpg  cat.1954.jpg  cat.2679.jpg  cat.33.jpg    cat.514.jpg\n",
            "cat.1231.jpg  cat.1955.jpg  cat.267.jpg   cat.3400.jpg  cat.515.jpg\n",
            "cat.1232.jpg  cat.1956.jpg  cat.2680.jpg  cat.3401.jpg  cat.516.jpg\n",
            "cat.1233.jpg  cat.1957.jpg  cat.2682.jpg  cat.3402.jpg  cat.517.jpg\n",
            "cat.1234.jpg  cat.1958.jpg  cat.2683.jpg  cat.3403.jpg  cat.518.jpg\n",
            "cat.1235.jpg  cat.1959.jpg  cat.2684.jpg  cat.3404.jpg  cat.519.jpg\n",
            "cat.1236.jpg  cat.195.jpg   cat.2685.jpg  cat.3405.jpg  cat.51.jpg\n",
            "cat.1237.jpg  cat.1960.jpg  cat.2686.jpg  cat.3406.jpg  cat.520.jpg\n",
            "cat.1238.jpg  cat.1961.jpg  cat.2687.jpg  cat.3407.jpg  cat.521.jpg\n",
            "cat.1239.jpg  cat.1962.jpg  cat.2688.jpg  cat.3409.jpg  cat.522.jpg\n",
            "cat.123.jpg   cat.1963.jpg  cat.2689.jpg  cat.340.jpg   cat.523.jpg\n",
            "cat.1240.jpg  cat.1964.jpg  cat.268.jpg   cat.3410.jpg  cat.524.jpg\n",
            "cat.1241.jpg  cat.1965.jpg  cat.2690.jpg  cat.3411.jpg  cat.525.jpg\n",
            "cat.1243.jpg  cat.1966.jpg  cat.2691.jpg  cat.3412.jpg  cat.526.jpg\n",
            "cat.1244.jpg  cat.1967.jpg  cat.2692.jpg  cat.3413.jpg  cat.527.jpg\n",
            "cat.1245.jpg  cat.1968.jpg  cat.2693.jpg  cat.3414.jpg  cat.528.jpg\n",
            "cat.1246.jpg  cat.1969.jpg  cat.2694.jpg  cat.3415.jpg  cat.529.jpg\n",
            "cat.1247.jpg  cat.196.jpg   cat.2695.jpg  cat.3416.jpg  cat.52.jpg\n",
            "cat.1248.jpg  cat.1970.jpg  cat.2696.jpg  cat.3417.jpg  cat.530.jpg\n",
            "cat.1249.jpg  cat.1971.jpg  cat.2697.jpg  cat.3419.jpg  cat.531.jpg\n",
            "cat.124.jpg   cat.1973.jpg  cat.2698.jpg  cat.341.jpg   cat.532.jpg\n",
            "cat.1250.jpg  cat.1974.jpg  cat.2699.jpg  cat.3420.jpg  cat.533.jpg\n",
            "cat.1251.jpg  cat.1975.jpg  cat.269.jpg   cat.3421.jpg  cat.535.jpg\n",
            "cat.1252.jpg  cat.1976.jpg  cat.26.jpg    cat.3422.jpg  cat.536.jpg\n",
            "cat.1253.jpg  cat.1977.jpg  cat.2700.jpg  cat.3423.jpg  cat.537.jpg\n",
            "cat.1254.jpg  cat.1978.jpg  cat.2701.jpg  cat.3424.jpg  cat.538.jpg\n",
            "cat.1255.jpg  cat.1979.jpg  cat.2702.jpg  cat.3425.jpg  cat.539.jpg\n",
            "cat.1256.jpg  cat.197.jpg   cat.2703.jpg  cat.3426.jpg  cat.53.jpg\n",
            "cat.1257.jpg  cat.1980.jpg  cat.2704.jpg  cat.3427.jpg  cat.541.jpg\n",
            "cat.1258.jpg  cat.1981.jpg  cat.2705.jpg  cat.3428.jpg  cat.542.jpg\n",
            "cat.1259.jpg  cat.1982.jpg  cat.2706.jpg  cat.3429.jpg  cat.543.jpg\n",
            "cat.125.jpg   cat.1983.jpg  cat.2707.jpg  cat.342.jpg   cat.544.jpg\n",
            "cat.1260.jpg  cat.1984.jpg  cat.2708.jpg  cat.3430.jpg  cat.545.jpg\n",
            "cat.1261.jpg  cat.1985.jpg  cat.2709.jpg  cat.3431.jpg  cat.546.jpg\n",
            "cat.1262.jpg  cat.1986.jpg  cat.270.jpg   cat.3432.jpg  cat.547.jpg\n",
            "cat.1263.jpg  cat.1987.jpg  cat.2710.jpg  cat.3433.jpg  cat.548.jpg\n",
            "cat.1264.jpg  cat.1988.jpg  cat.2711.jpg  cat.3434.jpg  cat.549.jpg\n",
            "cat.1265.jpg  cat.1989.jpg  cat.2712.jpg  cat.3435.jpg  cat.54.jpg\n",
            "cat.1266.jpg  cat.198.jpg   cat.2713.jpg  cat.3436.jpg  cat.550.jpg\n",
            "cat.1267.jpg  cat.1990.jpg  cat.2714.jpg  cat.3437.jpg  cat.551.jpg\n",
            "cat.1268.jpg  cat.1991.jpg  cat.2715.jpg  cat.3438.jpg  cat.552.jpg\n",
            "cat.1269.jpg  cat.1992.jpg  cat.2716.jpg  cat.3439.jpg  cat.553.jpg\n",
            "cat.126.jpg   cat.1993.jpg  cat.2717.jpg  cat.343.jpg   cat.554.jpg\n",
            "cat.1270.jpg  cat.1994.jpg  cat.2718.jpg  cat.3440.jpg  cat.555.jpg\n",
            "cat.1271.jpg  cat.1995.jpg  cat.2719.jpg  cat.3441.jpg  cat.556.jpg\n",
            "cat.1272.jpg  cat.1996.jpg  cat.271.jpg   cat.3442.jpg  cat.557.jpg\n",
            "cat.1273.jpg  cat.1997.jpg  cat.2720.jpg  cat.3443.jpg  cat.558.jpg\n",
            "cat.1274.jpg  cat.1998.jpg  cat.2721.jpg  cat.3444.jpg  cat.559.jpg\n",
            "cat.1275.jpg  cat.1999.jpg  cat.2722.jpg  cat.3445.jpg  cat.55.jpg\n",
            "cat.1276.jpg  cat.199.jpg   cat.2723.jpg  cat.3446.jpg  cat.560.jpg\n",
            "cat.1277.jpg  cat.19.jpg    cat.2724.jpg  cat.3447.jpg  cat.561.jpg\n",
            "cat.1278.jpg  cat.1.jpg     cat.2725.jpg  cat.3448.jpg  cat.562.jpg\n",
            "cat.1279.jpg  cat.2000.jpg  cat.2726.jpg  cat.3449.jpg  cat.563.jpg\n",
            "cat.127.jpg   cat.2001.jpg  cat.2727.jpg  cat.344.jpg   cat.564.jpg\n",
            "cat.1280.jpg  cat.2002.jpg  cat.2728.jpg  cat.3450.jpg  cat.565.jpg\n",
            "cat.1281.jpg  cat.2003.jpg  cat.2729.jpg  cat.3451.jpg  cat.566.jpg\n",
            "cat.1282.jpg  cat.2004.jpg  cat.272.jpg   cat.3452.jpg  cat.567.jpg\n",
            "cat.1283.jpg  cat.2005.jpg  cat.2730.jpg  cat.3453.jpg  cat.568.jpg\n",
            "cat.1284.jpg  cat.2006.jpg  cat.2731.jpg  cat.3454.jpg  cat.569.jpg\n",
            "cat.1285.jpg  cat.2007.jpg  cat.2732.jpg  cat.3455.jpg  cat.56.jpg\n",
            "cat.1286.jpg  cat.2008.jpg  cat.2733.jpg  cat.3456.jpg  cat.570.jpg\n",
            "cat.1287.jpg  cat.2009.jpg  cat.2734.jpg  cat.3457.jpg  cat.571.jpg\n",
            "cat.1288.jpg  cat.200.jpg   cat.2735.jpg  cat.3458.jpg  cat.572.jpg\n",
            "cat.1289.jpg  cat.2010.jpg  cat.2736.jpg  cat.3459.jpg  cat.573.jpg\n",
            "cat.128.jpg   cat.2011.jpg  cat.2737.jpg  cat.345.jpg   cat.574.jpg\n",
            "cat.1290.jpg  cat.2013.jpg  cat.2738.jpg  cat.3460.jpg  cat.575.jpg\n",
            "cat.1291.jpg  cat.2014.jpg  cat.2739.jpg  cat.3461.jpg  cat.576.jpg\n",
            "cat.1292.jpg  cat.2015.jpg  cat.273.jpg   cat.3462.jpg  cat.577.jpg\n",
            "cat.1293.jpg  cat.2016.jpg  cat.2740.jpg  cat.3463.jpg  cat.578.jpg\n",
            "cat.1294.jpg  cat.2017.jpg  cat.2741.jpg  cat.3464.jpg  cat.579.jpg\n",
            "cat.1295.jpg  cat.2018.jpg  cat.2742.jpg  cat.3465.jpg  cat.57.jpg\n",
            "cat.1296.jpg  cat.2019.jpg  cat.2743.jpg  cat.3466.jpg  cat.580.jpg\n",
            "cat.1297.jpg  cat.201.jpg   cat.2744.jpg  cat.3467.jpg  cat.581.jpg\n",
            "cat.1298.jpg  cat.2020.jpg  cat.2745.jpg  cat.3468.jpg  cat.582.jpg\n",
            "cat.1299.jpg  cat.2021.jpg  cat.2746.jpg  cat.3469.jpg  cat.584.jpg\n",
            "cat.129.jpg   cat.2022.jpg  cat.2747.jpg  cat.346.jpg   cat.585.jpg\n",
            "cat.12.jpg    cat.2023.jpg  cat.2748.jpg  cat.3470.jpg  cat.586.jpg\n",
            "cat.1300.jpg  cat.2024.jpg  cat.2749.jpg  cat.3471.jpg  cat.587.jpg\n",
            "cat.1301.jpg  cat.2025.jpg  cat.274.jpg   cat.3472.jpg  cat.588.jpg\n",
            "cat.1302.jpg  cat.2026.jpg  cat.2750.jpg  cat.3473.jpg  cat.589.jpg\n",
            "cat.1303.jpg  cat.2027.jpg  cat.2751.jpg  cat.3474.jpg  cat.58.jpg\n",
            "cat.1304.jpg  cat.2028.jpg  cat.2752.jpg  cat.3475.jpg  cat.590.jpg\n",
            "cat.1305.jpg  cat.2029.jpg  cat.2753.jpg  cat.3476.jpg  cat.591.jpg\n",
            "cat.1306.jpg  cat.202.jpg   cat.2754.jpg  cat.3477.jpg  cat.592.jpg\n",
            "cat.1307.jpg  cat.2030.jpg  cat.2755.jpg  cat.3478.jpg  cat.593.jpg\n",
            "cat.1308.jpg  cat.2031.jpg  cat.2756.jpg  cat.3479.jpg  cat.594.jpg\n",
            "cat.1309.jpg  cat.2032.jpg  cat.2757.jpg  cat.347.jpg   cat.595.jpg\n",
            "cat.130.jpg   cat.2033.jpg  cat.2758.jpg  cat.3480.jpg  cat.596.jpg\n",
            "cat.1310.jpg  cat.2034.jpg  cat.2759.jpg  cat.3481.jpg  cat.597.jpg\n",
            "cat.1311.jpg  cat.2035.jpg  cat.275.jpg   cat.3482.jpg  cat.598.jpg\n",
            "cat.1312.jpg  cat.2036.jpg  cat.2760.jpg  cat.3483.jpg  cat.599.jpg\n",
            "cat.1313.jpg  cat.2037.jpg  cat.2761.jpg  cat.3484.jpg  cat.59.jpg\n",
            "cat.1314.jpg  cat.2038.jpg  cat.2762.jpg  cat.3485.jpg  cat.5.jpg\n",
            "cat.1315.jpg  cat.2039.jpg  cat.2763.jpg  cat.3486.jpg  cat.600.jpg\n",
            "cat.1317.jpg  cat.203.jpg   cat.2764.jpg  cat.3487.jpg  cat.601.jpg\n",
            "cat.1318.jpg  cat.2040.jpg  cat.2766.jpg  cat.3488.jpg  cat.602.jpg\n",
            "cat.131.jpg   cat.2041.jpg  cat.2767.jpg  cat.3489.jpg  cat.603.jpg\n",
            "cat.1320.jpg  cat.2042.jpg  cat.2768.jpg  cat.348.jpg   cat.604.jpg\n",
            "cat.1321.jpg  cat.2043.jpg  cat.2769.jpg  cat.3490.jpg  cat.605.jpg\n",
            "cat.1322.jpg  cat.2044.jpg  cat.276.jpg   cat.3491.jpg  cat.606.jpg\n",
            "cat.1323.jpg  cat.2045.jpg  cat.2770.jpg  cat.3492.jpg  cat.607.jpg\n",
            "cat.1324.jpg  cat.2046.jpg  cat.2771.jpg  cat.3493.jpg  cat.608.jpg\n",
            "cat.1325.jpg  cat.2047.jpg  cat.2772.jpg  cat.3494.jpg  cat.609.jpg\n",
            "cat.1326.jpg  cat.2048.jpg  cat.2773.jpg  cat.3495.jpg  cat.60.jpg\n",
            "cat.1327.jpg  cat.2049.jpg  cat.2774.jpg  cat.3496.jpg  cat.610.jpg\n",
            "cat.1328.jpg  cat.204.jpg   cat.2775.jpg  cat.3497.jpg  cat.611.jpg\n",
            "cat.1329.jpg  cat.2050.jpg  cat.2776.jpg  cat.3498.jpg  cat.613.jpg\n",
            "cat.132.jpg   cat.2051.jpg  cat.2777.jpg  cat.3499.jpg  cat.614.jpg\n",
            "cat.1330.jpg  cat.2052.jpg  cat.2778.jpg  cat.349.jpg   cat.615.jpg\n",
            "cat.1331.jpg  cat.2053.jpg  cat.2779.jpg  cat.34.jpg    cat.616.jpg\n",
            "cat.1332.jpg  cat.2054.jpg  cat.277.jpg   cat.3500.jpg  cat.617.jpg\n",
            "cat.1333.jpg  cat.2055.jpg  cat.2780.jpg  cat.3501.jpg  cat.618.jpg\n",
            "cat.1334.jpg  cat.2056.jpg  cat.2781.jpg  cat.3502.jpg  cat.619.jpg\n",
            "cat.1335.jpg  cat.2057.jpg  cat.2782.jpg  cat.3503.jpg  cat.61.jpg\n",
            "cat.1336.jpg  cat.2058.jpg  cat.2783.jpg  cat.3504.jpg  cat.620.jpg\n",
            "cat.1337.jpg  cat.2059.jpg  cat.2784.jpg  cat.3505.jpg  cat.621.jpg\n",
            "cat.1338.jpg  cat.205.jpg   cat.2785.jpg  cat.3506.jpg  cat.622.jpg\n",
            "cat.1339.jpg  cat.2060.jpg  cat.2786.jpg  cat.3507.jpg  cat.623.jpg\n",
            "cat.133.jpg   cat.2061.jpg  cat.2788.jpg  cat.3508.jpg  cat.624.jpg\n",
            "cat.1340.jpg  cat.2062.jpg  cat.2789.jpg  cat.3509.jpg  cat.625.jpg\n",
            "cat.1341.jpg  cat.2064.jpg  cat.278.jpg   cat.350.jpg   cat.626.jpg\n",
            "cat.1342.jpg  cat.2065.jpg  cat.2790.jpg  cat.3510.jpg  cat.627.jpg\n",
            "cat.1343.jpg  cat.2066.jpg  cat.2791.jpg  cat.3511.jpg  cat.628.jpg\n",
            "cat.1344.jpg  cat.2067.jpg  cat.2792.jpg  cat.3512.jpg  cat.629.jpg\n",
            "cat.1345.jpg  cat.2068.jpg  cat.2793.jpg  cat.3513.jpg  cat.62.jpg\n",
            "cat.1346.jpg  cat.2069.jpg  cat.2794.jpg  cat.3514.jpg  cat.630.jpg\n",
            "cat.1347.jpg  cat.206.jpg   cat.2795.jpg  cat.3515.jpg  cat.631.jpg\n",
            "cat.1348.jpg  cat.2070.jpg  cat.2796.jpg  cat.3516.jpg  cat.632.jpg\n",
            "cat.1349.jpg  cat.2071.jpg  cat.2797.jpg  cat.3517.jpg  cat.633.jpg\n",
            "cat.134.jpg   cat.2072.jpg  cat.2798.jpg  cat.3518.jpg  cat.634.jpg\n",
            "cat.1350.jpg  cat.2073.jpg  cat.2799.jpg  cat.3519.jpg  cat.635.jpg\n",
            "cat.1351.jpg  cat.2074.jpg  cat.279.jpg   cat.351.jpg   cat.636.jpg\n",
            "cat.1352.jpg  cat.2075.jpg  cat.27.jpg    cat.3520.jpg  cat.637.jpg\n",
            "cat.1353.jpg  cat.2076.jpg  cat.2800.jpg  cat.3521.jpg  cat.638.jpg\n",
            "cat.1354.jpg  cat.2077.jpg  cat.2801.jpg  cat.3522.jpg  cat.639.jpg\n",
            "cat.1355.jpg  cat.2078.jpg  cat.2802.jpg  cat.3523.jpg  cat.63.jpg\n",
            "cat.1356.jpg  cat.2079.jpg  cat.2803.jpg  cat.3524.jpg  cat.640.jpg\n",
            "cat.1357.jpg  cat.2080.jpg  cat.2804.jpg  cat.3525.jpg  cat.641.jpg\n",
            "cat.1358.jpg  cat.2081.jpg  cat.2805.jpg  cat.3526.jpg  cat.642.jpg\n",
            "cat.1359.jpg  cat.2082.jpg  cat.2806.jpg  cat.3527.jpg  cat.643.jpg\n",
            "cat.135.jpg   cat.2083.jpg  cat.2807.jpg  cat.3528.jpg  cat.644.jpg\n",
            "cat.1360.jpg  cat.2084.jpg  cat.2808.jpg  cat.3529.jpg  cat.645.jpg\n",
            "cat.1361.jpg  cat.2085.jpg  cat.2809.jpg  cat.352.jpg   cat.646.jpg\n",
            "cat.1362.jpg  cat.2086.jpg  cat.280.jpg   cat.3530.jpg  cat.647.jpg\n",
            "cat.1363.jpg  cat.2087.jpg  cat.2810.jpg  cat.3531.jpg  cat.648.jpg\n",
            "cat.1364.jpg  cat.2088.jpg  cat.2811.jpg  cat.3532.jpg  cat.649.jpg\n",
            "cat.1365.jpg  cat.2089.jpg  cat.2812.jpg  cat.3533.jpg  cat.64.jpg\n",
            "cat.1366.jpg  cat.208.jpg   cat.2813.jpg  cat.3534.jpg  cat.650.jpg\n",
            "cat.1367.jpg  cat.2090.jpg  cat.2814.jpg  cat.3535.jpg  cat.651.jpg\n",
            "cat.1368.jpg  cat.2091.jpg  cat.2815.jpg  cat.3536.jpg  cat.652.jpg\n",
            "cat.1369.jpg  cat.2092.jpg  cat.2816.jpg  cat.3537.jpg  cat.653.jpg\n",
            "cat.136.jpg   cat.2093.jpg  cat.2817.jpg  cat.3538.jpg  cat.654.jpg\n",
            "cat.1370.jpg  cat.2094.jpg  cat.2818.jpg  cat.3539.jpg  cat.655.jpg\n",
            "cat.1371.jpg  cat.2095.jpg  cat.2819.jpg  cat.353.jpg   cat.656.jpg\n",
            "cat.1372.jpg  cat.2096.jpg  cat.281.jpg   cat.3540.jpg  cat.657.jpg\n",
            "cat.1373.jpg  cat.2097.jpg  cat.2820.jpg  cat.3541.jpg  cat.658.jpg\n",
            "cat.1374.jpg  cat.2098.jpg  cat.2821.jpg  cat.3542.jpg  cat.659.jpg\n",
            "cat.1375.jpg  cat.2099.jpg  cat.2822.jpg  cat.3543.jpg  cat.660.jpg\n",
            "cat.1376.jpg  cat.209.jpg   cat.2823.jpg  cat.3544.jpg  cat.661.jpg\n",
            "cat.1377.jpg  cat.20.jpg    cat.2824.jpg  cat.3545.jpg  cat.662.jpg\n",
            "cat.1378.jpg  cat.2100.jpg  cat.2825.jpg  cat.3546.jpg  cat.663.jpg\n",
            "cat.1379.jpg  cat.2101.jpg  cat.2826.jpg  cat.3547.jpg  cat.664.jpg\n",
            "cat.137.jpg   cat.2102.jpg  cat.2827.jpg  cat.3548.jpg  cat.665.jpg\n",
            "cat.1380.jpg  cat.2103.jpg  cat.2828.jpg  cat.3549.jpg  cat.666.jpg\n",
            "cat.1381.jpg  cat.2104.jpg  cat.2829.jpg  cat.354.jpg   cat.667.jpg\n",
            "cat.1382.jpg  cat.2105.jpg  cat.282.jpg   cat.3550.jpg  cat.668.jpg\n",
            "cat.1383.jpg  cat.2106.jpg  cat.2830.jpg  cat.3551.jpg  cat.669.jpg\n",
            "cat.1384.jpg  cat.2107.jpg  cat.2831.jpg  cat.3552.jpg  cat.66.jpg\n",
            "cat.1385.jpg  cat.2108.jpg  cat.2832.jpg  cat.3554.jpg  cat.670.jpg\n",
            "cat.1386.jpg  cat.2109.jpg  cat.2833.jpg  cat.3555.jpg  cat.671.jpg\n",
            "cat.1387.jpg  cat.210.jpg   cat.2834.jpg  cat.3556.jpg  cat.672.jpg\n",
            "cat.1388.jpg  cat.2110.jpg  cat.2835.jpg  cat.3557.jpg  cat.673.jpg\n",
            "cat.1389.jpg  cat.2111.jpg  cat.2836.jpg  cat.3558.jpg  cat.674.jpg\n",
            "cat.138.jpg   cat.2112.jpg  cat.2837.jpg  cat.3559.jpg  cat.675.jpg\n",
            "cat.1390.jpg  cat.2113.jpg  cat.2838.jpg  cat.355.jpg   cat.676.jpg\n",
            "cat.1391.jpg  cat.2114.jpg  cat.2839.jpg  cat.3560.jpg  cat.677.jpg\n",
            "cat.1392.jpg  cat.2115.jpg  cat.283.jpg   cat.3561.jpg  cat.678.jpg\n",
            "cat.1393.jpg  cat.2116.jpg  cat.2840.jpg  cat.3562.jpg  cat.679.jpg\n",
            "cat.1394.jpg  cat.2117.jpg  cat.2841.jpg  cat.3563.jpg  cat.67.jpg\n",
            "cat.1395.jpg  cat.2118.jpg  cat.2842.jpg  cat.3564.jpg  cat.680.jpg\n",
            "cat.1396.jpg  cat.2119.jpg  cat.2843.jpg  cat.3565.jpg  cat.681.jpg\n",
            "cat.1397.jpg  cat.211.jpg   cat.2845.jpg  cat.3566.jpg  cat.682.jpg\n",
            "cat.1398.jpg  cat.2120.jpg  cat.2846.jpg  cat.3567.jpg  cat.683.jpg\n",
            "cat.1399.jpg  cat.2121.jpg  cat.2847.jpg  cat.3568.jpg  cat.684.jpg\n",
            "cat.139.jpg   cat.2122.jpg  cat.2848.jpg  cat.3569.jpg  cat.685.jpg\n",
            "cat.13.jpg    cat.2123.jpg  cat.2849.jpg  cat.356.jpg   cat.686.jpg\n",
            "cat.1400.jpg  cat.2124.jpg  cat.284.jpg   cat.3570.jpg  cat.687.jpg\n",
            "cat.1401.jpg  cat.2126.jpg  cat.2850.jpg  cat.3571.jpg  cat.688.jpg\n",
            "cat.1402.jpg  cat.2127.jpg  cat.2851.jpg  cat.3572.jpg  cat.689.jpg\n",
            "cat.1403.jpg  cat.2128.jpg  cat.2852.jpg  cat.3573.jpg  cat.68.jpg\n",
            "cat.1404.jpg  cat.2129.jpg  cat.2853.jpg  cat.3574.jpg  cat.690.jpg\n",
            "cat.1405.jpg  cat.212.jpg   cat.2854.jpg  cat.3575.jpg  cat.691.jpg\n",
            "cat.1406.jpg  cat.2130.jpg  cat.2855.jpg  cat.3576.jpg  cat.692.jpg\n",
            "cat.1407.jpg  cat.2131.jpg  cat.2856.jpg  cat.3577.jpg  cat.693.jpg\n",
            "cat.1408.jpg  cat.2132.jpg  cat.2857.jpg  cat.3578.jpg  cat.694.jpg\n",
            "cat.1409.jpg  cat.2133.jpg  cat.2858.jpg  cat.3579.jpg  cat.695.jpg\n",
            "cat.140.jpg   cat.2134.jpg  cat.2859.jpg  cat.357.jpg   cat.696.jpg\n",
            "cat.1410.jpg  cat.2135.jpg  cat.285.jpg   cat.3580.jpg  cat.697.jpg\n",
            "cat.1411.jpg  cat.2136.jpg  cat.2860.jpg  cat.3581.jpg  cat.698.jpg\n",
            "cat.1412.jpg  cat.2137.jpg  cat.2861.jpg  cat.3582.jpg  cat.699.jpg\n",
            "cat.1413.jpg  cat.2138.jpg  cat.2862.jpg  cat.3583.jpg  cat.69.jpg\n",
            "cat.1414.jpg  cat.2139.jpg  cat.2863.jpg  cat.3584.jpg  cat.6.jpg\n",
            "cat.1415.jpg  cat.213.jpg   cat.2864.jpg  cat.3585.jpg  cat.700.jpg\n",
            "cat.1416.jpg  cat.2140.jpg  cat.2865.jpg  cat.3586.jpg  cat.701.jpg\n",
            "cat.1417.jpg  cat.2141.jpg  cat.2866.jpg  cat.3587.jpg  cat.702.jpg\n",
            "cat.1418.jpg  cat.2142.jpg  cat.2867.jpg  cat.3588.jpg  cat.703.jpg\n",
            "cat.1419.jpg  cat.2143.jpg  cat.2868.jpg  cat.3589.jpg  cat.704.jpg\n",
            "cat.141.jpg   cat.2144.jpg  cat.2869.jpg  cat.358.jpg   cat.705.jpg\n",
            "cat.1420.jpg  cat.2145.jpg  cat.286.jpg   cat.3590.jpg  cat.706.jpg\n",
            "cat.1421.jpg  cat.2146.jpg  cat.2870.jpg  cat.3591.jpg  cat.707.jpg\n",
            "cat.1422.jpg  cat.2147.jpg  cat.2871.jpg  cat.3592.jpg  cat.708.jpg\n",
            "cat.1423.jpg  cat.2148.jpg  cat.2872.jpg  cat.3593.jpg  cat.709.jpg\n",
            "cat.1424.jpg  cat.2149.jpg  cat.2873.jpg  cat.3594.jpg  cat.70.jpg\n",
            "cat.1425.jpg  cat.214.jpg   cat.2874.jpg  cat.3595.jpg  cat.710.jpg\n",
            "cat.1426.jpg  cat.2150.jpg  cat.2875.jpg  cat.3596.jpg  cat.711.jpg\n",
            "cat.1427.jpg  cat.2151.jpg  cat.2876.jpg  cat.3597.jpg  cat.712.jpg\n",
            "cat.1428.jpg  cat.2152.jpg  cat.2877.jpg  cat.3598.jpg  cat.713.jpg\n",
            "cat.1429.jpg  cat.2153.jpg  cat.2878.jpg  cat.3599.jpg  cat.714.jpg\n",
            "cat.142.jpg   cat.2154.jpg  cat.2879.jpg  cat.359.jpg   cat.715.jpg\n",
            "cat.1430.jpg  cat.2155.jpg  cat.287.jpg   cat.35.jpg    cat.716.jpg\n",
            "cat.1431.jpg  cat.2156.jpg  cat.2880.jpg  cat.3600.jpg  cat.717.jpg\n",
            "cat.1432.jpg  cat.2157.jpg  cat.2881.jpg  cat.3601.jpg  cat.718.jpg\n",
            "cat.1433.jpg  cat.2158.jpg  cat.2882.jpg  cat.3602.jpg  cat.719.jpg\n",
            "cat.1434.jpg  cat.2159.jpg  cat.2883.jpg  cat.3603.jpg  cat.71.jpg\n",
            "cat.1435.jpg  cat.215.jpg   cat.2884.jpg  cat.3604.jpg  cat.720.jpg\n",
            "cat.1436.jpg  cat.2160.jpg  cat.2885.jpg  cat.3605.jpg  cat.721.jpg\n",
            "cat.1437.jpg  cat.2161.jpg  cat.2886.jpg  cat.3606.jpg  cat.722.jpg\n",
            "cat.1438.jpg  cat.2162.jpg  cat.2887.jpg  cat.3607.jpg  cat.723.jpg\n",
            "cat.1439.jpg  cat.2163.jpg  cat.2888.jpg  cat.3608.jpg  cat.724.jpg\n",
            "cat.143.jpg   cat.2164.jpg  cat.2889.jpg  cat.3609.jpg  cat.725.jpg\n",
            "cat.1440.jpg  cat.2165.jpg  cat.288.jpg   cat.360.jpg   cat.726.jpg\n",
            "cat.1441.jpg  cat.2166.jpg  cat.2890.jpg  cat.3610.jpg  cat.727.jpg\n",
            "cat.1442.jpg  cat.2167.jpg  cat.2891.jpg  cat.3611.jpg  cat.728.jpg\n",
            "cat.1443.jpg  cat.2168.jpg  cat.2892.jpg  cat.3612.jpg  cat.729.jpg\n",
            "cat.1444.jpg  cat.2169.jpg  cat.2893.jpg  cat.3613.jpg  cat.730.jpg\n",
            "cat.1445.jpg  cat.216.jpg   cat.2894.jpg  cat.3614.jpg  cat.731.jpg\n",
            "cat.1446.jpg  cat.2170.jpg  cat.2895.jpg  cat.3615.jpg  cat.732.jpg\n",
            "cat.1447.jpg  cat.2171.jpg  cat.2896.jpg  cat.3616.jpg  cat.733.jpg\n",
            "cat.1448.jpg  cat.2172.jpg  cat.2897.jpg  cat.3617.jpg  cat.734.jpg\n",
            "cat.1449.jpg  cat.2173.jpg  cat.2898.jpg  cat.3618.jpg  cat.735.jpg\n",
            "cat.144.jpg   cat.2174.jpg  cat.2899.jpg  cat.3619.jpg  cat.736.jpg\n",
            "cat.1450.jpg  cat.2175.jpg  cat.289.jpg   cat.361.jpg   cat.737.jpg\n",
            "cat.1451.jpg  cat.2177.jpg  cat.28.jpg    cat.3620.jpg  cat.738.jpg\n",
            "cat.1452.jpg  cat.2178.jpg  cat.2900.jpg  cat.3621.jpg  cat.739.jpg\n",
            "cat.1453.jpg  cat.2179.jpg  cat.2901.jpg  cat.3622.jpg  cat.73.jpg\n",
            "cat.1454.jpg  cat.217.jpg   cat.2902.jpg  cat.3623.jpg  cat.740.jpg\n",
            "cat.1455.jpg  cat.2180.jpg  cat.2903.jpg  cat.3624.jpg  cat.741.jpg\n",
            "cat.1456.jpg  cat.2181.jpg  cat.2904.jpg  cat.3625.jpg  cat.742.jpg\n",
            "cat.1457.jpg  cat.2182.jpg  cat.2905.jpg  cat.3626.jpg  cat.743.jpg\n",
            "cat.1458.jpg  cat.2183.jpg  cat.2906.jpg  cat.3627.jpg  cat.744.jpg\n",
            "cat.1459.jpg  cat.2184.jpg  cat.2907.jpg  cat.3628.jpg  cat.745.jpg\n",
            "cat.145.jpg   cat.2185.jpg  cat.2908.jpg  cat.3629.jpg  cat.746.jpg\n",
            "cat.1460.jpg  cat.2186.jpg  cat.290.jpg   cat.362.jpg   cat.747.jpg\n",
            "cat.1461.jpg  cat.2187.jpg  cat.2910.jpg  cat.3630.jpg  cat.748.jpg\n",
            "cat.1462.jpg  cat.2188.jpg  cat.2911.jpg  cat.3631.jpg  cat.749.jpg\n",
            "cat.1463.jpg  cat.2189.jpg  cat.2912.jpg  cat.3632.jpg  cat.74.jpg\n",
            "cat.1464.jpg  cat.218.jpg   cat.2913.jpg  cat.3633.jpg  cat.750.jpg\n",
            "cat.1465.jpg  cat.2190.jpg  cat.2914.jpg  cat.3634.jpg  cat.751.jpg\n",
            "cat.1466.jpg  cat.2191.jpg  cat.2915.jpg  cat.3635.jpg  cat.752.jpg\n",
            "cat.1467.jpg  cat.2192.jpg  cat.2916.jpg  cat.3636.jpg  cat.753.jpg\n",
            "cat.1468.jpg  cat.2193.jpg  cat.2917.jpg  cat.3637.jpg  cat.754.jpg\n",
            "cat.1469.jpg  cat.2194.jpg  cat.2918.jpg  cat.3638.jpg  cat.755.jpg\n",
            "cat.146.jpg   cat.2195.jpg  cat.291.jpg   cat.3639.jpg  cat.756.jpg\n",
            "cat.1470.jpg  cat.2196.jpg  cat.2920.jpg  cat.363.jpg   cat.757.jpg\n",
            "cat.1471.jpg  cat.2197.jpg  cat.2921.jpg  cat.3640.jpg  cat.758.jpg\n",
            "cat.1472.jpg  cat.2198.jpg  cat.2922.jpg  cat.3641.jpg  cat.759.jpg\n",
            "cat.1473.jpg  cat.2199.jpg  cat.2923.jpg  cat.3642.jpg  cat.75.jpg\n",
            "cat.1474.jpg  cat.219.jpg   cat.2924.jpg  cat.3643.jpg  cat.760.jpg\n",
            "cat.1475.jpg  cat.21.jpg    cat.2925.jpg  cat.3644.jpg  cat.761.jpg\n",
            "cat.1476.jpg  cat.2200.jpg  cat.2926.jpg  cat.3645.jpg  cat.762.jpg\n",
            "cat.1477.jpg  cat.2201.jpg  cat.2927.jpg  cat.3646.jpg  cat.763.jpg\n",
            "cat.1478.jpg  cat.2202.jpg  cat.2928.jpg  cat.3647.jpg  cat.764.jpg\n",
            "cat.1479.jpg  cat.2203.jpg  cat.2929.jpg  cat.3648.jpg  cat.765.jpg\n",
            "cat.147.jpg   cat.2204.jpg  cat.292.jpg   cat.3649.jpg  cat.766.jpg\n",
            "cat.1480.jpg  cat.2205.jpg  cat.2930.jpg  cat.364.jpg   cat.767.jpg\n",
            "cat.1481.jpg  cat.2206.jpg  cat.2931.jpg  cat.3650.jpg  cat.768.jpg\n",
            "cat.1482.jpg  cat.2207.jpg  cat.2932.jpg  cat.3651.jpg  cat.769.jpg\n",
            "cat.1483.jpg  cat.2208.jpg  cat.2933.jpg  cat.3652.jpg  cat.76.jpg\n",
            "cat.1484.jpg  cat.2209.jpg  cat.2934.jpg  cat.3653.jpg  cat.770.jpg\n",
            "cat.1485.jpg  cat.220.jpg   cat.2935.jpg  cat.3654.jpg  cat.771.jpg\n",
            "cat.1486.jpg  cat.2210.jpg  cat.2936.jpg  cat.3655.jpg  cat.772.jpg\n",
            "cat.1487.jpg  cat.2211.jpg  cat.2937.jpg  cat.3656.jpg  cat.773.jpg\n",
            "cat.1488.jpg  cat.2212.jpg  cat.2938.jpg  cat.3657.jpg  cat.774.jpg\n",
            "cat.1489.jpg  cat.2213.jpg  cat.2939.jpg  cat.3658.jpg  cat.775.jpg\n",
            "cat.148.jpg   cat.2214.jpg  cat.293.jpg   cat.3659.jpg  cat.776.jpg\n",
            "cat.1490.jpg  cat.2215.jpg  cat.2940.jpg  cat.365.jpg   cat.777.jpg\n",
            "cat.1491.jpg  cat.2216.jpg  cat.2941.jpg  cat.3660.jpg  cat.778.jpg\n",
            "cat.1492.jpg  cat.2217.jpg  cat.2942.jpg  cat.3661.jpg  cat.779.jpg\n",
            "cat.1494.jpg  cat.2218.jpg  cat.2943.jpg  cat.3662.jpg  cat.77.jpg\n",
            "cat.1495.jpg  cat.2219.jpg  cat.2944.jpg  cat.3663.jpg  cat.780.jpg\n",
            "cat.1496.jpg  cat.221.jpg   cat.2945.jpg  cat.3664.jpg  cat.781.jpg\n",
            "cat.1497.jpg  cat.2220.jpg  cat.2946.jpg  cat.3665.jpg  cat.782.jpg\n",
            "cat.1498.jpg  cat.2221.jpg  cat.2947.jpg  cat.3666.jpg  cat.783.jpg\n",
            "cat.1499.jpg  cat.2222.jpg  cat.2948.jpg  cat.3667.jpg  cat.784.jpg\n",
            "cat.149.jpg   cat.2223.jpg  cat.2949.jpg  cat.3668.jpg  cat.785.jpg\n",
            "cat.14.jpg    cat.2224.jpg  cat.294.jpg   cat.3669.jpg  cat.786.jpg\n",
            "cat.1500.jpg  cat.2225.jpg  cat.2950.jpg  cat.366.jpg   cat.787.jpg\n",
            "cat.1501.jpg  cat.2226.jpg  cat.2951.jpg  cat.3670.jpg  cat.788.jpg\n",
            "cat.1502.jpg  cat.2228.jpg  cat.2952.jpg  cat.3671.jpg  cat.789.jpg\n",
            "cat.1503.jpg  cat.2229.jpg  cat.2953.jpg  cat.3672.jpg  cat.78.jpg\n",
            "cat.1504.jpg  cat.222.jpg   cat.2954.jpg  cat.3673.jpg  cat.790.jpg\n",
            "cat.1505.jpg  cat.2230.jpg  cat.2955.jpg  cat.3674.jpg  cat.791.jpg\n",
            "cat.1506.jpg  cat.2231.jpg  cat.2956.jpg  cat.3675.jpg  cat.792.jpg\n",
            "cat.1507.jpg  cat.2232.jpg  cat.2957.jpg  cat.3676.jpg  cat.793.jpg\n",
            "cat.1508.jpg  cat.2233.jpg  cat.2958.jpg  cat.3677.jpg  cat.794.jpg\n",
            "cat.1509.jpg  cat.2234.jpg  cat.2959.jpg  cat.3678.jpg  cat.795.jpg\n",
            "cat.150.jpg   cat.2235.jpg  cat.295.jpg   cat.3679.jpg  cat.796.jpg\n",
            "cat.1510.jpg  cat.2236.jpg  cat.2960.jpg  cat.367.jpg   cat.797.jpg\n",
            "cat.1511.jpg  cat.2237.jpg  cat.2961.jpg  cat.3680.jpg  cat.798.jpg\n",
            "cat.1512.jpg  cat.2238.jpg  cat.2962.jpg  cat.3681.jpg  cat.799.jpg\n",
            "cat.1513.jpg  cat.2239.jpg  cat.2963.jpg  cat.3682.jpg  cat.79.jpg\n",
            "cat.1514.jpg  cat.223.jpg   cat.2964.jpg  cat.3683.jpg  cat.7.jpg\n",
            "cat.1515.jpg  cat.2240.jpg  cat.2965.jpg  cat.3684.jpg  cat.800.jpg\n",
            "cat.1516.jpg  cat.2241.jpg  cat.2966.jpg  cat.3685.jpg  cat.801.jpg\n",
            "cat.1517.jpg  cat.2242.jpg  cat.2967.jpg  cat.3686.jpg  cat.802.jpg\n",
            "cat.1518.jpg  cat.2243.jpg  cat.2968.jpg  cat.3687.jpg  cat.803.jpg\n",
            "cat.1519.jpg  cat.2244.jpg  cat.2969.jpg  cat.3688.jpg  cat.804.jpg\n",
            "cat.151.jpg   cat.2245.jpg  cat.296.jpg   cat.3689.jpg  cat.805.jpg\n",
            "cat.1520.jpg  cat.2246.jpg  cat.2971.jpg  cat.368.jpg   cat.806.jpg\n",
            "cat.1521.jpg  cat.2247.jpg  cat.2972.jpg  cat.3690.jpg  cat.807.jpg\n",
            "cat.1522.jpg  cat.2248.jpg  cat.2973.jpg  cat.3691.jpg  cat.808.jpg\n",
            "cat.1523.jpg  cat.2249.jpg  cat.2974.jpg  cat.3692.jpg  cat.809.jpg\n",
            "cat.1524.jpg  cat.224.jpg   cat.2975.jpg  cat.3693.jpg  cat.80.jpg\n",
            "cat.1526.jpg  cat.2250.jpg  cat.2976.jpg  cat.3695.jpg  cat.810.jpg\n",
            "cat.1527.jpg  cat.2251.jpg  cat.2977.jpg  cat.3696.jpg  cat.811.jpg\n",
            "cat.1528.jpg  cat.2253.jpg  cat.2978.jpg  cat.3697.jpg  cat.812.jpg\n",
            "cat.1529.jpg  cat.2254.jpg  cat.2979.jpg  cat.3698.jpg  cat.813.jpg\n",
            "cat.152.jpg   cat.2255.jpg  cat.297.jpg   cat.3699.jpg  cat.814.jpg\n",
            "cat.1530.jpg  cat.2256.jpg  cat.2980.jpg  cat.369.jpg   cat.815.jpg\n",
            "cat.1531.jpg  cat.2257.jpg  cat.2981.jpg  cat.36.jpg    cat.816.jpg\n",
            "cat.1532.jpg  cat.2258.jpg  cat.2982.jpg  cat.3700.jpg  cat.817.jpg\n",
            "cat.1533.jpg  cat.2259.jpg  cat.2983.jpg  cat.3701.jpg  cat.818.jpg\n",
            "cat.1534.jpg  cat.225.jpg   cat.2984.jpg  cat.3702.jpg  cat.819.jpg\n",
            "cat.1535.jpg  cat.2260.jpg  cat.2985.jpg  cat.3703.jpg  cat.81.jpg\n",
            "cat.1536.jpg  cat.2261.jpg  cat.2986.jpg  cat.3704.jpg  cat.820.jpg\n",
            "cat.1537.jpg  cat.2262.jpg  cat.2987.jpg  cat.3705.jpg  cat.821.jpg\n",
            "cat.1538.jpg  cat.2263.jpg  cat.2988.jpg  cat.3706.jpg  cat.822.jpg\n",
            "cat.1539.jpg  cat.2264.jpg  cat.2989.jpg  cat.3707.jpg  cat.823.jpg\n",
            "cat.153.jpg   cat.2265.jpg  cat.298.jpg   cat.3708.jpg  cat.824.jpg\n",
            "cat.1540.jpg  cat.2266.jpg  cat.2990.jpg  cat.3709.jpg  cat.825.jpg\n",
            "cat.1541.jpg  cat.2267.jpg  cat.2991.jpg  cat.370.jpg   cat.826.jpg\n",
            "cat.1542.jpg  cat.2268.jpg  cat.2992.jpg  cat.3710.jpg  cat.827.jpg\n",
            "cat.1543.jpg  cat.2269.jpg  cat.2993.jpg  cat.3711.jpg  cat.828.jpg\n",
            "cat.1544.jpg  cat.226.jpg   cat.2995.jpg  cat.3712.jpg  cat.829.jpg\n",
            "cat.1545.jpg  cat.2270.jpg  cat.2996.jpg  cat.3713.jpg  cat.82.jpg\n",
            "cat.1546.jpg  cat.2271.jpg  cat.2997.jpg  cat.3714.jpg  cat.830.jpg\n",
            "cat.1547.jpg  cat.2273.jpg  cat.2998.jpg  cat.3715.jpg  cat.832.jpg\n",
            "cat.1548.jpg  cat.2274.jpg  cat.2999.jpg  cat.3716.jpg  cat.833.jpg\n",
            "cat.1549.jpg  cat.2275.jpg  cat.299.jpg   cat.3717.jpg  cat.834.jpg\n",
            "cat.154.jpg   cat.2276.jpg  cat.29.jpg    cat.3718.jpg  cat.835.jpg\n",
            "cat.1550.jpg  cat.2277.jpg  cat.2.jpg     cat.3719.jpg  cat.836.jpg\n",
            "cat.1551.jpg  cat.2278.jpg  cat.3000.jpg  cat.371.jpg   cat.837.jpg\n",
            "cat.1552.jpg  cat.2279.jpg  cat.3001.jpg  cat.3720.jpg  cat.838.jpg\n",
            "cat.1553.jpg  cat.227.jpg   cat.3002.jpg  cat.3721.jpg  cat.839.jpg\n",
            "cat.1554.jpg  cat.2280.jpg  cat.3003.jpg  cat.3722.jpg  cat.83.jpg\n",
            "cat.1555.jpg  cat.2281.jpg  cat.3004.jpg  cat.3723.jpg  cat.840.jpg\n",
            "cat.1556.jpg  cat.2282.jpg  cat.3005.jpg  cat.3724.jpg  cat.841.jpg\n",
            "cat.1557.jpg  cat.2283.jpg  cat.3006.jpg  cat.3725.jpg  cat.842.jpg\n",
            "cat.1558.jpg  cat.2284.jpg  cat.3007.jpg  cat.3726.jpg  cat.843.jpg\n",
            "cat.1559.jpg  cat.2285.jpg  cat.3008.jpg  cat.3727.jpg  cat.844.jpg\n",
            "cat.155.jpg   cat.2286.jpg  cat.3009.jpg  cat.3728.jpg  cat.845.jpg\n",
            "cat.1560.jpg  cat.2287.jpg  cat.300.jpg   cat.3729.jpg  cat.846.jpg\n",
            "cat.1561.jpg  cat.2288.jpg  cat.3010.jpg  cat.372.jpg   cat.847.jpg\n",
            "cat.1562.jpg  cat.2289.jpg  cat.3011.jpg  cat.3730.jpg  cat.848.jpg\n",
            "cat.1563.jpg  cat.228.jpg   cat.3012.jpg  cat.3731.jpg  cat.849.jpg\n",
            "cat.1564.jpg  cat.2290.jpg  cat.3013.jpg  cat.3732.jpg  cat.84.jpg\n",
            "cat.1566.jpg  cat.2291.jpg  cat.3014.jpg  cat.3733.jpg  cat.850.jpg\n",
            "cat.1567.jpg  cat.2292.jpg  cat.3015.jpg  cat.3734.jpg  cat.851.jpg\n",
            "cat.1569.jpg  cat.2293.jpg  cat.3016.jpg  cat.3735.jpg  cat.852.jpg\n",
            "cat.156.jpg   cat.2294.jpg  cat.3017.jpg  cat.3736.jpg  cat.853.jpg\n",
            "cat.1570.jpg  cat.2295.jpg  cat.3018.jpg  cat.3737.jpg  cat.854.jpg\n",
            "cat.1571.jpg  cat.2296.jpg  cat.3019.jpg  cat.3738.jpg  cat.855.jpg\n",
            "cat.1572.jpg  cat.2297.jpg  cat.301.jpg   cat.3739.jpg  cat.856.jpg\n",
            "cat.1573.jpg  cat.2298.jpg  cat.3020.jpg  cat.373.jpg   cat.857.jpg\n",
            "cat.1574.jpg  cat.229.jpg   cat.3021.jpg  cat.3740.jpg  cat.858.jpg\n",
            "cat.1575.jpg  cat.22.jpg    cat.3022.jpg  cat.3741.jpg  cat.859.jpg\n",
            "cat.1576.jpg  cat.2300.jpg  cat.3023.jpg  cat.3742.jpg  cat.85.jpg\n",
            "cat.1577.jpg  cat.2301.jpg  cat.3024.jpg  cat.3743.jpg  cat.860.jpg\n",
            "cat.1578.jpg  cat.2302.jpg  cat.3025.jpg  cat.3744.jpg  cat.861.jpg\n",
            "cat.1579.jpg  cat.2303.jpg  cat.3026.jpg  cat.3745.jpg  cat.862.jpg\n",
            "cat.157.jpg   cat.2304.jpg  cat.3027.jpg  cat.3746.jpg  cat.863.jpg\n",
            "cat.1580.jpg  cat.2305.jpg  cat.3028.jpg  cat.3747.jpg  cat.864.jpg\n",
            "cat.1581.jpg  cat.2306.jpg  cat.3029.jpg  cat.3748.jpg  cat.865.jpg\n",
            "cat.1582.jpg  cat.2307.jpg  cat.302.jpg   cat.3749.jpg  cat.866.jpg\n",
            "cat.1583.jpg  cat.2308.jpg  cat.3030.jpg  cat.374.jpg   cat.867.jpg\n",
            "cat.1584.jpg  cat.2309.jpg  cat.3031.jpg  cat.3750.jpg  cat.868.jpg\n",
            "cat.1585.jpg  cat.230.jpg   cat.3032.jpg  cat.3751.jpg  cat.869.jpg\n",
            "cat.1586.jpg  cat.2310.jpg  cat.3033.jpg  cat.3752.jpg  cat.86.jpg\n",
            "cat.1587.jpg  cat.2311.jpg  cat.3034.jpg  cat.3753.jpg  cat.870.jpg\n",
            "cat.1588.jpg  cat.2312.jpg  cat.3035.jpg  cat.3754.jpg  cat.871.jpg\n",
            "cat.1589.jpg  cat.2313.jpg  cat.3036.jpg  cat.3755.jpg  cat.872.jpg\n",
            "cat.158.jpg   cat.2314.jpg  cat.3037.jpg  cat.3756.jpg  cat.873.jpg\n",
            "cat.1590.jpg  cat.2315.jpg  cat.3038.jpg  cat.3757.jpg  cat.874.jpg\n",
            "cat.1591.jpg  cat.2316.jpg  cat.3039.jpg  cat.3758.jpg  cat.875.jpg\n",
            "cat.1592.jpg  cat.2317.jpg  cat.303.jpg   cat.3759.jpg  cat.876.jpg\n",
            "cat.1593.jpg  cat.2318.jpg  cat.3040.jpg  cat.375.jpg   cat.877.jpg\n",
            "cat.1594.jpg  cat.2319.jpg  cat.3041.jpg  cat.3760.jpg  cat.878.jpg\n",
            "cat.1595.jpg  cat.231.jpg   cat.3042.jpg  cat.3761.jpg  cat.879.jpg\n",
            "cat.1596.jpg  cat.2320.jpg  cat.3043.jpg  cat.3762.jpg  cat.87.jpg\n",
            "cat.1597.jpg  cat.2321.jpg  cat.3044.jpg  cat.3763.jpg  cat.880.jpg\n",
            "cat.1598.jpg  cat.2322.jpg  cat.3045.jpg  cat.3764.jpg  cat.881.jpg\n",
            "cat.1599.jpg  cat.2323.jpg  cat.3046.jpg  cat.3765.jpg  cat.882.jpg\n",
            "cat.159.jpg   cat.2324.jpg  cat.3048.jpg  cat.3766.jpg  cat.883.jpg\n",
            "cat.15.jpg    cat.2325.jpg  cat.3049.jpg  cat.3767.jpg  cat.884.jpg\n",
            "cat.1600.jpg  cat.2326.jpg  cat.304.jpg   cat.3768.jpg  cat.885.jpg\n",
            "cat.1601.jpg  cat.2327.jpg  cat.3050.jpg  cat.3769.jpg  cat.886.jpg\n",
            "cat.1602.jpg  cat.2328.jpg  cat.3051.jpg  cat.376.jpg   cat.887.jpg\n",
            "cat.1603.jpg  cat.2329.jpg  cat.3052.jpg  cat.3770.jpg  cat.888.jpg\n",
            "cat.1604.jpg  cat.232.jpg   cat.3053.jpg  cat.3771.jpg  cat.88.jpg\n",
            "cat.1605.jpg  cat.2330.jpg  cat.3054.jpg  cat.3773.jpg  cat.890.jpg\n",
            "cat.1606.jpg  cat.2331.jpg  cat.3055.jpg  cat.3774.jpg  cat.891.jpg\n",
            "cat.1607.jpg  cat.2332.jpg  cat.3056.jpg  cat.3775.jpg  cat.892.jpg\n",
            "cat.1608.jpg  cat.2333.jpg  cat.3057.jpg  cat.3776.jpg  cat.893.jpg\n",
            "cat.1609.jpg  cat.2334.jpg  cat.3058.jpg  cat.3777.jpg  cat.894.jpg\n",
            "cat.160.jpg   cat.2335.jpg  cat.3059.jpg  cat.3778.jpg  cat.895.jpg\n",
            "cat.1610.jpg  cat.2336.jpg  cat.305.jpg   cat.3779.jpg  cat.896.jpg\n",
            "cat.1611.jpg  cat.2337.jpg  cat.3060.jpg  cat.377.jpg   cat.897.jpg\n",
            "cat.1612.jpg  cat.2338.jpg  cat.3061.jpg  cat.3780.jpg  cat.898.jpg\n",
            "cat.1613.jpg  cat.2339.jpg  cat.3062.jpg  cat.3781.jpg  cat.899.jpg\n",
            "cat.1614.jpg  cat.233.jpg   cat.3063.jpg  cat.3782.jpg  cat.89.jpg\n",
            "cat.1615.jpg  cat.2340.jpg  cat.3064.jpg  cat.3783.jpg  cat.8.jpg\n",
            "cat.1616.jpg  cat.2341.jpg  cat.3065.jpg  cat.3784.jpg  cat.900.jpg\n",
            "cat.1617.jpg  cat.2342.jpg  cat.3066.jpg  cat.3785.jpg  cat.901.jpg\n",
            "cat.1618.jpg  cat.2343.jpg  cat.3067.jpg  cat.3786.jpg  cat.902.jpg\n",
            "cat.1619.jpg  cat.2344.jpg  cat.3068.jpg  cat.3787.jpg  cat.903.jpg\n",
            "cat.161.jpg   cat.2345.jpg  cat.3069.jpg  cat.3788.jpg  cat.904.jpg\n",
            "cat.1620.jpg  cat.2346.jpg  cat.306.jpg   cat.3789.jpg  cat.905.jpg\n",
            "cat.1621.jpg  cat.2347.jpg  cat.3070.jpg  cat.378.jpg   cat.906.jpg\n",
            "cat.1622.jpg  cat.2348.jpg  cat.3071.jpg  cat.3791.jpg  cat.907.jpg\n",
            "cat.1623.jpg  cat.2349.jpg  cat.3072.jpg  cat.3792.jpg  cat.908.jpg\n",
            "cat.1624.jpg  cat.234.jpg   cat.3073.jpg  cat.3793.jpg  cat.909.jpg\n",
            "cat.1625.jpg  cat.2350.jpg  cat.3074.jpg  cat.3794.jpg  cat.90.jpg\n",
            "cat.1626.jpg  cat.2351.jpg  cat.3075.jpg  cat.3795.jpg  cat.910.jpg\n",
            "cat.1627.jpg  cat.2352.jpg  cat.3076.jpg  cat.3796.jpg  cat.911.jpg\n",
            "cat.1628.jpg  cat.2353.jpg  cat.3077.jpg  cat.3797.jpg  cat.912.jpg\n",
            "cat.1629.jpg  cat.2354.jpg  cat.3078.jpg  cat.3798.jpg  cat.913.jpg\n",
            "cat.162.jpg   cat.2355.jpg  cat.3079.jpg  cat.3799.jpg  cat.914.jpg\n",
            "cat.1630.jpg  cat.2356.jpg  cat.307.jpg   cat.379.jpg   cat.915.jpg\n",
            "cat.1631.jpg  cat.2357.jpg  cat.3080.jpg  cat.37.jpg    cat.916.jpg\n",
            "cat.1632.jpg  cat.2358.jpg  cat.3081.jpg  cat.3800.jpg  cat.917.jpg\n",
            "cat.1633.jpg  cat.2359.jpg  cat.3082.jpg  cat.3801.jpg  cat.918.jpg\n",
            "cat.1634.jpg  cat.235.jpg   cat.3083.jpg  cat.3802.jpg  cat.919.jpg\n",
            "cat.1635.jpg  cat.2360.jpg  cat.3084.jpg  cat.3803.jpg  cat.91.jpg\n",
            "cat.1636.jpg  cat.2361.jpg  cat.3085.jpg  cat.3804.jpg  cat.920.jpg\n",
            "cat.1637.jpg  cat.2362.jpg  cat.3086.jpg  cat.3805.jpg  cat.921.jpg\n",
            "cat.1638.jpg  cat.2363.jpg  cat.3087.jpg  cat.3806.jpg  cat.922.jpg\n",
            "cat.163.jpg   cat.2364.jpg  cat.3088.jpg  cat.3808.jpg  cat.923.jpg\n",
            "cat.1640.jpg  cat.2365.jpg  cat.3089.jpg  cat.3809.jpg  cat.924.jpg\n",
            "cat.1641.jpg  cat.2366.jpg  cat.308.jpg   cat.380.jpg   cat.925.jpg\n",
            "cat.1642.jpg  cat.2367.jpg  cat.3090.jpg  cat.3810.jpg  cat.926.jpg\n",
            "cat.1643.jpg  cat.2368.jpg  cat.3091.jpg  cat.3811.jpg  cat.927.jpg\n",
            "cat.1644.jpg  cat.2369.jpg  cat.3092.jpg  cat.3812.jpg  cat.928.jpg\n",
            "cat.1645.jpg  cat.236.jpg   cat.3093.jpg  cat.3813.jpg  cat.929.jpg\n",
            "cat.1646.jpg  cat.2370.jpg  cat.3094.jpg  cat.3814.jpg  cat.92.jpg\n",
            "cat.1647.jpg  cat.2371.jpg  cat.3095.jpg  cat.3815.jpg  cat.930.jpg\n",
            "cat.1648.jpg  cat.2372.jpg  cat.3096.jpg  cat.3816.jpg  cat.931.jpg\n",
            "cat.1649.jpg  cat.2373.jpg  cat.3097.jpg  cat.3817.jpg  cat.932.jpg\n",
            "cat.164.jpg   cat.2374.jpg  cat.3098.jpg  cat.3818.jpg  cat.933.jpg\n",
            "cat.1650.jpg  cat.2375.jpg  cat.3099.jpg  cat.3819.jpg  cat.934.jpg\n",
            "cat.1651.jpg  cat.2376.jpg  cat.309.jpg   cat.381.jpg   cat.935.jpg\n",
            "cat.1652.jpg  cat.2377.jpg  cat.30.jpg    cat.3820.jpg  cat.936.jpg\n",
            "cat.1653.jpg  cat.2379.jpg  cat.3100.jpg  cat.3821.jpg  cat.937.jpg\n",
            "cat.1654.jpg  cat.237.jpg   cat.3101.jpg  cat.3822.jpg  cat.938.jpg\n",
            "cat.1655.jpg  cat.2380.jpg  cat.3102.jpg  cat.3823.jpg  cat.939.jpg\n",
            "cat.1656.jpg  cat.2381.jpg  cat.3103.jpg  cat.3824.jpg  cat.93.jpg\n",
            "cat.1657.jpg  cat.2382.jpg  cat.3104.jpg  cat.3825.jpg  cat.940.jpg\n",
            "cat.1658.jpg  cat.2383.jpg  cat.3105.jpg  cat.3826.jpg  cat.941.jpg\n",
            "cat.1659.jpg  cat.2384.jpg  cat.3106.jpg  cat.3827.jpg  cat.942.jpg\n",
            "cat.165.jpg   cat.2385.jpg  cat.3107.jpg  cat.3828.jpg  cat.943.jpg\n",
            "cat.1660.jpg  cat.2386.jpg  cat.3108.jpg  cat.3829.jpg  cat.944.jpg\n",
            "cat.1662.jpg  cat.2387.jpg  cat.3109.jpg  cat.382.jpg   cat.945.jpg\n",
            "cat.1663.jpg  cat.2388.jpg  cat.3110.jpg  cat.3830.jpg  cat.946.jpg\n",
            "cat.1664.jpg  cat.2389.jpg  cat.3111.jpg  cat.3831.jpg  cat.947.jpg\n",
            "cat.1665.jpg  cat.2390.jpg  cat.3112.jpg  cat.3832.jpg  cat.948.jpg\n",
            "cat.1666.jpg  cat.2391.jpg  cat.3113.jpg  cat.3833.jpg  cat.949.jpg\n",
            "cat.1667.jpg  cat.2392.jpg  cat.3114.jpg  cat.3834.jpg  cat.94.jpg\n",
            "cat.1668.jpg  cat.2393.jpg  cat.3115.jpg  cat.3835.jpg  cat.950.jpg\n",
            "cat.1669.jpg  cat.2394.jpg  cat.3116.jpg  cat.3836.jpg  cat.951.jpg\n",
            "cat.166.jpg   cat.2395.jpg  cat.3117.jpg  cat.3837.jpg  cat.952.jpg\n",
            "cat.1670.jpg  cat.2396.jpg  cat.3118.jpg  cat.3838.jpg  cat.953.jpg\n",
            "cat.1671.jpg  cat.2397.jpg  cat.3119.jpg  cat.3839.jpg  cat.954.jpg\n",
            "cat.1672.jpg  cat.2398.jpg  cat.311.jpg   cat.383.jpg   cat.955.jpg\n",
            "cat.1673.jpg  cat.2399.jpg  cat.3120.jpg  cat.3840.jpg  cat.956.jpg\n",
            "cat.1674.jpg  cat.239.jpg   cat.3121.jpg  cat.3841.jpg  cat.957.jpg\n",
            "cat.1675.jpg  cat.23.jpg    cat.3122.jpg  cat.3842.jpg  cat.958.jpg\n",
            "cat.1676.jpg  cat.2400.jpg  cat.3123.jpg  cat.3843.jpg  cat.959.jpg\n",
            "cat.1677.jpg  cat.2401.jpg  cat.3124.jpg  cat.3844.jpg  cat.95.jpg\n",
            "cat.1678.jpg  cat.2402.jpg  cat.3125.jpg  cat.3845.jpg  cat.960.jpg\n",
            "cat.1679.jpg  cat.2403.jpg  cat.3126.jpg  cat.3846.jpg  cat.961.jpg\n",
            "cat.167.jpg   cat.2404.jpg  cat.3127.jpg  cat.3847.jpg  cat.963.jpg\n",
            "cat.1680.jpg  cat.2405.jpg  cat.3128.jpg  cat.3848.jpg  cat.964.jpg\n",
            "cat.1681.jpg  cat.2406.jpg  cat.3129.jpg  cat.3849.jpg  cat.965.jpg\n",
            "cat.1682.jpg  cat.2407.jpg  cat.312.jpg   cat.384.jpg   cat.966.jpg\n",
            "cat.1683.jpg  cat.2408.jpg  cat.3130.jpg  cat.3850.jpg  cat.967.jpg\n",
            "cat.1684.jpg  cat.2409.jpg  cat.3131.jpg  cat.3851.jpg  cat.968.jpg\n",
            "cat.1685.jpg  cat.240.jpg   cat.3132.jpg  cat.3852.jpg  cat.969.jpg\n",
            "cat.1686.jpg  cat.2410.jpg  cat.3133.jpg  cat.3853.jpg  cat.96.jpg\n",
            "cat.1687.jpg  cat.2411.jpg  cat.3134.jpg  cat.3854.jpg  cat.970.jpg\n",
            "cat.1688.jpg  cat.2412.jpg  cat.3135.jpg  cat.3855.jpg  cat.971.jpg\n",
            "cat.1689.jpg  cat.2413.jpg  cat.3136.jpg  cat.3856.jpg  cat.972.jpg\n",
            "cat.168.jpg   cat.2414.jpg  cat.3137.jpg  cat.3857.jpg  cat.973.jpg\n",
            "cat.1690.jpg  cat.2415.jpg  cat.3138.jpg  cat.3858.jpg  cat.974.jpg\n",
            "cat.1691.jpg  cat.2416.jpg  cat.3139.jpg  cat.3859.jpg  cat.975.jpg\n",
            "cat.1692.jpg  cat.2417.jpg  cat.313.jpg   cat.385.jpg   cat.976.jpg\n",
            "cat.1693.jpg  cat.2418.jpg  cat.3140.jpg  cat.3860.jpg  cat.977.jpg\n",
            "cat.1694.jpg  cat.2419.jpg  cat.3141.jpg  cat.3861.jpg  cat.978.jpg\n",
            "cat.1695.jpg  cat.241.jpg   cat.3142.jpg  cat.3862.jpg  cat.979.jpg\n",
            "cat.1696.jpg  cat.2420.jpg  cat.3143.jpg  cat.3863.jpg  cat.97.jpg\n",
            "cat.1697.jpg  cat.2421.jpg  cat.3144.jpg  cat.3864.jpg  cat.980.jpg\n",
            "cat.1698.jpg  cat.2422.jpg  cat.3145.jpg  cat.3865.jpg  cat.981.jpg\n",
            "cat.1699.jpg  cat.2423.jpg  cat.3146.jpg  cat.3866.jpg  cat.982.jpg\n",
            "cat.169.jpg   cat.2424.jpg  cat.3147.jpg  cat.3867.jpg  cat.983.jpg\n",
            "cat.16.jpg    cat.2425.jpg  cat.3148.jpg  cat.3868.jpg  cat.984.jpg\n",
            "cat.1700.jpg  cat.2426.jpg  cat.3149.jpg  cat.3869.jpg  cat.985.jpg\n",
            "cat.1701.jpg  cat.2427.jpg  cat.314.jpg   cat.386.jpg   cat.986.jpg\n",
            "cat.1702.jpg  cat.2428.jpg  cat.3150.jpg  cat.3870.jpg  cat.987.jpg\n",
            "cat.1703.jpg  cat.2429.jpg  cat.3151.jpg  cat.3871.jpg  cat.988.jpg\n",
            "cat.1704.jpg  cat.242.jpg   cat.3152.jpg  cat.3872.jpg  cat.989.jpg\n",
            "cat.1705.jpg  cat.2430.jpg  cat.3153.jpg  cat.3873.jpg  cat.98.jpg\n",
            "cat.1706.jpg  cat.2431.jpg  cat.3154.jpg  cat.3874.jpg  cat.990.jpg\n",
            "cat.1707.jpg  cat.2432.jpg  cat.3155.jpg  cat.3875.jpg  cat.991.jpg\n",
            "cat.1708.jpg  cat.2434.jpg  cat.3156.jpg  cat.3876.jpg  cat.992.jpg\n",
            "cat.1709.jpg  cat.2435.jpg  cat.3158.jpg  cat.3877.jpg  cat.993.jpg\n",
            "cat.170.jpg   cat.2436.jpg  cat.3159.jpg  cat.3878.jpg  cat.994.jpg\n",
            "cat.1710.jpg  cat.2437.jpg  cat.315.jpg   cat.3879.jpg  cat.995.jpg\n",
            "cat.1711.jpg  cat.2438.jpg  cat.3161.jpg  cat.387.jpg   cat.996.jpg\n",
            "cat.1712.jpg  cat.2439.jpg  cat.3162.jpg  cat.3880.jpg  cat.997.jpg\n",
            "cat.1713.jpg  cat.2440.jpg  cat.3163.jpg  cat.3881.jpg  cat.998.jpg\n",
            "cat.1714.jpg  cat.2441.jpg  cat.3164.jpg  cat.3882.jpg  cat.999.jpg\n",
            "cat.1715.jpg  cat.2442.jpg  cat.3165.jpg  cat.3883.jpg  cat.99.jpg\n",
            "cat.1716.jpg  cat.2443.jpg  cat.3167.jpg  cat.3884.jpg  cat.9.jpg\n",
            "cat.1717.jpg  cat.2444.jpg  cat.3168.jpg  cat.3885.jpg  Icon\n",
            "cat.1718.jpg  cat.2445.jpg  cat.3169.jpg  cat.3886.jpg\n",
            "cat.1719.jpg  cat.2446.jpg  cat.316.jpg   cat.3887.jpg\n"
          ]
        }
      ]
    },
    {
      "cell_type": "code",
      "metadata": {
        "id": "E_6lh_veAHxp",
        "colab": {
          "base_uri": "https://localhost:8080/"
        },
        "outputId": "c13d0a02-1a24-4ae9-caf1-251c48128dbc"
      },
      "source": [
        "cd /content"
      ],
      "execution_count": null,
      "outputs": [
        {
          "output_type": "stream",
          "name": "stdout",
          "text": [
            "/content\n"
          ]
        }
      ]
    },
    {
      "cell_type": "code",
      "metadata": {
        "id": "MhaskYJLAbjw",
        "colab": {
          "base_uri": "https://localhost:8080/"
        },
        "outputId": "88947f30-00ec-4390-dccc-7afda941d0b8"
      },
      "source": [
        "ls"
      ],
      "execution_count": null,
      "outputs": [
        {
          "output_type": "stream",
          "name": "stdout",
          "text": [
            "0  \u001b[0m\u001b[01;34mdataset\u001b[0m/  dataset.zip  \u001b[01;34m__MACOSX\u001b[0m/  \u001b[01;34msample_data\u001b[0m/\n"
          ]
        }
      ]
    },
    {
      "cell_type": "code",
      "metadata": {
        "id": "ofSPRl11yS8j",
        "outputId": "0fba4e7b-c6e5-407c-b6b5-1d8a701a45e2",
        "colab": {
          "base_uri": "https://localhost:8080/"
        }
      },
      "source": [
        "training_set = train_datagen.flow_from_directory('dataset/training_set',\n",
        "                                                 target_size = (64, 64),\n",
        "                                                 batch_size = 32,\n",
        "                                                 class_mode = 'binary')"
      ],
      "execution_count": null,
      "outputs": [
        {
          "output_type": "stream",
          "name": "stdout",
          "text": [
            "Found 7863 images belonging to 2 classes.\n"
          ]
        }
      ]
    },
    {
      "cell_type": "code",
      "metadata": {
        "id": "_1QLO9dYyS8p",
        "outputId": "079d2669-a3a9-406d-9c16-c69ada50805b",
        "colab": {
          "base_uri": "https://localhost:8080/"
        }
      },
      "source": [
        "test_set = test_datagen.flow_from_directory('dataset/test_set',\n",
        "                                            target_size = (64, 64),\n",
        "                                            batch_size = 32,\n",
        "                                            class_mode = 'binary')"
      ],
      "execution_count": null,
      "outputs": [
        {
          "output_type": "stream",
          "name": "stdout",
          "text": [
            "Found 1955 images belonging to 2 classes.\n"
          ]
        }
      ]
    },
    {
      "cell_type": "markdown",
      "metadata": {
        "id": "4wW8IjBwHaM3"
      },
      "source": [
        "## <b>04 : Model Selection</b>"
      ]
    },
    {
      "cell_type": "code",
      "metadata": {
        "id": "BZRXN6HDyS71"
      },
      "source": [
        "classifier = Sequential()"
      ],
      "execution_count": null,
      "outputs": []
    },
    {
      "cell_type": "code",
      "metadata": {
        "id": "ztT7pzxEyS75"
      },
      "source": [
        "classifier.add(Conv2D(32, (3, 3), input_shape = (64, 64, 3), activation = 'relu'))"
      ],
      "execution_count": null,
      "outputs": []
    },
    {
      "cell_type": "code",
      "metadata": {
        "id": "23qBIcWmyS7-"
      },
      "source": [
        "classifier.add(MaxPooling2D(pool_size = (2, 2)))"
      ],
      "execution_count": null,
      "outputs": []
    },
    {
      "cell_type": "code",
      "metadata": {
        "id": "VviGWzsbCBRl"
      },
      "source": [
        "classifier.add(Conv2D(64, (3, 3),  activation = 'relu'))\n",
        "classifier.add(MaxPooling2D(pool_size = (2, 2)))"
      ],
      "execution_count": null,
      "outputs": []
    },
    {
      "cell_type": "code",
      "metadata": {
        "id": "ds6orzLPyS8D"
      },
      "source": [
        "classifier.add(Flatten())"
      ],
      "execution_count": null,
      "outputs": []
    },
    {
      "cell_type": "code",
      "metadata": {
        "id": "no3RMcgCyS8I"
      },
      "source": [
        "classifier.add(Dense(units = 128, activation = 'relu'))\n",
        "classifier.add(Dense(units = 1, activation = 'sigmoid'))"
      ],
      "execution_count": null,
      "outputs": []
    },
    {
      "cell_type": "code",
      "metadata": {
        "id": "hEg7-d3HqpSi",
        "outputId": "96f24c04-2a0c-4838-e8c6-66091b815d27",
        "colab": {
          "base_uri": "https://localhost:8080/"
        }
      },
      "source": [
        "classifier.summary()"
      ],
      "execution_count": null,
      "outputs": [
        {
          "output_type": "stream",
          "name": "stdout",
          "text": [
            "Model: \"sequential\"\n",
            "_________________________________________________________________\n",
            " Layer (type)                Output Shape              Param #   \n",
            "=================================================================\n",
            " conv2d (Conv2D)             (None, 62, 62, 32)        896       \n",
            "                                                                 \n",
            " max_pooling2d (MaxPooling2D  (None, 31, 31, 32)       0         \n",
            " )                                                               \n",
            "                                                                 \n",
            " conv2d_1 (Conv2D)           (None, 29, 29, 64)        18496     \n",
            "                                                                 \n",
            " max_pooling2d_1 (MaxPooling  (None, 14, 14, 64)       0         \n",
            " 2D)                                                             \n",
            "                                                                 \n",
            " flatten (Flatten)           (None, 12544)             0         \n",
            "                                                                 \n",
            " dense (Dense)               (None, 128)               1605760   \n",
            "                                                                 \n",
            " dense_1 (Dense)             (None, 1)                 129       \n",
            "                                                                 \n",
            "=================================================================\n",
            "Total params: 1,625,281\n",
            "Trainable params: 1,625,281\n",
            "Non-trainable params: 0\n",
            "_________________________________________________________________\n"
          ]
        }
      ]
    },
    {
      "cell_type": "code",
      "metadata": {
        "id": "4pX0AQogyS8N"
      },
      "source": [
        "classifier.compile(optimizer = 'adam', loss = 'binary_crossentropy', metrics = ['accuracy'])"
      ],
      "execution_count": null,
      "outputs": []
    },
    {
      "cell_type": "markdown",
      "metadata": {
        "id": "fYKxaG20yS8t"
      },
      "source": [
        "## <b>05: Fitting and Prediction</b>"
      ]
    },
    {
      "cell_type": "code",
      "metadata": {
        "id": "TfHDn3vqyS8v",
        "colab": {
          "base_uri": "https://localhost:8080/"
        },
        "outputId": "cb67bfcd-5768-4284-f481-a91472219d03"
      },
      "source": [
        "classifier.fit_generator(training_set,\n",
        "                         steps_per_epoch = 100,\n",
        "                         epochs = 50,\n",
        "                         validation_data = test_set,\n",
        "                         validation_steps = 10)"
      ],
      "execution_count": null,
      "outputs": [
        {
          "metadata": {
            "tags": null
          },
          "name": "stdout",
          "output_type": "stream",
          "text": [
            "Epoch 1/150\n"
          ]
        },
        {
          "metadata": {
            "tags": null
          },
          "name": "stderr",
          "output_type": "stream",
          "text": [
            "<ipython-input-33-c90fb9dfb777>:1: UserWarning: `Model.fit_generator` is deprecated and will be removed in a future version. Please use `Model.fit`, which supports generators.\n",
            "  classifier.fit_generator(training_set,\n"
          ]
        },
        {
          "output_type": "stream",
          "name": "stdout",
          "text": [
            "100/100 [==============================] - 19s 82ms/step - loss: 0.6881 - accuracy: 0.5456 - val_loss: 0.6520 - val_accuracy: 0.6344\n",
            "Epoch 2/150\n",
            "100/100 [==============================] - 8s 79ms/step - loss: 0.6429 - accuracy: 0.6371 - val_loss: 0.6400 - val_accuracy: 0.6094\n",
            "Epoch 3/150\n",
            "100/100 [==============================] - 8s 78ms/step - loss: 0.6283 - accuracy: 0.6581 - val_loss: 0.6469 - val_accuracy: 0.6313\n",
            "Epoch 4/150\n",
            "100/100 [==============================] - 9s 94ms/step - loss: 0.6071 - accuracy: 0.6856 - val_loss: 0.5688 - val_accuracy: 0.6906\n",
            "Epoch 5/150\n",
            "100/100 [==============================] - 9s 89ms/step - loss: 0.5814 - accuracy: 0.6948 - val_loss: 0.5303 - val_accuracy: 0.7312\n",
            "Epoch 6/150\n",
            "100/100 [==============================] - 9s 86ms/step - loss: 0.5607 - accuracy: 0.7081 - val_loss: 0.5851 - val_accuracy: 0.6844\n",
            "Epoch 7/150\n",
            "100/100 [==============================] - 8s 78ms/step - loss: 0.5412 - accuracy: 0.7233 - val_loss: 0.4838 - val_accuracy: 0.7719\n",
            "Epoch 8/150\n",
            "100/100 [==============================] - 9s 88ms/step - loss: 0.5472 - accuracy: 0.7284 - val_loss: 0.5477 - val_accuracy: 0.7094\n",
            "Epoch 9/150\n",
            "100/100 [==============================] - 9s 86ms/step - loss: 0.5323 - accuracy: 0.7358 - val_loss: 0.5463 - val_accuracy: 0.7344\n",
            "Epoch 10/150\n",
            "100/100 [==============================] - 9s 87ms/step - loss: 0.5203 - accuracy: 0.7353 - val_loss: 0.4950 - val_accuracy: 0.7781\n",
            "Epoch 11/150\n",
            "100/100 [==============================] - 8s 78ms/step - loss: 0.5001 - accuracy: 0.7519 - val_loss: 0.5121 - val_accuracy: 0.7656\n",
            "Epoch 12/150\n",
            "100/100 [==============================] - 8s 79ms/step - loss: 0.5018 - accuracy: 0.7559 - val_loss: 0.5322 - val_accuracy: 0.7375\n",
            "Epoch 13/150\n",
            "100/100 [==============================] - 9s 87ms/step - loss: 0.4789 - accuracy: 0.7672 - val_loss: 0.4914 - val_accuracy: 0.7531\n",
            "Epoch 14/150\n",
            "100/100 [==============================] - 9s 87ms/step - loss: 0.4821 - accuracy: 0.7706 - val_loss: 0.5636 - val_accuracy: 0.7344\n",
            "Epoch 15/150\n",
            "100/100 [==============================] - 8s 79ms/step - loss: 0.4782 - accuracy: 0.7634 - val_loss: 0.5438 - val_accuracy: 0.7437\n",
            "Epoch 16/150\n",
            "100/100 [==============================] - 8s 78ms/step - loss: 0.4699 - accuracy: 0.7788 - val_loss: 0.5206 - val_accuracy: 0.7500\n",
            "Epoch 17/150\n",
            "100/100 [==============================] - 8s 85ms/step - loss: 0.4601 - accuracy: 0.7900 - val_loss: 0.5177 - val_accuracy: 0.7875\n",
            "Epoch 18/150\n",
            "100/100 [==============================] - 9s 90ms/step - loss: 0.4458 - accuracy: 0.7900 - val_loss: 0.4196 - val_accuracy: 0.7969\n",
            "Epoch 19/150\n",
            "100/100 [==============================] - 9s 89ms/step - loss: 0.4443 - accuracy: 0.7932 - val_loss: 0.4620 - val_accuracy: 0.7969\n",
            "Epoch 20/150\n",
            "100/100 [==============================] - 9s 86ms/step - loss: 0.4368 - accuracy: 0.7894 - val_loss: 0.5720 - val_accuracy: 0.7125\n",
            "Epoch 21/150\n",
            "100/100 [==============================] - 8s 83ms/step - loss: 0.4418 - accuracy: 0.7894 - val_loss: 0.5009 - val_accuracy: 0.7812\n",
            "Epoch 22/150\n",
            "100/100 [==============================] - 9s 88ms/step - loss: 0.4265 - accuracy: 0.8019 - val_loss: 0.5145 - val_accuracy: 0.7469\n",
            "Epoch 23/150\n",
            "100/100 [==============================] - 8s 78ms/step - loss: 0.4064 - accuracy: 0.8153 - val_loss: 0.4809 - val_accuracy: 0.8031\n",
            "Epoch 24/150\n",
            "100/100 [==============================] - 8s 84ms/step - loss: 0.4149 - accuracy: 0.8084 - val_loss: 0.3968 - val_accuracy: 0.8156\n",
            "Epoch 25/150\n",
            "100/100 [==============================] - 8s 85ms/step - loss: 0.4084 - accuracy: 0.8214 - val_loss: 0.4424 - val_accuracy: 0.7844\n",
            "Epoch 26/150\n",
            "100/100 [==============================] - 9s 87ms/step - loss: 0.4003 - accuracy: 0.8112 - val_loss: 0.4424 - val_accuracy: 0.8094\n",
            "Epoch 27/150\n",
            "100/100 [==============================] - 8s 76ms/step - loss: 0.3923 - accuracy: 0.8238 - val_loss: 0.5295 - val_accuracy: 0.7688\n",
            "Epoch 28/150\n",
            "100/100 [==============================] - 8s 78ms/step - loss: 0.3931 - accuracy: 0.8191 - val_loss: 0.4886 - val_accuracy: 0.7656\n",
            "Epoch 29/150\n",
            "100/100 [==============================] - 9s 86ms/step - loss: 0.3823 - accuracy: 0.8320 - val_loss: 0.4027 - val_accuracy: 0.8188\n",
            "Epoch 30/150\n",
            "100/100 [==============================] - 8s 85ms/step - loss: 0.3521 - accuracy: 0.8474 - val_loss: 0.6160 - val_accuracy: 0.7469\n",
            "Epoch 31/150\n",
            "100/100 [==============================] - 8s 78ms/step - loss: 0.3711 - accuracy: 0.8284 - val_loss: 0.4798 - val_accuracy: 0.7937\n",
            "Epoch 32/150\n",
            "100/100 [==============================] - 8s 83ms/step - loss: 0.3425 - accuracy: 0.8442 - val_loss: 0.5088 - val_accuracy: 0.8000\n",
            "Epoch 33/150\n",
            "100/100 [==============================] - 9s 88ms/step - loss: 0.3542 - accuracy: 0.8386 - val_loss: 0.5205 - val_accuracy: 0.7750\n",
            "Epoch 34/150\n",
            "100/100 [==============================] - 9s 89ms/step - loss: 0.3420 - accuracy: 0.8530 - val_loss: 0.5254 - val_accuracy: 0.8031\n",
            "Epoch 35/150\n",
            "100/100 [==============================] - 9s 87ms/step - loss: 0.3463 - accuracy: 0.8502 - val_loss: 0.4880 - val_accuracy: 0.7844\n",
            "Epoch 36/150\n",
            "100/100 [==============================] - 9s 85ms/step - loss: 0.3278 - accuracy: 0.8552 - val_loss: 0.5154 - val_accuracy: 0.7906\n",
            "Epoch 37/150\n",
            "100/100 [==============================] - 9s 85ms/step - loss: 0.3409 - accuracy: 0.8546 - val_loss: 0.5555 - val_accuracy: 0.7844\n",
            "Epoch 38/150\n",
            "100/100 [==============================] - 8s 84ms/step - loss: 0.3112 - accuracy: 0.8606 - val_loss: 0.5446 - val_accuracy: 0.7812\n",
            "Epoch 39/150\n",
            "100/100 [==============================] - 8s 79ms/step - loss: 0.3275 - accuracy: 0.8565 - val_loss: 0.5607 - val_accuracy: 0.7719\n",
            "Epoch 40/150\n",
            "100/100 [==============================] - 9s 86ms/step - loss: 0.2969 - accuracy: 0.8734 - val_loss: 0.4865 - val_accuracy: 0.7969\n",
            "Epoch 41/150\n",
            "100/100 [==============================] - 9s 87ms/step - loss: 0.2833 - accuracy: 0.8831 - val_loss: 0.6066 - val_accuracy: 0.7812\n",
            "Epoch 42/150\n",
            "100/100 [==============================] - 8s 76ms/step - loss: 0.2954 - accuracy: 0.8746 - val_loss: 0.4942 - val_accuracy: 0.7969\n",
            "Epoch 43/150\n",
            "100/100 [==============================] - 8s 76ms/step - loss: 0.2846 - accuracy: 0.8759 - val_loss: 0.5272 - val_accuracy: 0.7594\n",
            "Epoch 44/150\n",
            "100/100 [==============================] - 9s 87ms/step - loss: 0.2870 - accuracy: 0.8778 - val_loss: 0.5039 - val_accuracy: 0.7844\n",
            "Epoch 45/150\n",
            "100/100 [==============================] - 9s 87ms/step - loss: 0.2818 - accuracy: 0.8828 - val_loss: 0.5932 - val_accuracy: 0.7563\n",
            "Epoch 46/150\n",
            "100/100 [==============================] - 8s 75ms/step - loss: 0.2579 - accuracy: 0.8894 - val_loss: 0.6313 - val_accuracy: 0.8031\n",
            "Epoch 47/150\n",
            "100/100 [==============================] - 9s 87ms/step - loss: 0.2690 - accuracy: 0.8897 - val_loss: 0.5619 - val_accuracy: 0.7625\n",
            "Epoch 48/150\n",
            "100/100 [==============================] - 9s 87ms/step - loss: 0.2619 - accuracy: 0.8906 - val_loss: 0.5124 - val_accuracy: 0.7750\n",
            "Epoch 49/150\n",
            "100/100 [==============================] - 8s 76ms/step - loss: 0.2385 - accuracy: 0.8978 - val_loss: 0.5644 - val_accuracy: 0.7531\n",
            "Epoch 50/150\n",
            "100/100 [==============================] - 10s 95ms/step - loss: 0.2429 - accuracy: 0.9006 - val_loss: 0.5390 - val_accuracy: 0.7844\n",
            "Epoch 51/150\n",
            "100/100 [==============================] - 10s 97ms/step - loss: 0.2477 - accuracy: 0.8994 - val_loss: 0.3822 - val_accuracy: 0.8375\n",
            "Epoch 52/150\n",
            "100/100 [==============================] - 9s 87ms/step - loss: 0.2359 - accuracy: 0.9069 - val_loss: 0.5913 - val_accuracy: 0.7656\n",
            "Epoch 53/150\n",
            "100/100 [==============================] - 8s 78ms/step - loss: 0.2310 - accuracy: 0.9050 - val_loss: 0.6491 - val_accuracy: 0.7875\n",
            "Epoch 54/150\n",
            "100/100 [==============================] - 9s 85ms/step - loss: 0.2390 - accuracy: 0.9047 - val_loss: 0.5208 - val_accuracy: 0.7812\n",
            "Epoch 55/150\n",
            "100/100 [==============================] - 9s 87ms/step - loss: 0.2057 - accuracy: 0.9170 - val_loss: 0.4474 - val_accuracy: 0.8406\n",
            "Epoch 56/150\n",
            "100/100 [==============================] - 8s 85ms/step - loss: 0.2020 - accuracy: 0.9175 - val_loss: 0.5359 - val_accuracy: 0.7812\n",
            "Epoch 57/150\n",
            "100/100 [==============================] - 8s 76ms/step - loss: 0.2227 - accuracy: 0.9116 - val_loss: 0.4634 - val_accuracy: 0.8062\n",
            "Epoch 58/150\n",
            "100/100 [==============================] - 8s 84ms/step - loss: 0.2079 - accuracy: 0.9123 - val_loss: 0.5176 - val_accuracy: 0.8156\n",
            "Epoch 59/150\n",
            "100/100 [==============================] - 9s 85ms/step - loss: 0.1868 - accuracy: 0.9269 - val_loss: 0.5182 - val_accuracy: 0.8000\n",
            "Epoch 60/150\n",
            "100/100 [==============================] - 8s 77ms/step - loss: 0.2192 - accuracy: 0.9169 - val_loss: 0.5833 - val_accuracy: 0.8062\n",
            "Epoch 61/150\n",
            "100/100 [==============================] - 9s 85ms/step - loss: 0.1947 - accuracy: 0.9247 - val_loss: 0.5327 - val_accuracy: 0.8031\n",
            "Epoch 62/150\n",
            "100/100 [==============================] - 9s 87ms/step - loss: 0.1815 - accuracy: 0.9257 - val_loss: 0.6275 - val_accuracy: 0.7906\n",
            "Epoch 63/150\n",
            "100/100 [==============================] - 9s 87ms/step - loss: 0.1736 - accuracy: 0.9300 - val_loss: 0.5532 - val_accuracy: 0.8094\n",
            "Epoch 64/150\n",
            "100/100 [==============================] - 8s 77ms/step - loss: 0.1685 - accuracy: 0.9369 - val_loss: 0.4834 - val_accuracy: 0.8406\n",
            "Epoch 65/150\n",
            "100/100 [==============================] - 8s 81ms/step - loss: 0.1586 - accuracy: 0.9391 - val_loss: 0.6480 - val_accuracy: 0.7906\n",
            "Epoch 66/150\n",
            "100/100 [==============================] - 9s 89ms/step - loss: 0.1666 - accuracy: 0.9372 - val_loss: 0.6237 - val_accuracy: 0.7937\n",
            "Epoch 67/150\n",
            "100/100 [==============================] - 9s 91ms/step - loss: 0.1624 - accuracy: 0.9356 - val_loss: 0.5561 - val_accuracy: 0.8156\n",
            "Epoch 68/150\n",
            "100/100 [==============================] - 8s 78ms/step - loss: 0.1576 - accuracy: 0.9348 - val_loss: 0.5711 - val_accuracy: 0.8344\n",
            "Epoch 69/150\n",
            "100/100 [==============================] - 8s 81ms/step - loss: 0.1486 - accuracy: 0.9430 - val_loss: 0.6801 - val_accuracy: 0.8031\n",
            "Epoch 70/150\n",
            "100/100 [==============================] - 8s 83ms/step - loss: 0.1620 - accuracy: 0.9370 - val_loss: 0.7048 - val_accuracy: 0.7750\n",
            "Epoch 71/150\n",
            "100/100 [==============================] - 8s 84ms/step - loss: 0.1543 - accuracy: 0.9373 - val_loss: 0.6948 - val_accuracy: 0.7719\n",
            "Epoch 72/150\n",
            "100/100 [==============================] - 8s 76ms/step - loss: 0.1435 - accuracy: 0.9483 - val_loss: 0.7087 - val_accuracy: 0.7812\n",
            "Epoch 73/150\n",
            "100/100 [==============================] - 8s 84ms/step - loss: 0.1449 - accuracy: 0.9423 - val_loss: 0.7148 - val_accuracy: 0.7781\n",
            "Epoch 74/150\n",
            "100/100 [==============================] - 8s 83ms/step - loss: 0.1531 - accuracy: 0.9405 - val_loss: 0.6334 - val_accuracy: 0.8000\n",
            "Epoch 75/150\n",
            "100/100 [==============================] - 8s 78ms/step - loss: 0.1277 - accuracy: 0.9489 - val_loss: 0.7861 - val_accuracy: 0.7625\n",
            "Epoch 76/150\n",
            "100/100 [==============================] - 8s 79ms/step - loss: 0.1397 - accuracy: 0.9452 - val_loss: 0.7193 - val_accuracy: 0.7906\n",
            "Epoch 77/150\n",
            "100/100 [==============================] - 8s 83ms/step - loss: 0.1170 - accuracy: 0.9589 - val_loss: 0.6961 - val_accuracy: 0.7625\n",
            "Epoch 78/150\n",
            "100/100 [==============================] - 8s 84ms/step - loss: 0.1549 - accuracy: 0.9411 - val_loss: 0.6340 - val_accuracy: 0.8125\n",
            "Epoch 79/150\n",
            "100/100 [==============================] - 8s 79ms/step - loss: 0.1329 - accuracy: 0.9463 - val_loss: 0.5404 - val_accuracy: 0.8094\n",
            "Epoch 80/150\n",
            "100/100 [==============================] - 8s 76ms/step - loss: 0.1262 - accuracy: 0.9522 - val_loss: 0.5636 - val_accuracy: 0.8219\n",
            "Epoch 81/150\n",
            "100/100 [==============================] - 8s 85ms/step - loss: 0.1280 - accuracy: 0.9522 - val_loss: 0.6093 - val_accuracy: 0.8000\n",
            "Epoch 82/150\n",
            "100/100 [==============================] - 9s 90ms/step - loss: 0.1129 - accuracy: 0.9589 - val_loss: 0.6563 - val_accuracy: 0.7688\n",
            "Epoch 83/150\n",
            "100/100 [==============================] - 9s 85ms/step - loss: 0.1077 - accuracy: 0.9627 - val_loss: 0.7436 - val_accuracy: 0.7969\n",
            "Epoch 84/150\n",
            "100/100 [==============================] - 8s 79ms/step - loss: 0.1178 - accuracy: 0.9542 - val_loss: 0.6940 - val_accuracy: 0.8250\n",
            "Epoch 85/150\n",
            "100/100 [==============================] - 8s 76ms/step - loss: 0.1062 - accuracy: 0.9588 - val_loss: 0.6846 - val_accuracy: 0.8031\n",
            "Epoch 86/150\n",
            "100/100 [==============================] - 9s 85ms/step - loss: 0.1033 - accuracy: 0.9619 - val_loss: 0.6428 - val_accuracy: 0.8344\n",
            "Epoch 87/150\n",
            "100/100 [==============================] - 8s 85ms/step - loss: 0.1048 - accuracy: 0.9606 - val_loss: 0.6736 - val_accuracy: 0.8094\n",
            "Epoch 88/150\n",
            "100/100 [==============================] - 9s 85ms/step - loss: 0.1159 - accuracy: 0.9594 - val_loss: 0.6567 - val_accuracy: 0.8219\n",
            "Epoch 89/150\n",
            "100/100 [==============================] - 9s 85ms/step - loss: 0.1065 - accuracy: 0.9583 - val_loss: 0.6926 - val_accuracy: 0.8094\n",
            "Epoch 90/150\n",
            "100/100 [==============================] - 8s 77ms/step - loss: 0.1014 - accuracy: 0.9584 - val_loss: 0.8175 - val_accuracy: 0.7906\n",
            "Epoch 91/150\n",
            "100/100 [==============================] - 8s 83ms/step - loss: 0.1053 - accuracy: 0.9618 - val_loss: 0.8460 - val_accuracy: 0.7875\n",
            "Epoch 92/150\n",
            "100/100 [==============================] - 8s 84ms/step - loss: 0.0945 - accuracy: 0.9668 - val_loss: 0.7050 - val_accuracy: 0.8156\n",
            "Epoch 93/150\n",
            "100/100 [==============================] - 8s 82ms/step - loss: 0.0959 - accuracy: 0.9622 - val_loss: 0.7176 - val_accuracy: 0.8031\n",
            "Epoch 94/150\n",
            "100/100 [==============================] - 8s 79ms/step - loss: 0.0951 - accuracy: 0.9646 - val_loss: 0.6138 - val_accuracy: 0.8281\n",
            "Epoch 95/150\n",
            "100/100 [==============================] - 8s 85ms/step - loss: 0.0935 - accuracy: 0.9672 - val_loss: 0.8581 - val_accuracy: 0.8094\n",
            "Epoch 96/150\n",
            "100/100 [==============================] - 9s 85ms/step - loss: 0.0857 - accuracy: 0.9674 - val_loss: 0.9145 - val_accuracy: 0.7812\n",
            "Epoch 97/150\n",
            "100/100 [==============================] - 9s 85ms/step - loss: 0.0856 - accuracy: 0.9719 - val_loss: 0.9084 - val_accuracy: 0.8094\n",
            "Epoch 98/150\n",
            "100/100 [==============================] - 9s 89ms/step - loss: 0.0927 - accuracy: 0.9658 - val_loss: 0.7801 - val_accuracy: 0.7594\n",
            "Epoch 99/150\n",
            "100/100 [==============================] - 8s 83ms/step - loss: 0.0810 - accuracy: 0.9728 - val_loss: 0.6660 - val_accuracy: 0.8313\n",
            "Epoch 100/150\n",
            "100/100 [==============================] - 8s 82ms/step - loss: 0.0768 - accuracy: 0.9740 - val_loss: 0.9807 - val_accuracy: 0.7750\n",
            "Epoch 101/150\n",
            "100/100 [==============================] - 8s 85ms/step - loss: 0.0834 - accuracy: 0.9672 - val_loss: 0.7570 - val_accuracy: 0.8281\n",
            "Epoch 102/150\n",
            "100/100 [==============================] - 9s 86ms/step - loss: 0.0971 - accuracy: 0.9609 - val_loss: 0.8373 - val_accuracy: 0.7969\n",
            "Epoch 103/150\n",
            "100/100 [==============================] - 8s 80ms/step - loss: 0.0774 - accuracy: 0.9688 - val_loss: 0.6915 - val_accuracy: 0.7937\n",
            "Epoch 104/150\n",
            "100/100 [==============================] - 8s 83ms/step - loss: 0.0774 - accuracy: 0.9756 - val_loss: 0.9592 - val_accuracy: 0.7844\n",
            "Epoch 105/150\n",
            "100/100 [==============================] - 8s 83ms/step - loss: 0.0801 - accuracy: 0.9709 - val_loss: 0.8179 - val_accuracy: 0.8000\n",
            "Epoch 106/150\n",
            "100/100 [==============================] - 8s 78ms/step - loss: 0.0777 - accuracy: 0.9702 - val_loss: 0.8689 - val_accuracy: 0.8000\n",
            "Epoch 107/150\n",
            "100/100 [==============================] - 8s 77ms/step - loss: 0.0855 - accuracy: 0.9671 - val_loss: 0.7933 - val_accuracy: 0.8188\n",
            "Epoch 108/150\n",
            "100/100 [==============================] - 8s 83ms/step - loss: 0.0914 - accuracy: 0.9681 - val_loss: 0.9697 - val_accuracy: 0.7844\n",
            "Epoch 109/150\n",
            "100/100 [==============================] - 8s 84ms/step - loss: 0.0693 - accuracy: 0.9752 - val_loss: 0.9511 - val_accuracy: 0.7719\n",
            "Epoch 110/150\n",
            "100/100 [==============================] - 8s 84ms/step - loss: 0.0725 - accuracy: 0.9746 - val_loss: 0.8388 - val_accuracy: 0.7594\n",
            "Epoch 111/150\n",
            "100/100 [==============================] - 8s 81ms/step - loss: 0.0651 - accuracy: 0.9759 - val_loss: 0.9414 - val_accuracy: 0.7656\n",
            "Epoch 112/150\n",
            "100/100 [==============================] - 8s 79ms/step - loss: 0.0691 - accuracy: 0.9759 - val_loss: 1.1141 - val_accuracy: 0.7781\n",
            "Epoch 113/150\n",
            "100/100 [==============================] - 9s 85ms/step - loss: 0.0527 - accuracy: 0.9803 - val_loss: 0.9224 - val_accuracy: 0.8000\n",
            "Epoch 114/150\n",
            "100/100 [==============================] - 9s 92ms/step - loss: 0.0815 - accuracy: 0.9684 - val_loss: 0.7603 - val_accuracy: 0.7969\n",
            "Epoch 115/150\n",
            "100/100 [==============================] - 9s 90ms/step - loss: 0.0701 - accuracy: 0.9747 - val_loss: 1.2592 - val_accuracy: 0.7656\n",
            "Epoch 116/150\n",
            "100/100 [==============================] - 8s 78ms/step - loss: 0.0707 - accuracy: 0.9759 - val_loss: 0.9353 - val_accuracy: 0.7719\n",
            "Epoch 117/150\n",
            "100/100 [==============================] - 8s 82ms/step - loss: 0.0754 - accuracy: 0.9709 - val_loss: 0.8186 - val_accuracy: 0.7906\n",
            "Epoch 118/150\n",
            "100/100 [==============================] - 8s 85ms/step - loss: 0.0667 - accuracy: 0.9772 - val_loss: 0.9748 - val_accuracy: 0.7750\n",
            "Epoch 119/150\n",
            "100/100 [==============================] - 8s 85ms/step - loss: 0.0731 - accuracy: 0.9753 - val_loss: 0.7287 - val_accuracy: 0.8250\n",
            "Epoch 120/150\n",
            "100/100 [==============================] - 8s 81ms/step - loss: 0.0689 - accuracy: 0.9756 - val_loss: 0.7866 - val_accuracy: 0.8125\n",
            "Epoch 121/150\n",
            "100/100 [==============================] - 8s 80ms/step - loss: 0.0660 - accuracy: 0.9772 - val_loss: 0.9963 - val_accuracy: 0.8031\n",
            "Epoch 122/150\n",
            "100/100 [==============================] - 8s 79ms/step - loss: 0.0592 - accuracy: 0.9769 - val_loss: 0.8430 - val_accuracy: 0.7781\n",
            "Epoch 123/150\n",
            "100/100 [==============================] - 9s 86ms/step - loss: 0.0623 - accuracy: 0.9806 - val_loss: 0.7503 - val_accuracy: 0.7937\n",
            "Epoch 124/150\n",
            "100/100 [==============================] - 8s 83ms/step - loss: 0.0682 - accuracy: 0.9727 - val_loss: 0.9529 - val_accuracy: 0.8062\n",
            "Epoch 125/150\n",
            "100/100 [==============================] - 8s 80ms/step - loss: 0.0620 - accuracy: 0.9791 - val_loss: 1.1983 - val_accuracy: 0.7656\n",
            "Epoch 126/150\n",
            "100/100 [==============================] - 8s 79ms/step - loss: 0.0733 - accuracy: 0.9756 - val_loss: 0.7773 - val_accuracy: 0.8188\n",
            "Epoch 127/150\n",
            "100/100 [==============================] - 8s 84ms/step - loss: 0.0659 - accuracy: 0.9771 - val_loss: 0.9165 - val_accuracy: 0.7781\n",
            "Epoch 128/150\n",
            "100/100 [==============================] - 9s 85ms/step - loss: 0.0621 - accuracy: 0.9781 - val_loss: 0.8563 - val_accuracy: 0.7875\n",
            "Epoch 129/150\n",
            "100/100 [==============================] - 9s 88ms/step - loss: 0.0544 - accuracy: 0.9812 - val_loss: 1.1909 - val_accuracy: 0.7594\n",
            "Epoch 130/150\n",
            "100/100 [==============================] - 8s 78ms/step - loss: 0.0601 - accuracy: 0.9815 - val_loss: 1.1913 - val_accuracy: 0.7656\n",
            "Epoch 131/150\n",
            "100/100 [==============================] - 8s 78ms/step - loss: 0.0460 - accuracy: 0.9841 - val_loss: 0.6553 - val_accuracy: 0.8313\n",
            "Epoch 132/150\n",
            "100/100 [==============================] - 9s 86ms/step - loss: 0.0822 - accuracy: 0.9669 - val_loss: 1.0078 - val_accuracy: 0.7937\n",
            "Epoch 133/150\n",
            "100/100 [==============================] - 9s 92ms/step - loss: 0.0619 - accuracy: 0.9775 - val_loss: 0.9995 - val_accuracy: 0.8000\n",
            "Epoch 134/150\n",
            "100/100 [==============================] - 9s 89ms/step - loss: 0.0506 - accuracy: 0.9822 - val_loss: 1.0331 - val_accuracy: 0.7750\n",
            "Epoch 135/150\n",
            "100/100 [==============================] - 8s 78ms/step - loss: 0.0538 - accuracy: 0.9825 - val_loss: 0.7683 - val_accuracy: 0.8313\n",
            "Epoch 136/150\n",
            "100/100 [==============================] - 8s 80ms/step - loss: 0.0397 - accuracy: 0.9853 - val_loss: 1.0698 - val_accuracy: 0.8094\n",
            "Epoch 137/150\n",
            "100/100 [==============================] - 8s 84ms/step - loss: 0.0454 - accuracy: 0.9846 - val_loss: 1.0523 - val_accuracy: 0.7844\n",
            "Epoch 138/150\n",
            "100/100 [==============================] - 9s 85ms/step - loss: 0.0615 - accuracy: 0.9784 - val_loss: 0.8604 - val_accuracy: 0.8000\n",
            "Epoch 139/150\n",
            "100/100 [==============================] - 8s 80ms/step - loss: 0.0567 - accuracy: 0.9822 - val_loss: 1.0450 - val_accuracy: 0.7688\n",
            "Epoch 140/150\n",
            "100/100 [==============================] - 8s 77ms/step - loss: 0.0505 - accuracy: 0.9828 - val_loss: 0.9376 - val_accuracy: 0.7875\n",
            "Epoch 141/150\n",
            "100/100 [==============================] - 8s 80ms/step - loss: 0.0535 - accuracy: 0.9777 - val_loss: 0.9794 - val_accuracy: 0.8031\n",
            "Epoch 142/150\n",
            "100/100 [==============================] - 8s 84ms/step - loss: 0.0580 - accuracy: 0.9772 - val_loss: 0.8719 - val_accuracy: 0.7906\n",
            "Epoch 143/150\n",
            "100/100 [==============================] - 9s 85ms/step - loss: 0.0474 - accuracy: 0.9828 - val_loss: 1.1514 - val_accuracy: 0.7844\n",
            "Epoch 144/150\n",
            "100/100 [==============================] - 8s 84ms/step - loss: 0.0615 - accuracy: 0.9777 - val_loss: 1.3401 - val_accuracy: 0.7531\n",
            "Epoch 145/150\n",
            "100/100 [==============================] - 9s 87ms/step - loss: 0.0673 - accuracy: 0.9756 - val_loss: 0.9662 - val_accuracy: 0.7719\n",
            "Epoch 146/150\n",
            "100/100 [==============================] - 8s 84ms/step - loss: 0.0547 - accuracy: 0.9794 - val_loss: 1.1020 - val_accuracy: 0.7781\n",
            "Epoch 147/150\n",
            "100/100 [==============================] - 9s 85ms/step - loss: 0.0438 - accuracy: 0.9825 - val_loss: 1.3534 - val_accuracy: 0.7688\n",
            "Epoch 148/150\n",
            "100/100 [==============================] - 8s 83ms/step - loss: 0.0554 - accuracy: 0.9803 - val_loss: 1.0593 - val_accuracy: 0.7969\n",
            "Epoch 149/150\n",
            "100/100 [==============================] - 8s 77ms/step - loss: 0.0564 - accuracy: 0.9816 - val_loss: 0.8865 - val_accuracy: 0.8188\n",
            "Epoch 150/150\n",
            "100/100 [==============================] - 8s 84ms/step - loss: 0.0512 - accuracy: 0.9825 - val_loss: 0.9746 - val_accuracy: 0.8094\n"
          ]
        },
        {
          "output_type": "execute_result",
          "data": {
            "text/plain": [
              "<keras.callbacks.History at 0x7fc3f00e2140>"
            ]
          },
          "metadata": {},
          "execution_count": 33
        }
      ]
    },
    {
      "cell_type": "code",
      "metadata": {
        "id": "HIH41s-N4CHd",
        "colab": {
          "base_uri": "https://localhost:8080/"
        },
        "outputId": "28a722ba-2aa4-4bb1-a968-f954bd7c0219"
      },
      "source": [
        "classifier.get_weights()"
      ],
      "execution_count": null,
      "outputs": [
        {
          "output_type": "execute_result",
          "data": {
            "text/plain": [
              "[array([[[[-0.08023769,  0.05446704,  0.12622593,  0.11128315,\n",
              "           -0.23007661, -0.12846035, -0.24235599, -0.17582147,\n",
              "           -0.18486774, -0.21605514, -0.14869973,  0.17283793,\n",
              "           -0.09227959,  0.26343265, -0.15642814, -0.03565626,\n",
              "            0.14127868,  0.15746589,  0.06684465, -0.09541034,\n",
              "            0.00844188, -0.22667003, -0.10171208, -0.23090857,\n",
              "           -0.01935218, -0.2592222 , -0.25036368, -0.20315985,\n",
              "            0.14357902, -0.23744157,  0.21690041,  0.00555435],\n",
              "          [-0.2557505 , -0.055417  ,  0.30715767,  0.25510347,\n",
              "           -0.29585433,  0.06423315, -0.10139374, -0.00933578,\n",
              "           -0.36399174, -0.06112319, -0.09748793,  0.0585148 ,\n",
              "           -0.07667062, -0.17597443, -0.12156321, -0.01347203,\n",
              "           -0.05562737,  0.12517017,  0.13720827, -0.14016552,\n",
              "            0.00503145,  0.02579279,  0.05579943,  0.1390899 ,\n",
              "            0.18228425, -0.03760979,  0.05272873, -0.00254271,\n",
              "            0.2210655 , -0.11545432, -0.18667772, -0.23356995],\n",
              "          [-0.0751157 , -0.14146999,  0.21559165,  0.12040645,\n",
              "           -0.32100457, -0.14394514,  0.02327596, -0.2262229 ,\n",
              "           -0.39230764, -0.25252947, -0.13962059,  0.06741264,\n",
              "           -0.11180931, -0.26398316, -0.0103348 ,  0.07311433,\n",
              "            0.00690693,  0.04840123,  0.01694147,  0.08802398,\n",
              "            0.0504682 , -0.07945724, -0.20520721, -0.1634149 ,\n",
              "            0.2869093 , -0.00759864,  0.14856714, -0.04956042,\n",
              "            0.1358573 , -0.03516687,  0.05934055, -0.01736003]],\n",
              " \n",
              "         [[-0.2549672 , -0.12506807,  0.22557567,  0.10132949,\n",
              "           -0.06370521, -0.30690834, -0.03725316, -0.16113327,\n",
              "           -0.16062813,  0.11813042, -0.18512043,  0.12892771,\n",
              "            0.11084599,  0.09707952, -0.25178322,  0.12728868,\n",
              "           -0.01193089,  0.1819527 ,  0.33247462, -0.10735717,\n",
              "            0.05930454, -0.13175687, -0.06154122, -0.02516671,\n",
              "           -0.02927904,  0.03109879, -0.20629928, -0.1431808 ,\n",
              "            0.28451306, -0.23421268,  0.21536806, -0.18991745],\n",
              "          [-0.316192  , -0.13081387,  0.23090558,  0.12134092,\n",
              "           -0.24022657, -0.27039304, -0.23555861, -0.00722164,\n",
              "           -0.10703778, -0.02037401, -0.08734945,  0.05544675,\n",
              "           -0.21661304, -0.05921769, -0.10690685,  0.03136856,\n",
              "           -0.07100821,  0.12745851,  0.12411454,  0.11089726,\n",
              "            0.05740049, -0.0626872 ,  0.04143772,  0.22661951,\n",
              "           -0.02889508,  0.0288948 ,  0.07747108, -0.14899021,\n",
              "            0.15254082,  0.01683818,  0.00440216, -0.27446324],\n",
              "          [-0.13400026, -0.02058631,  0.18681   ,  0.18336743,\n",
              "           -0.08307873, -0.27006924, -0.13565576, -0.01230914,\n",
              "           -0.32639942, -0.01748099, -0.21645266,  0.12069769,\n",
              "           -0.10140867, -0.10725496,  0.01784674,  0.14534347,\n",
              "           -0.14750011, -0.10994836,  0.0948102 ,  0.00338328,\n",
              "           -0.12723243, -0.2666626 , -0.11115442,  0.02302384,\n",
              "           -0.14132738,  0.04673494,  0.06321847,  0.16914883,\n",
              "            0.2624001 ,  0.17492165,  0.18172836,  0.02460258]],\n",
              " \n",
              "         [[-0.27030927, -0.06251328,  0.09409803,  0.01781839,\n",
              "            0.05727101, -0.12450163, -0.00930665,  0.01199268,\n",
              "           -0.13217945,  0.19269195,  0.01497337, -0.04823262,\n",
              "            0.00061687,  0.06813775, -0.1497256 ,  0.14243631,\n",
              "           -0.05531176,  0.23290533,  0.20813958,  0.02580275,\n",
              "           -0.06138744, -0.12349349,  0.12307033, -0.05178522,\n",
              "           -0.01738648,  0.22633098, -0.2870197 , -0.15776035,\n",
              "           -0.12625991, -0.11775497,  0.0327578 , -0.12293179],\n",
              "          [-0.27923483,  0.02947728,  0.14136305,  0.13627861,\n",
              "            0.07152764, -0.23237886, -0.09246655,  0.1885141 ,\n",
              "           -0.3086203 ,  0.25217903, -0.26281977, -0.00330684,\n",
              "           -0.16172472, -0.03871159, -0.02351233,  0.13851923,\n",
              "           -0.27308908,  0.14951044,  0.04416898,  0.09932546,\n",
              "           -0.08136493,  0.06798171,  0.10681172,  0.22179803,\n",
              "           -0.1461917 ,  0.27687255, -0.05865942, -0.01421375,\n",
              "           -0.13308717, -0.04553383, -0.18627591, -0.15547526],\n",
              "          [ 0.08329812, -0.07824686,  0.19215101,  0.06199076,\n",
              "            0.1984512 , -0.26137683, -0.07011337, -0.14881632,\n",
              "           -0.3611028 ,  0.32771048, -0.27128455, -0.2246213 ,\n",
              "            0.08912886, -0.245944  ,  0.00859615,  0.07120308,\n",
              "           -0.07281944, -0.22959605,  0.09400684,  0.06452632,\n",
              "           -0.14528583,  0.06910228,  0.07810698,  0.08810773,\n",
              "           -0.10850384,  0.22594802,  0.13445094,  0.12803732,\n",
              "           -0.13028732,  0.12438138, -0.06470742,  0.00622937]]],\n",
              " \n",
              " \n",
              "        [[[ 0.16069102, -0.15741651, -0.12368631, -0.19332561,\n",
              "           -0.08945475,  0.23569116, -0.13181643,  0.22803836,\n",
              "            0.08352587, -0.21589819,  0.14561322,  0.1586322 ,\n",
              "            0.07962749,  0.17953064,  0.1362315 , -0.2503698 ,\n",
              "            0.28588498,  0.11984955,  0.02226106,  0.25073728,\n",
              "           -0.18681347, -0.24019071,  0.15055119, -0.08423803,\n",
              "           -0.18064862, -0.1675386 , -0.19598353, -0.03282765,\n",
              "            0.15507746, -0.08093151,  0.1291902 , -0.15447508],\n",
              "          [-0.13726367,  0.10160659, -0.13084976, -0.10153545,\n",
              "           -0.36277187,  0.06689339, -0.15931068,  0.31467614,\n",
              "            0.14583395, -0.32033506, -0.06068556,  0.24374425,\n",
              "           -0.1870947 , -0.12373186, -0.05552087, -0.0188433 ,\n",
              "           -0.05149662, -0.08809978, -0.3118095 ,  0.03118437,\n",
              "           -0.13982366, -0.00723026,  0.07654771,  0.1693608 ,\n",
              "           -0.115658  , -0.0902672 ,  0.02959656,  0.01769315,\n",
              "            0.05223603,  0.00821988,  0.05690097, -0.26371592],\n",
              "          [-0.00897127, -0.00681854, -0.09907622, -0.15822901,\n",
              "           -0.24935435,  0.24199103, -0.16057564,  0.24374394,\n",
              "           -0.03479312, -0.16747914, -0.04399296,  0.22667524,\n",
              "            0.08935243, -0.17192364, -0.00164027, -0.12507853,\n",
              "           -0.15747695, -0.19217083, -0.21183938,  0.23091891,\n",
              "           -0.09062032, -0.16844219, -0.18071881,  0.10143232,\n",
              "           -0.07729248, -0.04637533,  0.267451  , -0.07685061,\n",
              "            0.04103373,  0.2464778 ,  0.07974089, -0.01770301]],\n",
              " \n",
              "         [[ 0.14579041,  0.0395162 ,  0.13674483, -0.18414679,\n",
              "            0.04757717,  0.03522249, -0.19571097, -0.01140363,\n",
              "            0.14814647, -0.24406144, -0.13063282, -0.00991184,\n",
              "           -0.13700047,  0.10361357,  0.06156958, -0.0939788 ,\n",
              "            0.26231137,  0.00966208,  0.14307345, -0.09724481,\n",
              "            0.05271477, -0.03776457,  0.18116432, -0.06626951,\n",
              "           -0.22746281,  0.07074109, -0.08323145, -0.08715098,\n",
              "            0.0870932 , -0.13176107, -0.05516347,  0.12200557],\n",
              "          [-0.11626856, -0.09291589,  0.10821004, -0.03583486,\n",
              "           -0.05346518, -0.01901121,  0.02484923,  0.09065003,\n",
              "            0.1794586 , -0.03916214,  0.01799718,  0.07277568,\n",
              "           -0.14161958, -0.05579724, -0.25431925,  0.05536237,\n",
              "            0.03263358,  0.04720705,  0.01781252, -0.13383058,\n",
              "           -0.03879942,  0.13091548,  0.01186549,  0.2496113 ,\n",
              "           -0.12349125, -0.12087314, -0.05189451, -0.11275677,\n",
              "           -0.0660801 ,  0.08226117, -0.16057944, -0.16468301],\n",
              "          [-0.07388967, -0.03462639,  0.00152083,  0.06001421,\n",
              "            0.0771321 , -0.0659214 , -0.17531832, -0.16617998,\n",
              "            0.1464882 , -0.05986438,  0.00880618,  0.12569585,\n",
              "            0.09266245, -0.09543931, -0.00286619,  0.12944607,\n",
              "           -0.0943263 , -0.18604617,  0.03671434, -0.05177655,\n",
              "           -0.06615499, -0.03949025,  0.02358158,  0.01252674,\n",
              "           -0.2490302 , -0.12359453,  0.19836085,  0.17059372,\n",
              "           -0.07196242,  0.24185382,  0.17521793, -0.16718474]],\n",
              " \n",
              "         [[ 0.12390494, -0.08548942, -0.03708632, -0.29892793,\n",
              "            0.20738602, -0.14451216, -0.10558292, -0.15148674,\n",
              "            0.01496172, -0.05523716, -0.05849081, -0.06277089,\n",
              "            0.05186485,  0.19076933, -0.22431508,  0.11198341,\n",
              "           -0.07881025,  0.17379689, -0.0181437 , -0.22127469,\n",
              "            0.03157355,  0.11133099,  0.10090514,  0.04904922,\n",
              "            0.12403996,  0.30068243, -0.01477636, -0.0623929 ,\n",
              "           -0.11631022, -0.02324921,  0.04572884,  0.1487938 ],\n",
              "          [ 0.0406445 , -0.02120674,  0.07209455, -0.17846204,\n",
              "            0.15655844, -0.02141786,  0.14645475,  0.18214233,\n",
              "           -0.0637042 ,  0.0240892 , -0.27354822, -0.21696255,\n",
              "           -0.14591214, -0.2613647 , -0.11667935,  0.0259152 ,\n",
              "           -0.08195974, -0.09098872,  0.14398047, -0.2607244 ,\n",
              "            0.06934159,  0.14319842, -0.02206631,  0.24776153,\n",
              "            0.03407618,  0.24829002, -0.14012721, -0.12307768,\n",
              "           -0.01141588, -0.09401406, -0.31981692,  0.02082446],\n",
              "          [ 0.14526865,  0.03184484,  0.16489317, -0.24224907,\n",
              "            0.28474262, -0.12972765, -0.05556899,  0.04464113,\n",
              "            0.10080363,  0.21305399, -0.25354335, -0.36728558,\n",
              "            0.04948365, -0.25082204,  0.05610329,  0.13873972,\n",
              "           -0.02351529, -0.2801125 ,  0.24292378, -0.05471561,\n",
              "           -0.12503344,  0.18239297, -0.07906257,  0.02420628,\n",
              "            0.03676055,  0.25731722,  0.16112   ,  0.06480151,\n",
              "           -0.11979578,  0.23460466,  0.0890012 ,  0.05858053]]],\n",
              " \n",
              " \n",
              "        [[[ 0.10561263, -0.06879974, -0.14666606, -0.13117145,\n",
              "            0.05385949,  0.25631428, -0.06352676, -0.19012466,\n",
              "           -0.05805909, -0.14663064, -0.18720172,  0.01814797,\n",
              "           -0.09603249, -0.04600142,  0.2921069 , -0.08298216,\n",
              "            0.25368738,  0.13551119, -0.2881445 ,  0.34973738,\n",
              "            0.00259904, -0.15778312,  0.23115683,  0.02393481,\n",
              "           -0.19659248, -0.23921536, -0.0795328 ,  0.00441787,\n",
              "           -0.20352846, -0.26937136,  0.09124802,  0.1497275 ],\n",
              "          [ 0.14706784, -0.02635033, -0.2639143 , -0.04570106,\n",
              "           -0.08926882,  0.15734704, -0.13856985, -0.01623522,\n",
              "            0.03431377, -0.26835883, -0.24631986,  0.20679522,\n",
              "           -0.21954036, -0.342914  ,  0.03076665, -0.13282387,\n",
              "           -0.06885745, -0.17926517, -0.3707852 ,  0.21647477,\n",
              "           -0.21346043,  0.10870454, -0.05540434,  0.12922055,\n",
              "           -0.20741603, -0.13768183, -0.05514299, -0.13165487,\n",
              "           -0.10690725,  0.07696604, -0.00765888, -0.02573227],\n",
              "          [-0.04961621,  0.04038084, -0.13769853, -0.08489356,\n",
              "           -0.20634227,  0.20858921, -0.00653683, -0.26242208,\n",
              "           -0.09239213, -0.32242653, -0.31259534,  0.28364047,\n",
              "           -0.05926478, -0.26879114,  0.06709584,  0.04586004,\n",
              "           -0.09019481, -0.17838734, -0.1261215 ,  0.17820565,\n",
              "            0.00057579,  0.06475946, -0.18950069,  0.15532438,\n",
              "           -0.03953845, -0.14644387,  0.27253655,  0.02414817,\n",
              "           -0.09073623,  0.23091571,  0.20522408, -0.10190588]],\n",
              " \n",
              "         [[ 0.16416582, -0.11826745, -0.22923599, -0.12805204,\n",
              "            0.04581949,  0.11633303, -0.07659456,  0.07933441,\n",
              "           -0.16539335, -0.27437514, -0.09179887, -0.14134122,\n",
              "            0.07614962, -0.03417826,  0.17495425, -0.16088028,\n",
              "            0.17104797,  0.1370241 , -0.25982288, -0.07940069,\n",
              "            0.00098205,  0.15209518,  0.26384234, -0.14656407,\n",
              "            0.16108808, -0.11481469, -0.12925032,  0.04629306,\n",
              "           -0.01605094, -0.12537895, -0.12452959,  0.28309408],\n",
              "          [ 0.14887649, -0.05121507, -0.32732418,  0.06791235,\n",
              "            0.2210899 ,  0.2822551 ,  0.08544217,  0.18458875,\n",
              "           -0.03030527, -0.30311164, -0.15803699,  0.00852708,\n",
              "           -0.14357929, -0.12604122,  0.03552663, -0.06119706,\n",
              "           -0.11944   ,  0.02444586, -0.2946685 , -0.0502769 ,\n",
              "            0.10358124,  0.25936627,  0.10619775, -0.01339525,\n",
              "            0.1207641 , -0.14513633,  0.02744885, -0.21393694,\n",
              "           -0.09181676, -0.07764933, -0.11533746,  0.0140798 ],\n",
              "          [ 0.16804016, -0.02067246, -0.2351009 ,  0.1182233 ,\n",
              "            0.25200456,  0.30199823, -0.11955353,  0.01880134,\n",
              "           -0.05692084, -0.23331523, -0.3232288 , -0.15332824,\n",
              "           -0.06262281, -0.25082254, -0.05302486,  0.07217798,\n",
              "           -0.04014979, -0.32240865, -0.04962532, -0.08141363,\n",
              "           -0.15502761,  0.23737833, -0.1510156 ,  0.07839891,\n",
              "           -0.04269589, -0.22682837,  0.23926708,  0.1439157 ,\n",
              "           -0.3006366 ,  0.1236717 ,  0.08462366,  0.10147832]],\n",
              " \n",
              "         [[ 0.29453382,  0.08298539, -0.14279422, -0.26171958,\n",
              "            0.04900066,  0.04856163,  0.16879739, -0.10412412,\n",
              "           -0.13785218,  0.16052245, -0.09848287, -0.20500886,\n",
              "           -0.01704993, -0.11467597, -0.16262335,  0.09500474,\n",
              "            0.17892866, -0.12588102, -0.02724187, -0.02476768,\n",
              "            0.06989726, -0.14612527,  0.20669979, -0.15806186,\n",
              "            0.24163932,  0.2271804 , -0.03551962, -0.19036128,\n",
              "           -0.20974939, -0.21180837, -0.14875542,  0.09646112],\n",
              "          [ 0.0052052 , -0.04357979, -0.11162512,  0.0590579 ,\n",
              "            0.22939   ,  0.10232687,  0.17349976,  0.05108988,\n",
              "            0.09026013,  0.1396521 , -0.18935248, -0.3352033 ,\n",
              "           -0.135896  , -0.2585665 , -0.13182715,  0.02507243,\n",
              "            0.05202491,  0.05451878, -0.13554591, -0.18419409,\n",
              "           -0.17037931,  0.14734018,  0.14524949,  0.06648152,\n",
              "            0.24132486,  0.18698321, -0.04432996, -0.14998573,\n",
              "           -0.15642412,  0.06280378, -0.29083422,  0.01054311],\n",
              "          [ 0.12418377, -0.06260819, -0.14487842,  0.09866685,\n",
              "            0.16370417, -0.09194614,  0.22581823, -0.19107896,\n",
              "           -0.12575553, -0.01690225, -0.2987641 , -0.31020373,\n",
              "           -0.12563044, -0.21993773, -0.05337528,  0.03711849,\n",
              "           -0.11401222, -0.09804273,  0.10251696, -0.25330067,\n",
              "           -0.1768919 ,  0.169134  , -0.04227629, -0.20126775,\n",
              "            0.15750729,  0.0815034 ,  0.17179167, -0.07132779,\n",
              "           -0.14991404,  0.09822065, -0.10684074,  0.17247757]]]],\n",
              "       dtype=float32),\n",
              " array([ 0.05390893, -0.03668026, -0.00994927,  0.00370552, -0.02441954,\n",
              "         0.00200865,  0.03395114,  0.02952978, -0.06678133,  0.13958699,\n",
              "         0.11774996, -0.07065204, -0.03505405,  0.12500435,  0.02147491,\n",
              "        -0.2387554 , -0.02343784, -0.03340046,  0.0226774 ,  0.04282876,\n",
              "        -0.05097282, -0.07186804, -0.29224408, -0.23197237,  0.036742  ,\n",
              "        -0.14730197,  0.02251341,  0.00055508,  0.01812746,  0.0243948 ,\n",
              "        -0.07632558,  0.06459447], dtype=float32),\n",
              " array([[[[-2.80108005e-01, -1.35590971e-01,  9.27359387e-02, ...,\n",
              "            4.23964858e-01,  4.72305156e-02,  4.67464104e-02],\n",
              "          [-8.03042650e-02,  4.27275896e-02, -7.99261108e-02, ...,\n",
              "           -2.20760796e-02,  1.80197023e-02, -4.61905077e-02],\n",
              "          [ 1.04813397e-01, -4.35919501e-02,  1.55406982e-01, ...,\n",
              "            1.27670951e-02,  9.67716624e-04, -2.48477474e-01],\n",
              "          ...,\n",
              "          [-1.71111301e-01, -9.46351960e-02,  1.61079377e-01, ...,\n",
              "           -1.81179121e-01, -6.38765246e-02, -1.49360090e-01],\n",
              "          [ 2.93540172e-02,  1.71811804e-02,  1.68914329e-02, ...,\n",
              "           -1.70987323e-01, -6.77371696e-02, -7.45294839e-02],\n",
              "          [-3.35788995e-01, -5.12588806e-02, -1.05864964e-01, ...,\n",
              "            3.30890834e-01, -5.04665859e-02, -1.48733139e-01]],\n",
              " \n",
              "         [[-2.45979935e-01, -1.16220992e-02, -3.10223401e-01, ...,\n",
              "            1.22498080e-01,  7.24183545e-02, -2.32105050e-02],\n",
              "          [ 2.15912834e-02, -1.83684789e-02,  2.94373161e-03, ...,\n",
              "            8.10578912e-02,  2.74410360e-02, -7.82909170e-02],\n",
              "          [ 8.68883580e-02, -4.90195677e-02,  1.72126830e-01, ...,\n",
              "            1.04416639e-03, -7.61100277e-02,  1.16857409e-01],\n",
              "          ...,\n",
              "          [ 3.29046808e-02, -2.40578093e-02,  1.35280658e-02, ...,\n",
              "            4.62358519e-02, -3.48949581e-02, -8.77735689e-02],\n",
              "          [-6.60349950e-02, -2.95064971e-03, -4.23814654e-02, ...,\n",
              "           -1.86492167e-02, -1.98763952e-01, -9.05935541e-02],\n",
              "          [-1.84052855e-01,  2.53708655e-04, -2.56066948e-01, ...,\n",
              "            1.94392338e-01,  2.63214298e-02, -1.12427227e-01]],\n",
              " \n",
              "         [[-2.69604325e-01, -2.67004035e-03, -2.88555236e-03, ...,\n",
              "           -6.85307980e-02,  5.91728278e-02, -2.65615106e-01],\n",
              "          [ 1.39899291e-02,  6.97797760e-02,  1.15476260e-02, ...,\n",
              "            2.72942428e-02,  1.24803400e-02,  4.18179594e-02],\n",
              "          [ 7.80273750e-02, -7.56859928e-02, -4.51338813e-02, ...,\n",
              "           -2.12107122e-01, -9.00300071e-02,  2.45321989e-01],\n",
              "          ...,\n",
              "          [-9.47302431e-02, -6.39345720e-02, -1.15185395e-01, ...,\n",
              "            2.08705261e-01, -1.02871001e-01, -8.94264877e-02],\n",
              "          [-4.83101122e-02, -1.57405362e-02, -1.98148832e-01, ...,\n",
              "            2.13089716e-02, -9.90493968e-03,  1.23654753e-01],\n",
              "          [-2.02678338e-01,  1.78221185e-02, -1.09573849e-01, ...,\n",
              "           -4.50930037e-02, -2.63443086e-02,  9.77649614e-02]]],\n",
              " \n",
              " \n",
              "        [[[-9.65151936e-03, -2.86921412e-02, -2.24851340e-01, ...,\n",
              "           -1.02389671e-01, -8.19971338e-02, -9.89458486e-02],\n",
              "          [ 5.45099676e-02, -3.93730961e-02, -2.20361724e-02, ...,\n",
              "            7.52567053e-02,  3.22291031e-02,  1.77920870e-02],\n",
              "          [ 1.00362465e-01, -7.85415694e-02,  2.72582978e-01, ...,\n",
              "            3.21593344e-01, -1.37673020e-01, -4.58358407e-01],\n",
              "          ...,\n",
              "          [-2.97457367e-01, -4.45355289e-02,  7.86959976e-02, ...,\n",
              "           -2.98385084e-01, -8.41251016e-02, -9.29625239e-03],\n",
              "          [-7.63615295e-02, -6.37456030e-02,  1.60473973e-01, ...,\n",
              "           -1.13486163e-01, -2.66248554e-01,  5.44413589e-02],\n",
              "          [ 1.29330024e-01,  6.53323671e-03, -2.25015745e-01, ...,\n",
              "           -4.76344340e-02,  5.27964421e-02, -3.59481812e-01]],\n",
              " \n",
              "         [[-8.43880475e-02, -6.20157681e-02,  6.67297617e-02, ...,\n",
              "            1.40444696e-01,  2.50985809e-02, -2.88235340e-02],\n",
              "          [-6.78723082e-02,  2.09361389e-02, -3.08542158e-02, ...,\n",
              "           -6.86100964e-03,  7.93206617e-02,  4.80883792e-02],\n",
              "          [ 2.17283905e-01,  5.98608032e-02,  9.28066447e-02, ...,\n",
              "            2.22691357e-01, -1.31006628e-01,  2.77083963e-02],\n",
              "          ...,\n",
              "          [-2.98854560e-01, -2.51888260e-02, -7.97369331e-02, ...,\n",
              "           -4.16440964e-02,  7.01363236e-02, -1.27005681e-01],\n",
              "          [-4.13716771e-02, -1.48608861e-02, -2.21864097e-02, ...,\n",
              "            6.73392322e-03, -8.90576541e-02,  1.98546022e-01],\n",
              "          [-2.97061987e-02,  3.45451720e-02, -2.59268261e-03, ...,\n",
              "           -1.62726834e-01,  1.11823082e-01,  6.28145933e-02]],\n",
              " \n",
              "         [[-1.49569228e-01, -8.26606750e-02,  1.01179995e-01, ...,\n",
              "            1.81190502e-02,  1.26510458e-02, -2.00279057e-01],\n",
              "          [-5.23338467e-02, -7.98064023e-02, -2.68045198e-02, ...,\n",
              "           -5.48814349e-02, -2.95679383e-02, -5.49333990e-02],\n",
              "          [ 1.13300875e-01, -5.89713752e-02, -1.89616352e-01, ...,\n",
              "           -2.03881353e-01, -2.26933658e-01,  1.91708311e-01],\n",
              "          ...,\n",
              "          [-2.59258330e-01,  3.96711053e-03, -3.28706726e-02, ...,\n",
              "            2.14760721e-01,  3.54193263e-02, -1.66307494e-01],\n",
              "          [-1.97031066e-01,  5.42805120e-02, -1.33738890e-01, ...,\n",
              "           -7.03982413e-02, -9.03976932e-02,  7.33281672e-02],\n",
              "          [-6.89094365e-02, -8.90701190e-02,  8.84683877e-02, ...,\n",
              "           -2.34497249e-01, -6.92045595e-03, -6.15909398e-02]]],\n",
              " \n",
              " \n",
              "        [[[ 2.67320294e-02, -6.29187152e-02,  2.36631595e-02, ...,\n",
              "            2.82212645e-02,  2.46168450e-01, -8.24675802e-03],\n",
              "          [ 1.59855243e-02,  1.35773625e-02,  1.42910285e-03, ...,\n",
              "           -1.21641960e-02,  7.03078881e-03, -7.96900131e-03],\n",
              "          [-1.13741912e-01,  6.91534625e-03,  1.53053597e-01, ...,\n",
              "            1.45695195e-01, -3.81039113e-01, -2.96791226e-01],\n",
              "          ...,\n",
              "          [-1.99856043e-01,  1.86146908e-02, -1.03503466e-01, ...,\n",
              "           -3.54520679e-01,  9.21237245e-02,  2.31711636e-03],\n",
              "          [-2.83738282e-02, -6.75771311e-02,  1.10488586e-01, ...,\n",
              "           -1.54305056e-01, -4.78468388e-02,  8.10820088e-02],\n",
              "          [ 1.12487085e-01, -2.39309464e-02,  5.10983961e-03, ...,\n",
              "           -2.36497521e-01,  3.17623705e-01, -2.05711111e-01]],\n",
              " \n",
              "         [[ 1.13883294e-01,  4.46232297e-02,  2.26473138e-01, ...,\n",
              "            3.60598229e-02,  1.41833380e-01,  1.31654814e-01],\n",
              "          [-7.27630407e-02,  6.39721453e-02, -5.10229990e-02, ...,\n",
              "            4.68235351e-02, -3.25186439e-02, -1.28640635e-02],\n",
              "          [ 9.27268863e-02,  4.92053032e-02, -3.41081917e-01, ...,\n",
              "            5.80753535e-02, -1.12677284e-01, -2.57398218e-01],\n",
              "          ...,\n",
              "          [-2.18099937e-01,  5.98838180e-02, -3.03996969e-02, ...,\n",
              "            3.96452546e-02,  1.84445277e-01, -7.19273463e-02],\n",
              "          [-1.13537334e-01, -3.36650982e-02, -1.12100676e-01, ...,\n",
              "           -4.35966067e-02,  1.95750952e-01,  2.70615160e-01],\n",
              "          [ 8.48068222e-02, -2.59420136e-03,  2.74770018e-02, ...,\n",
              "           -3.20584550e-02,  1.82101294e-01,  1.01945817e-01]],\n",
              " \n",
              "         [[ 1.07084326e-01, -3.94223072e-02, -1.71050560e-02, ...,\n",
              "           -8.24615210e-02,  1.78155363e-01, -7.29151582e-03],\n",
              "          [-1.30782165e-02,  3.37148341e-03, -4.33340855e-02, ...,\n",
              "            2.74817795e-02,  6.47698641e-02, -6.38586748e-03],\n",
              "          [ 1.96308881e-01,  3.79487202e-02, -1.86120450e-01, ...,\n",
              "           -2.03681830e-02, -2.09463730e-01, -4.26966995e-02],\n",
              "          ...,\n",
              "          [-2.46635079e-01, -1.09754866e-02,  4.87920679e-02, ...,\n",
              "            1.88035607e-01,  1.47232234e-01, -1.21546790e-01],\n",
              "          [-6.70678914e-02,  1.39410533e-02,  1.46393403e-01, ...,\n",
              "           -2.39278413e-02,  4.94362228e-02,  9.84685272e-02],\n",
              "          [ 3.41609754e-02, -7.25556761e-02, -1.47052824e-01, ...,\n",
              "           -1.63626984e-01,  1.38008446e-01,  5.84737808e-02]]]],\n",
              "       dtype=float32),\n",
              " array([ 0.07733439, -0.02769695, -0.0558785 , -0.0691321 , -0.05300375,\n",
              "        -0.20184645, -0.0656068 , -0.04108642, -0.04172626,  0.06439504,\n",
              "        -0.08513062,  0.12662542, -0.04466119, -0.13189027, -0.05963803,\n",
              "        -0.19635187,  0.07325087, -0.05333302, -0.04058301, -0.01812411,\n",
              "        -0.08681315,  0.3053283 , -0.05046772, -0.04383922, -0.07324312,\n",
              "        -0.0275938 , -0.03474191, -0.02090467, -0.15034294,  0.00469923,\n",
              "        -0.03262257, -0.10866646, -0.0489051 , -0.15921614, -0.1681062 ,\n",
              "        -0.03149793,  0.01230098, -0.00390086,  0.13134813,  0.18588649,\n",
              "        -0.06086585, -0.03361643,  0.0150341 , -0.03648601, -0.07375894,\n",
              "        -0.05354277, -0.09370791, -0.03521546,  0.08508153, -0.03212685,\n",
              "         0.2780005 , -0.15030621, -0.13101034, -0.09610911,  0.07872801,\n",
              "        -0.10868488,  0.00819238,  0.05473014,  0.15361516, -0.05608909,\n",
              "        -0.07452717, -0.20934378, -0.11141901, -0.13693364], dtype=float32),\n",
              " array([[ 0.13975103,  0.04483974,  0.01771117, ...,  0.02003254,\n",
              "         -0.13057426, -0.10722278],\n",
              "        [-0.08126835,  0.01083809,  0.01572352, ...,  0.00679578,\n",
              "          0.06619968,  0.017167  ],\n",
              "        [-0.12138299, -0.0311681 ,  0.01471895, ..., -0.1208426 ,\n",
              "         -0.1591673 , -0.07450178],\n",
              "        ...,\n",
              "        [ 0.2642427 ,  0.19932133, -0.01744828, ..., -0.01364523,\n",
              "          0.17573218, -0.11371993],\n",
              "        [-0.02556624,  0.12772012, -0.00193262, ...,  0.02292963,\n",
              "         -0.13250218,  0.17872344],\n",
              "        [ 0.01823466,  0.01635515,  0.00953206, ..., -0.07548061,\n",
              "          0.07234237,  0.04346385]], dtype=float32),\n",
              " array([-1.05213873e-01,  2.35916778e-01, -5.81616396e-03,  9.51561779e-02,\n",
              "         2.78153986e-01,  2.63516128e-01,  2.18515784e-01,  2.35583141e-01,\n",
              "        -6.90450594e-02,  2.42643118e-01, -3.85780148e-02,  1.52184084e-01,\n",
              "        -1.47006601e-01,  2.98377216e-01,  2.81930089e-01, -3.38329524e-02,\n",
              "        -1.11829489e-01, -2.12238938e-01, -5.26571134e-03, -2.16278508e-01,\n",
              "         3.63663919e-02,  1.21829979e-01, -1.99113488e-01, -9.14043467e-03,\n",
              "        -3.03326361e-02,  4.04460460e-01, -2.05012441e-01, -1.93826705e-02,\n",
              "        -3.48561123e-04,  2.00811073e-01, -1.89913854e-01, -2.01473475e-01,\n",
              "        -2.04915963e-02,  2.68415242e-01, -3.48207094e-02, -6.20007552e-02,\n",
              "        -3.48631665e-02,  7.66748097e-03,  1.17146604e-01, -2.00888336e-01,\n",
              "        -4.15355228e-02, -5.99765824e-03, -1.33128077e-01,  4.48675305e-02,\n",
              "         2.08333880e-02,  2.57988185e-01, -1.29759526e-02, -1.43336684e-01,\n",
              "        -1.28489640e-02,  2.96717435e-01, -1.07608838e-02, -1.78091079e-01,\n",
              "         1.84321806e-01, -8.46667364e-02,  1.56014875e-01,  1.10379763e-01,\n",
              "         2.46719912e-01, -1.75775155e-01,  3.25977445e-01, -8.00370984e-03,\n",
              "        -8.05454701e-03,  4.90974030e-03,  3.97963077e-02, -7.42792524e-03,\n",
              "        -1.50530726e-01,  1.63331553e-01, -6.95836544e-02, -2.21458171e-02,\n",
              "        -1.28600998e-02, -3.33364278e-01, -4.34836335e-02,  1.82136863e-01,\n",
              "        -3.11509259e-02, -2.23781485e-02, -6.37262408e-03, -9.60050821e-02,\n",
              "        -1.10806329e-02, -7.68250413e-03,  1.14399604e-02, -2.31512353e-01,\n",
              "        -3.24004851e-02, -1.48184923e-02, -1.78477287e-01,  1.73730582e-01,\n",
              "        -5.30161988e-03, -8.24687257e-03, -3.13480556e-01,  6.75133988e-02,\n",
              "        -2.14579761e-01, -1.19241700e-02,  1.03208080e-01, -2.09722102e-01,\n",
              "        -2.02004746e-01,  7.44939670e-02, -3.15875001e-02,  2.82199919e-01,\n",
              "        -1.16224103e-01,  3.11133564e-01, -2.59795040e-01, -2.51844842e-02,\n",
              "        -6.18267357e-02,  1.44055009e-01, -9.76815540e-03, -9.13247466e-03,\n",
              "        -2.23462597e-01, -1.91393599e-01, -2.30497479e-01,  1.74564376e-01,\n",
              "        -2.62895048e-01,  3.07188362e-01, -4.38700169e-02, -7.71750212e-02,\n",
              "        -1.26874270e-02, -1.27222851e-01, -8.50678459e-02, -1.88001931e-01,\n",
              "         9.03762355e-02,  2.76574880e-01, -7.90557731e-03, -1.12142265e-01,\n",
              "        -1.07181557e-02,  1.43359989e-01, -1.05449259e-01, -2.32700631e-01,\n",
              "         1.86723307e-01, -3.50873917e-02,  1.52443856e-01,  3.72183353e-01],\n",
              "       dtype=float32),\n",
              " array([[ 4.31586504e-01],\n",
              "        [-4.59048718e-01],\n",
              "        [ 1.08080663e-01],\n",
              "        [-4.02875006e-01],\n",
              "        [-5.82508802e-01],\n",
              "        [-5.27025580e-01],\n",
              "        [-5.31626582e-01],\n",
              "        [-4.33660120e-01],\n",
              "        [ 4.96854126e-01],\n",
              "        [-5.33010483e-01],\n",
              "        [ 1.30157873e-01],\n",
              "        [-3.09052050e-01],\n",
              "        [ 3.73147488e-01],\n",
              "        [-4.02040988e-01],\n",
              "        [-5.80572009e-01],\n",
              "        [ 4.54007015e-02],\n",
              "        [ 3.77858192e-01],\n",
              "        [ 4.03471142e-02],\n",
              "        [ 1.75856635e-01],\n",
              "        [ 4.20721859e-01],\n",
              "        [ 3.60196650e-01],\n",
              "        [-3.87827665e-01],\n",
              "        [ 2.75898784e-01],\n",
              "        [ 2.78451480e-02],\n",
              "        [-5.69386175e-03],\n",
              "        [-6.95292175e-01],\n",
              "        [ 2.90032855e-04],\n",
              "        [ 7.71338701e-01],\n",
              "        [-7.44691566e-02],\n",
              "        [-3.41854781e-01],\n",
              "        [ 1.81037337e-01],\n",
              "        [ 2.17720449e-01],\n",
              "        [-2.53750663e-02],\n",
              "        [-5.35985768e-01],\n",
              "        [-5.51623285e-01],\n",
              "        [-1.22078033e-02],\n",
              "        [ 3.10087912e-02],\n",
              "        [ 1.57430217e-01],\n",
              "        [-2.91556031e-01],\n",
              "        [ 4.35986668e-01],\n",
              "        [ 1.81621775e-01],\n",
              "        [-2.26989426e-02],\n",
              "        [ 3.12449515e-01],\n",
              "        [-3.18754017e-01],\n",
              "        [-2.25345492e-01],\n",
              "        [-4.65448260e-01],\n",
              "        [-1.97962284e-01],\n",
              "        [ 4.10392016e-01],\n",
              "        [ 1.07155070e-01],\n",
              "        [-5.01665533e-01],\n",
              "        [ 8.75067413e-02],\n",
              "        [ 2.38545835e-01],\n",
              "        [-5.51118016e-01],\n",
              "        [ 3.68873179e-01],\n",
              "        [-2.63380349e-01],\n",
              "        [-4.31920856e-01],\n",
              "        [-4.62897032e-01],\n",
              "        [ 1.93570003e-01],\n",
              "        [-4.43933606e-01],\n",
              "        [-6.86660558e-02],\n",
              "        [ 4.96725366e-02],\n",
              "        [-9.86815393e-02],\n",
              "        [-2.17770845e-01],\n",
              "        [ 5.23985922e-02],\n",
              "        [ 3.46793920e-01],\n",
              "        [-5.20174086e-01],\n",
              "        [ 4.75665182e-01],\n",
              "        [ 1.51751994e-03],\n",
              "        [ 1.40180126e-01],\n",
              "        [ 2.89023697e-01],\n",
              "        [ 1.86293274e-01],\n",
              "        [-2.73681432e-01],\n",
              "        [ 4.93680060e-01],\n",
              "        [-1.42317981e-01],\n",
              "        [-1.10493749e-02],\n",
              "        [ 6.62132978e-01],\n",
              "        [ 3.48114520e-02],\n",
              "        [ 7.47399867e-01],\n",
              "        [-2.26572692e-01],\n",
              "        [ 6.17848709e-03],\n",
              "        [ 1.01690836e-01],\n",
              "        [-3.24285440e-02],\n",
              "        [ 2.30127275e-01],\n",
              "        [-4.82583255e-01],\n",
              "        [ 5.52413091e-02],\n",
              "        [-5.54892495e-02],\n",
              "        [ 2.91734785e-01],\n",
              "        [-3.59349519e-01],\n",
              "        [ 2.41698146e-01],\n",
              "        [-3.89909633e-02],\n",
              "        [-3.08433950e-01],\n",
              "        [ 2.16700926e-01],\n",
              "        [ 5.30514538e-01],\n",
              "        [-3.21909457e-01],\n",
              "        [ 2.47695535e-01],\n",
              "        [-5.11424363e-01],\n",
              "        [ 4.97475177e-01],\n",
              "        [-5.54871321e-01],\n",
              "        [ 4.15162109e-02],\n",
              "        [ 1.82453915e-01],\n",
              "        [ 5.37970006e-01],\n",
              "        [-6.08571887e-01],\n",
              "        [ 1.22051321e-01],\n",
              "        [ 4.68331156e-03],\n",
              "        [ 1.58377558e-01],\n",
              "        [ 6.36858642e-01],\n",
              "        [ 4.28762510e-02],\n",
              "        [-3.90293479e-01],\n",
              "        [ 2.22018108e-01],\n",
              "        [-3.93489689e-01],\n",
              "        [ 5.07320743e-03],\n",
              "        [-1.18089132e-01],\n",
              "        [ 4.70845252e-02],\n",
              "        [ 4.77177888e-01],\n",
              "        [-5.06292701e-01],\n",
              "        [ 5.73759556e-01],\n",
              "        [-3.82936269e-01],\n",
              "        [-4.75114495e-01],\n",
              "        [ 3.29372799e-03],\n",
              "        [ 4.88503307e-01],\n",
              "        [-1.86843321e-01],\n",
              "        [-3.37948978e-01],\n",
              "        [ 4.76773202e-01],\n",
              "        [ 4.34843451e-01],\n",
              "        [-4.39005733e-01],\n",
              "        [ 3.05317849e-01],\n",
              "        [-3.94399881e-01],\n",
              "        [-4.85876262e-01]], dtype=float32),\n",
              " array([-0.03577397], dtype=float32)]"
            ]
          },
          "metadata": {},
          "execution_count": 34
        }
      ]
    },
    {
      "cell_type": "code",
      "metadata": {
        "id": "ETnqlhPVyr4p",
        "colab": {
          "base_uri": "https://localhost:8080/",
          "height": 90
        },
        "outputId": "b3e53965-e929-4b27-8779-17ad34a35aa5"
      },
      "source": [
        "from google.colab import files\n",
        "\n",
        "uploaded = files.upload()\n",
        "\n",
        "for fn in uploaded.keys():\n",
        "  print('User uploaded file \"{name}\" with length {length} bytes'.format(\n",
        "      name=fn, length=len(uploaded[fn])))"
      ],
      "execution_count": null,
      "outputs": [
        {
          "output_type": "display_data",
          "data": {
            "text/plain": [
              "<IPython.core.display.HTML object>"
            ],
            "text/html": [
              "\n",
              "     <input type=\"file\" id=\"files-5ec3b582-a5be-4181-9d7d-4f854076bed8\" name=\"files[]\" multiple disabled\n",
              "        style=\"border:none\" />\n",
              "     <output id=\"result-5ec3b582-a5be-4181-9d7d-4f854076bed8\">\n",
              "      Upload widget is only available when the cell has been executed in the\n",
              "      current browser session. Please rerun this cell to enable.\n",
              "      </output>\n",
              "      <script>// Copyright 2017 Google LLC\n",
              "//\n",
              "// Licensed under the Apache License, Version 2.0 (the \"License\");\n",
              "// you may not use this file except in compliance with the License.\n",
              "// You may obtain a copy of the License at\n",
              "//\n",
              "//      http://www.apache.org/licenses/LICENSE-2.0\n",
              "//\n",
              "// Unless required by applicable law or agreed to in writing, software\n",
              "// distributed under the License is distributed on an \"AS IS\" BASIS,\n",
              "// WITHOUT WARRANTIES OR CONDITIONS OF ANY KIND, either express or implied.\n",
              "// See the License for the specific language governing permissions and\n",
              "// limitations under the License.\n",
              "\n",
              "/**\n",
              " * @fileoverview Helpers for google.colab Python module.\n",
              " */\n",
              "(function(scope) {\n",
              "function span(text, styleAttributes = {}) {\n",
              "  const element = document.createElement('span');\n",
              "  element.textContent = text;\n",
              "  for (const key of Object.keys(styleAttributes)) {\n",
              "    element.style[key] = styleAttributes[key];\n",
              "  }\n",
              "  return element;\n",
              "}\n",
              "\n",
              "// Max number of bytes which will be uploaded at a time.\n",
              "const MAX_PAYLOAD_SIZE = 100 * 1024;\n",
              "\n",
              "function _uploadFiles(inputId, outputId) {\n",
              "  const steps = uploadFilesStep(inputId, outputId);\n",
              "  const outputElement = document.getElementById(outputId);\n",
              "  // Cache steps on the outputElement to make it available for the next call\n",
              "  // to uploadFilesContinue from Python.\n",
              "  outputElement.steps = steps;\n",
              "\n",
              "  return _uploadFilesContinue(outputId);\n",
              "}\n",
              "\n",
              "// This is roughly an async generator (not supported in the browser yet),\n",
              "// where there are multiple asynchronous steps and the Python side is going\n",
              "// to poll for completion of each step.\n",
              "// This uses a Promise to block the python side on completion of each step,\n",
              "// then passes the result of the previous step as the input to the next step.\n",
              "function _uploadFilesContinue(outputId) {\n",
              "  const outputElement = document.getElementById(outputId);\n",
              "  const steps = outputElement.steps;\n",
              "\n",
              "  const next = steps.next(outputElement.lastPromiseValue);\n",
              "  return Promise.resolve(next.value.promise).then((value) => {\n",
              "    // Cache the last promise value to make it available to the next\n",
              "    // step of the generator.\n",
              "    outputElement.lastPromiseValue = value;\n",
              "    return next.value.response;\n",
              "  });\n",
              "}\n",
              "\n",
              "/**\n",
              " * Generator function which is called between each async step of the upload\n",
              " * process.\n",
              " * @param {string} inputId Element ID of the input file picker element.\n",
              " * @param {string} outputId Element ID of the output display.\n",
              " * @return {!Iterable<!Object>} Iterable of next steps.\n",
              " */\n",
              "function* uploadFilesStep(inputId, outputId) {\n",
              "  const inputElement = document.getElementById(inputId);\n",
              "  inputElement.disabled = false;\n",
              "\n",
              "  const outputElement = document.getElementById(outputId);\n",
              "  outputElement.innerHTML = '';\n",
              "\n",
              "  const pickedPromise = new Promise((resolve) => {\n",
              "    inputElement.addEventListener('change', (e) => {\n",
              "      resolve(e.target.files);\n",
              "    });\n",
              "  });\n",
              "\n",
              "  const cancel = document.createElement('button');\n",
              "  inputElement.parentElement.appendChild(cancel);\n",
              "  cancel.textContent = 'Cancel upload';\n",
              "  const cancelPromise = new Promise((resolve) => {\n",
              "    cancel.onclick = () => {\n",
              "      resolve(null);\n",
              "    };\n",
              "  });\n",
              "\n",
              "  // Wait for the user to pick the files.\n",
              "  const files = yield {\n",
              "    promise: Promise.race([pickedPromise, cancelPromise]),\n",
              "    response: {\n",
              "      action: 'starting',\n",
              "    }\n",
              "  };\n",
              "\n",
              "  cancel.remove();\n",
              "\n",
              "  // Disable the input element since further picks are not allowed.\n",
              "  inputElement.disabled = true;\n",
              "\n",
              "  if (!files) {\n",
              "    return {\n",
              "      response: {\n",
              "        action: 'complete',\n",
              "      }\n",
              "    };\n",
              "  }\n",
              "\n",
              "  for (const file of files) {\n",
              "    const li = document.createElement('li');\n",
              "    li.append(span(file.name, {fontWeight: 'bold'}));\n",
              "    li.append(span(\n",
              "        `(${file.type || 'n/a'}) - ${file.size} bytes, ` +\n",
              "        `last modified: ${\n",
              "            file.lastModifiedDate ? file.lastModifiedDate.toLocaleDateString() :\n",
              "                                    'n/a'} - `));\n",
              "    const percent = span('0% done');\n",
              "    li.appendChild(percent);\n",
              "\n",
              "    outputElement.appendChild(li);\n",
              "\n",
              "    const fileDataPromise = new Promise((resolve) => {\n",
              "      const reader = new FileReader();\n",
              "      reader.onload = (e) => {\n",
              "        resolve(e.target.result);\n",
              "      };\n",
              "      reader.readAsArrayBuffer(file);\n",
              "    });\n",
              "    // Wait for the data to be ready.\n",
              "    let fileData = yield {\n",
              "      promise: fileDataPromise,\n",
              "      response: {\n",
              "        action: 'continue',\n",
              "      }\n",
              "    };\n",
              "\n",
              "    // Use a chunked sending to avoid message size limits. See b/62115660.\n",
              "    let position = 0;\n",
              "    do {\n",
              "      const length = Math.min(fileData.byteLength - position, MAX_PAYLOAD_SIZE);\n",
              "      const chunk = new Uint8Array(fileData, position, length);\n",
              "      position += length;\n",
              "\n",
              "      const base64 = btoa(String.fromCharCode.apply(null, chunk));\n",
              "      yield {\n",
              "        response: {\n",
              "          action: 'append',\n",
              "          file: file.name,\n",
              "          data: base64,\n",
              "        },\n",
              "      };\n",
              "\n",
              "      let percentDone = fileData.byteLength === 0 ?\n",
              "          100 :\n",
              "          Math.round((position / fileData.byteLength) * 100);\n",
              "      percent.textContent = `${percentDone}% done`;\n",
              "\n",
              "    } while (position < fileData.byteLength);\n",
              "  }\n",
              "\n",
              "  // All done.\n",
              "  yield {\n",
              "    response: {\n",
              "      action: 'complete',\n",
              "    }\n",
              "  };\n",
              "}\n",
              "\n",
              "scope.google = scope.google || {};\n",
              "scope.google.colab = scope.google.colab || {};\n",
              "scope.google.colab._files = {\n",
              "  _uploadFiles,\n",
              "  _uploadFilesContinue,\n",
              "};\n",
              "})(self);\n",
              "</script> "
            ]
          },
          "metadata": {}
        },
        {
          "output_type": "stream",
          "name": "stdout",
          "text": [
            "Saving cat.jpg to cat.jpg\n",
            "User uploaded file \"cat.jpg\" with length 9549 bytes\n"
          ]
        }
      ]
    },
    {
      "cell_type": "markdown",
      "metadata": {
        "id": "X4VmP3g-At9F"
      },
      "source": [
        "## 06: Prediction on new class"
      ]
    },
    {
      "cell_type": "code",
      "metadata": {
        "id": "7LmaCJ9m9Jpb"
      },
      "source": [
        "from keras.preprocessing import image\n",
        "import numpy as np"
      ],
      "execution_count": null,
      "outputs": []
    },
    {
      "cell_type": "code",
      "metadata": {
        "id": "cezxVvTu9ewc",
        "colab": {
          "base_uri": "https://localhost:8080/"
        },
        "outputId": "4702c38b-45bb-415a-9bc2-366edca5383a"
      },
      "source": [
        "!wget https://www.dropbox.com/s/qr2girs8xh6ay8f/test_image.jpeg"
      ],
      "execution_count": null,
      "outputs": [
        {
          "output_type": "stream",
          "name": "stdout",
          "text": [
            "--2023-08-16 01:21:32--  https://www.dropbox.com/s/qr2girs8xh6ay8f/test_image.jpeg\n",
            "Resolving www.dropbox.com (www.dropbox.com)... 162.125.1.18, 2620:100:6016:18::a27d:112\n",
            "Connecting to www.dropbox.com (www.dropbox.com)|162.125.1.18|:443... connected.\n",
            "HTTP request sent, awaiting response... 302 Found\n",
            "Location: /s/raw/qr2girs8xh6ay8f/test_image.jpeg [following]\n",
            "--2023-08-16 01:21:32--  https://www.dropbox.com/s/raw/qr2girs8xh6ay8f/test_image.jpeg\n",
            "Reusing existing connection to www.dropbox.com:443.\n",
            "HTTP request sent, awaiting response... 302 Found\n",
            "Location: https://uc05d1beedbc74d69c12519b1887.dl.dropboxusercontent.com/cd/0/inline/CB7ZF-Hm3T-MM7vYyL-K6h-G-nFc1ry7uYp3MbWeW99dPeAOORTzCHXGNBHl_B4o7_WpG1YTZaltGBVz1PNejBJFDwgwnCTSAu4FIn_AeeRE_PMX4fpbXY8g5zpi5oHk9Vc/file# [following]\n",
            "--2023-08-16 01:21:33--  https://uc05d1beedbc74d69c12519b1887.dl.dropboxusercontent.com/cd/0/inline/CB7ZF-Hm3T-MM7vYyL-K6h-G-nFc1ry7uYp3MbWeW99dPeAOORTzCHXGNBHl_B4o7_WpG1YTZaltGBVz1PNejBJFDwgwnCTSAu4FIn_AeeRE_PMX4fpbXY8g5zpi5oHk9Vc/file\n",
            "Resolving uc05d1beedbc74d69c12519b1887.dl.dropboxusercontent.com (uc05d1beedbc74d69c12519b1887.dl.dropboxusercontent.com)... 162.125.1.15, 2620:100:6016:15::a27d:10f\n",
            "Connecting to uc05d1beedbc74d69c12519b1887.dl.dropboxusercontent.com (uc05d1beedbc74d69c12519b1887.dl.dropboxusercontent.com)|162.125.1.15|:443... connected.\n",
            "HTTP request sent, awaiting response... 200 OK\n",
            "Length: 23988 (23K) [image/jpeg]\n",
            "Saving to: ‘test_image.jpeg’\n",
            "\n",
            "test_image.jpeg     100%[===================>]  23.43K  --.-KB/s    in 0.07s   \n",
            "\n",
            "2023-08-16 01:21:33 (349 KB/s) - ‘test_image.jpeg’ saved [23988/23988]\n",
            "\n"
          ]
        }
      ]
    },
    {
      "cell_type": "markdown",
      "metadata": {
        "id": "MI-QwN2nBkzF"
      },
      "source": [
        "<h4> Test Image </h4>\n",
        "<center><img src=\"https://encrypted-tbn0.gstatic.com/images?q=tbn:ANd9GcRJTD5vZOC6UiCvEwqHgpnRrdPpd-nbB185-3vD-NlZmA&s\" ></img></center>\n",
        "\n"
      ]
    },
    {
      "cell_type": "code",
      "metadata": {
        "id": "XFDq0zsu9YGL"
      },
      "source": [
        "from keras.utils import load_img\n",
        "\n",
        "test_image = load_img('cat.jpg', target_size=(64,64))"
      ],
      "execution_count": null,
      "outputs": []
    },
    {
      "cell_type": "code",
      "metadata": {
        "id": "IJfnRuAg_QVF"
      },
      "source": [
        "import keras.utils as image\n",
        "test_image = image.img_to_array(test_image)"
      ],
      "execution_count": null,
      "outputs": []
    },
    {
      "cell_type": "code",
      "metadata": {
        "id": "vWxY_Z5p_0z9"
      },
      "source": [
        "test_image = np.expand_dims(test_image, axis=0)"
      ],
      "execution_count": null,
      "outputs": []
    },
    {
      "cell_type": "code",
      "metadata": {
        "id": "DKdqrb015LFr",
        "colab": {
          "base_uri": "https://localhost:8080/",
          "height": 292
        },
        "outputId": "83dd127d-6020-4697-b1a1-cc83a73a7f47"
      },
      "source": [
        "from IPython.display import Image\n",
        "Image(filename=\"cat.jpg\")"
      ],
      "execution_count": null,
      "outputs": [
        {
          "output_type": "execute_result",
          "data": {
            "image/jpeg": "[encoded data removed]",
            "text/plain": [
              "<IPython.core.display.Image object>"
            ]
          },
          "metadata": {},
          "execution_count": 43
        }
      ]
    },
    {
      "cell_type": "code",
      "metadata": {
        "id": "JBJT87gH_sD6",
        "colab": {
          "base_uri": "https://localhost:8080/"
        },
        "outputId": "e7bb8cba-1b0b-438b-bb08-ca857e32c301"
      },
      "source": [
        "result = classifier.predict(test_image)"
      ],
      "execution_count": null,
      "outputs": [
        {
          "output_type": "stream",
          "name": "stdout",
          "text": [
            "1/1 [==============================] - 0s 163ms/step\n"
          ]
        }
      ]
    },
    {
      "cell_type": "code",
      "metadata": {
        "id": "N2vVAlm0_wc3",
        "colab": {
          "base_uri": "https://localhost:8080/"
        },
        "outputId": "003ec3e9-5cda-4c66-91b4-3b549dc76e98"
      },
      "source": [
        "training_set.class_indices"
      ],
      "execution_count": null,
      "outputs": [
        {
          "output_type": "execute_result",
          "data": {
            "text/plain": [
              "{'cats': 0, 'dogs': 1}"
            ]
          },
          "metadata": {},
          "execution_count": 45
        }
      ]
    },
    {
      "cell_type": "code",
      "metadata": {
        "id": "wAtGtIAHxxFK",
        "colab": {
          "base_uri": "https://localhost:8080/"
        },
        "outputId": "af3c7c79-d8dd-4d6a-edf9-5d7fc2c99481"
      },
      "source": [
        " result"
      ],
      "execution_count": null,
      "outputs": [
        {
          "output_type": "execute_result",
          "data": {
            "text/plain": [
              "array([[0.]], dtype=float32)"
            ]
          },
          "metadata": {},
          "execution_count": 46
        }
      ]
    },
    {
      "cell_type": "code",
      "metadata": {
        "id": "Cg7PpF99ALPo",
        "colab": {
          "base_uri": "https://localhost:8080/"
        },
        "outputId": "97432f10-cc36-45d7-88b6-19d3c6416512"
      },
      "source": [
        "if result[0][0] == 0:\n",
        "  print(\"Cat\")\n",
        "else:\n",
        "  print(\"Dog\")"
      ],
      "execution_count": null,
      "outputs": [
        {
          "output_type": "stream",
          "name": "stdout",
          "text": [
            "Cat\n"
          ]
        }
      ]
    },
    {
      "cell_type": "code",
      "metadata": {
        "id": "S_6dh1GTENNF",
        "colab": {
          "base_uri": "https://localhost:8080/"
        },
        "outputId": "c866ee79-387c-41a4-df8b-00cfaa7e8ed6"
      },
      "source": [
        "type(result)"
      ],
      "execution_count": null,
      "outputs": [
        {
          "output_type": "execute_result",
          "data": {
            "text/plain": [
              "numpy.ndarray"
            ]
          },
          "metadata": {},
          "execution_count": 48
        }
      ]
    },
    {
      "cell_type": "code",
      "metadata": {
        "id": "eapX0AfDERwQ",
        "colab": {
          "base_uri": "https://localhost:8080/"
        },
        "outputId": "40144865-ed6c-4bbd-b989-2eec2910eefc"
      },
      "source": [
        "result"
      ],
      "execution_count": null,
      "outputs": [
        {
          "output_type": "execute_result",
          "data": {
            "text/plain": [
              "array([[0.]], dtype=float32)"
            ]
          },
          "metadata": {},
          "execution_count": 49
        }
      ]
    }
  ]
}